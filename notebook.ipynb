{
 "cells": [
  {
   "cell_type": "markdown",
   "metadata": {},
   "source": [
    "# King County Housing Model\n",
    "<img src=images/row-of-houses.jpg alt=\"image of a string of paper houses by u_f8awlsnb on Pixabay\" width=\"500\"/>"
   ]
  },
  {
   "cell_type": "markdown",
   "metadata": {},
   "source": [
    "## Overview\n",
    "\n",
    "\n",
    "The King County House Sales dataset is used to build a linear regression model to help home buyers make tradeoffs in finding their next home within their budget. The biggest factor in determining price is the location of the home with some zipcodes increasing the house by over 100%, while others will decrease the price by 40%. Other important features were square footage, number of bathrooms and whether the home had been renovated. This model accounts for 85% of the variability in house prices, but could be further refined with more thorough data preparation before building it out into an application for buyers to use to see how their preferred home features affect the price. \n",
    "\n",
    "\n",
    "\n",
    "\n",
    "\n",
    "## Business Problem\n",
    "\n",
    "<img src=images/Dog-house.jpg alt=\"editorial cartoon of couple house hunting in seattle looking at the affordable dog house, by David Horsey in the Seattle Times\" width=\"500\"/>\n",
    "\n",
    "Seattle is the fastest growing city in the country, with a population increase of almost 30% from 2010 to 2020. The surrounding King County ranks 3rd in the country for growth with a population growth of 16% in the same time. All this growth has increased demand for housing and caused home prices to skyrocket. The median house price in Seattle rose 93% from 2012-2018. \n",
    "\n",
    "This is a difficult market for home buyers, so this project will help buyers decide what trade-offs are worthwhile to find the best house for their needs in their price range. "
   ]
  },
  {
   "cell_type": "markdown",
   "metadata": {},
   "source": [
    "## Data Understanding\n",
    "\n",
    "The data for this project represent home sales in King County, Washington between May 2014 and May 2015. The dataset includes basic house information such as the number of bedrooms & bathrooms, total area of the living space (divided into basement and above ground) & the lot, and year it was built, sales information like price & number of times it was viewed, and neighborhood information, like zipcode and information about the house and lot size of the 15 nearest neighbors.\n",
    "\n",
    "I will use this data to build a model that will predict house prices based on the available variables.\n",
    "\n"
   ]
  },
  {
   "cell_type": "code",
   "execution_count": 1,
   "metadata": {},
   "outputs": [],
   "source": [
    "import pandas as pd\n",
    "import numpy as np\n",
    "import matplotlib.pyplot as plt\n",
    "import seaborn as sns\n",
    "import utils as ut\n",
    "\n",
    "from sklearn.model_selection import train_test_split\n",
    "from sklearn.linear_model import LinearRegression, Ridge\n",
    "from sklearn.metrics import r2_score, mean_absolute_error, mean_squared_error\n",
    "from sklearn.feature_selection import RFE\n",
    "from sklearn.preprocessing import RobustScaler\n",
    "from sklearn.dummy import DummyRegressor\n",
    "from sklearn.neighbors import LocalOutlierFactor\n",
    "\n",
    "from yellowbrick.regressor import ResidualsPlot\n",
    "\n",
    "import statsmodels.api as sm\n",
    "\n",
    "pd.set_option('display.float_format', lambda x: f'{x:.2f}')\n",
    "%matplotlib inline\n",
    "plt.style.use('seaborn-darkgrid')"
   ]
  },
  {
   "cell_type": "code",
   "execution_count": 2,
   "metadata": {
    "scrolled": true
   },
   "outputs": [
    {
     "data": {
      "text/html": [
       "<div>\n",
       "<style scoped>\n",
       "    .dataframe tbody tr th:only-of-type {\n",
       "        vertical-align: middle;\n",
       "    }\n",
       "\n",
       "    .dataframe tbody tr th {\n",
       "        vertical-align: top;\n",
       "    }\n",
       "\n",
       "    .dataframe thead th {\n",
       "        text-align: right;\n",
       "    }\n",
       "</style>\n",
       "<table border=\"1\" class=\"dataframe\">\n",
       "  <thead>\n",
       "    <tr style=\"text-align: right;\">\n",
       "      <th></th>\n",
       "      <th>id</th>\n",
       "      <th>date</th>\n",
       "      <th>price</th>\n",
       "      <th>bedrooms</th>\n",
       "      <th>bathrooms</th>\n",
       "      <th>sqft_living</th>\n",
       "      <th>sqft_lot</th>\n",
       "      <th>floors</th>\n",
       "      <th>waterfront</th>\n",
       "      <th>view</th>\n",
       "      <th>...</th>\n",
       "      <th>grade</th>\n",
       "      <th>sqft_above</th>\n",
       "      <th>sqft_basement</th>\n",
       "      <th>yr_built</th>\n",
       "      <th>yr_renovated</th>\n",
       "      <th>zipcode</th>\n",
       "      <th>lat</th>\n",
       "      <th>long</th>\n",
       "      <th>sqft_living15</th>\n",
       "      <th>sqft_lot15</th>\n",
       "    </tr>\n",
       "  </thead>\n",
       "  <tbody>\n",
       "    <tr>\n",
       "      <th>0</th>\n",
       "      <td>7129300520</td>\n",
       "      <td>10/13/2014</td>\n",
       "      <td>221900.00</td>\n",
       "      <td>3</td>\n",
       "      <td>1.00</td>\n",
       "      <td>1180</td>\n",
       "      <td>5650</td>\n",
       "      <td>1.00</td>\n",
       "      <td>nan</td>\n",
       "      <td>0.00</td>\n",
       "      <td>...</td>\n",
       "      <td>7</td>\n",
       "      <td>1180</td>\n",
       "      <td>0.0</td>\n",
       "      <td>1955</td>\n",
       "      <td>0.00</td>\n",
       "      <td>98178</td>\n",
       "      <td>47.51</td>\n",
       "      <td>-122.26</td>\n",
       "      <td>1340</td>\n",
       "      <td>5650</td>\n",
       "    </tr>\n",
       "    <tr>\n",
       "      <th>1</th>\n",
       "      <td>6414100192</td>\n",
       "      <td>12/9/2014</td>\n",
       "      <td>538000.00</td>\n",
       "      <td>3</td>\n",
       "      <td>2.25</td>\n",
       "      <td>2570</td>\n",
       "      <td>7242</td>\n",
       "      <td>2.00</td>\n",
       "      <td>0.00</td>\n",
       "      <td>0.00</td>\n",
       "      <td>...</td>\n",
       "      <td>7</td>\n",
       "      <td>2170</td>\n",
       "      <td>400.0</td>\n",
       "      <td>1951</td>\n",
       "      <td>1991.00</td>\n",
       "      <td>98125</td>\n",
       "      <td>47.72</td>\n",
       "      <td>-122.32</td>\n",
       "      <td>1690</td>\n",
       "      <td>7639</td>\n",
       "    </tr>\n",
       "    <tr>\n",
       "      <th>2</th>\n",
       "      <td>5631500400</td>\n",
       "      <td>2/25/2015</td>\n",
       "      <td>180000.00</td>\n",
       "      <td>2</td>\n",
       "      <td>1.00</td>\n",
       "      <td>770</td>\n",
       "      <td>10000</td>\n",
       "      <td>1.00</td>\n",
       "      <td>0.00</td>\n",
       "      <td>0.00</td>\n",
       "      <td>...</td>\n",
       "      <td>6</td>\n",
       "      <td>770</td>\n",
       "      <td>0.0</td>\n",
       "      <td>1933</td>\n",
       "      <td>nan</td>\n",
       "      <td>98028</td>\n",
       "      <td>47.74</td>\n",
       "      <td>-122.23</td>\n",
       "      <td>2720</td>\n",
       "      <td>8062</td>\n",
       "    </tr>\n",
       "    <tr>\n",
       "      <th>3</th>\n",
       "      <td>2487200875</td>\n",
       "      <td>12/9/2014</td>\n",
       "      <td>604000.00</td>\n",
       "      <td>4</td>\n",
       "      <td>3.00</td>\n",
       "      <td>1960</td>\n",
       "      <td>5000</td>\n",
       "      <td>1.00</td>\n",
       "      <td>0.00</td>\n",
       "      <td>0.00</td>\n",
       "      <td>...</td>\n",
       "      <td>7</td>\n",
       "      <td>1050</td>\n",
       "      <td>910.0</td>\n",
       "      <td>1965</td>\n",
       "      <td>0.00</td>\n",
       "      <td>98136</td>\n",
       "      <td>47.52</td>\n",
       "      <td>-122.39</td>\n",
       "      <td>1360</td>\n",
       "      <td>5000</td>\n",
       "    </tr>\n",
       "    <tr>\n",
       "      <th>4</th>\n",
       "      <td>1954400510</td>\n",
       "      <td>2/18/2015</td>\n",
       "      <td>510000.00</td>\n",
       "      <td>3</td>\n",
       "      <td>2.00</td>\n",
       "      <td>1680</td>\n",
       "      <td>8080</td>\n",
       "      <td>1.00</td>\n",
       "      <td>0.00</td>\n",
       "      <td>0.00</td>\n",
       "      <td>...</td>\n",
       "      <td>8</td>\n",
       "      <td>1680</td>\n",
       "      <td>0.0</td>\n",
       "      <td>1987</td>\n",
       "      <td>0.00</td>\n",
       "      <td>98074</td>\n",
       "      <td>47.62</td>\n",
       "      <td>-122.05</td>\n",
       "      <td>1800</td>\n",
       "      <td>7503</td>\n",
       "    </tr>\n",
       "  </tbody>\n",
       "</table>\n",
       "<p>5 rows × 21 columns</p>\n",
       "</div>"
      ],
      "text/plain": [
       "           id        date     price  bedrooms  bathrooms  sqft_living  \\\n",
       "0  7129300520  10/13/2014 221900.00         3       1.00         1180   \n",
       "1  6414100192   12/9/2014 538000.00         3       2.25         2570   \n",
       "2  5631500400   2/25/2015 180000.00         2       1.00          770   \n",
       "3  2487200875   12/9/2014 604000.00         4       3.00         1960   \n",
       "4  1954400510   2/18/2015 510000.00         3       2.00         1680   \n",
       "\n",
       "   sqft_lot  floors  waterfront  view  ...  grade  sqft_above  sqft_basement  \\\n",
       "0      5650    1.00         nan  0.00  ...      7        1180            0.0   \n",
       "1      7242    2.00        0.00  0.00  ...      7        2170          400.0   \n",
       "2     10000    1.00        0.00  0.00  ...      6         770            0.0   \n",
       "3      5000    1.00        0.00  0.00  ...      7        1050          910.0   \n",
       "4      8080    1.00        0.00  0.00  ...      8        1680            0.0   \n",
       "\n",
       "  yr_built  yr_renovated  zipcode   lat    long  sqft_living15  sqft_lot15  \n",
       "0     1955          0.00    98178 47.51 -122.26           1340        5650  \n",
       "1     1951       1991.00    98125 47.72 -122.32           1690        7639  \n",
       "2     1933           nan    98028 47.74 -122.23           2720        8062  \n",
       "3     1965          0.00    98136 47.52 -122.39           1360        5000  \n",
       "4     1987          0.00    98074 47.62 -122.05           1800        7503  \n",
       "\n",
       "[5 rows x 21 columns]"
      ]
     },
     "execution_count": 2,
     "metadata": {},
     "output_type": "execute_result"
    }
   ],
   "source": [
    "# Load and look at data\n",
    "data = pd.read_csv('data/kc_house_data.csv')\n",
    "data.head()"
   ]
  },
  {
   "cell_type": "code",
   "execution_count": 3,
   "metadata": {},
   "outputs": [
    {
     "data": {
      "text/html": [
       "<div>\n",
       "<style scoped>\n",
       "    .dataframe tbody tr th:only-of-type {\n",
       "        vertical-align: middle;\n",
       "    }\n",
       "\n",
       "    .dataframe tbody tr th {\n",
       "        vertical-align: top;\n",
       "    }\n",
       "\n",
       "    .dataframe thead th {\n",
       "        text-align: right;\n",
       "    }\n",
       "</style>\n",
       "<table border=\"1\" class=\"dataframe\">\n",
       "  <thead>\n",
       "    <tr style=\"text-align: right;\">\n",
       "      <th></th>\n",
       "      <th>id</th>\n",
       "      <th>price</th>\n",
       "      <th>bedrooms</th>\n",
       "      <th>bathrooms</th>\n",
       "      <th>sqft_living</th>\n",
       "      <th>sqft_lot</th>\n",
       "      <th>floors</th>\n",
       "      <th>waterfront</th>\n",
       "      <th>view</th>\n",
       "      <th>condition</th>\n",
       "      <th>grade</th>\n",
       "      <th>sqft_above</th>\n",
       "      <th>yr_built</th>\n",
       "      <th>yr_renovated</th>\n",
       "      <th>zipcode</th>\n",
       "      <th>lat</th>\n",
       "      <th>long</th>\n",
       "      <th>sqft_living15</th>\n",
       "      <th>sqft_lot15</th>\n",
       "    </tr>\n",
       "  </thead>\n",
       "  <tbody>\n",
       "    <tr>\n",
       "      <th>count</th>\n",
       "      <td>21597.00</td>\n",
       "      <td>21597.00</td>\n",
       "      <td>21597.00</td>\n",
       "      <td>21597.00</td>\n",
       "      <td>21597.00</td>\n",
       "      <td>21597.00</td>\n",
       "      <td>21597.00</td>\n",
       "      <td>19221.00</td>\n",
       "      <td>21534.00</td>\n",
       "      <td>21597.00</td>\n",
       "      <td>21597.00</td>\n",
       "      <td>21597.00</td>\n",
       "      <td>21597.00</td>\n",
       "      <td>17755.00</td>\n",
       "      <td>21597.00</td>\n",
       "      <td>21597.00</td>\n",
       "      <td>21597.00</td>\n",
       "      <td>21597.00</td>\n",
       "      <td>21597.00</td>\n",
       "    </tr>\n",
       "    <tr>\n",
       "      <th>mean</th>\n",
       "      <td>4580474287.77</td>\n",
       "      <td>540296.57</td>\n",
       "      <td>3.37</td>\n",
       "      <td>2.12</td>\n",
       "      <td>2080.32</td>\n",
       "      <td>15099.41</td>\n",
       "      <td>1.49</td>\n",
       "      <td>0.01</td>\n",
       "      <td>0.23</td>\n",
       "      <td>3.41</td>\n",
       "      <td>7.66</td>\n",
       "      <td>1788.60</td>\n",
       "      <td>1971.00</td>\n",
       "      <td>83.64</td>\n",
       "      <td>98077.95</td>\n",
       "      <td>47.56</td>\n",
       "      <td>-122.21</td>\n",
       "      <td>1986.62</td>\n",
       "      <td>12758.28</td>\n",
       "    </tr>\n",
       "    <tr>\n",
       "      <th>std</th>\n",
       "      <td>2876735715.75</td>\n",
       "      <td>367368.14</td>\n",
       "      <td>0.93</td>\n",
       "      <td>0.77</td>\n",
       "      <td>918.11</td>\n",
       "      <td>41412.64</td>\n",
       "      <td>0.54</td>\n",
       "      <td>0.09</td>\n",
       "      <td>0.77</td>\n",
       "      <td>0.65</td>\n",
       "      <td>1.17</td>\n",
       "      <td>827.76</td>\n",
       "      <td>29.38</td>\n",
       "      <td>399.95</td>\n",
       "      <td>53.51</td>\n",
       "      <td>0.14</td>\n",
       "      <td>0.14</td>\n",
       "      <td>685.23</td>\n",
       "      <td>27274.44</td>\n",
       "    </tr>\n",
       "    <tr>\n",
       "      <th>min</th>\n",
       "      <td>1000102.00</td>\n",
       "      <td>78000.00</td>\n",
       "      <td>1.00</td>\n",
       "      <td>0.50</td>\n",
       "      <td>370.00</td>\n",
       "      <td>520.00</td>\n",
       "      <td>1.00</td>\n",
       "      <td>0.00</td>\n",
       "      <td>0.00</td>\n",
       "      <td>1.00</td>\n",
       "      <td>3.00</td>\n",
       "      <td>370.00</td>\n",
       "      <td>1900.00</td>\n",
       "      <td>0.00</td>\n",
       "      <td>98001.00</td>\n",
       "      <td>47.16</td>\n",
       "      <td>-122.52</td>\n",
       "      <td>399.00</td>\n",
       "      <td>651.00</td>\n",
       "    </tr>\n",
       "    <tr>\n",
       "      <th>25%</th>\n",
       "      <td>2123049175.00</td>\n",
       "      <td>322000.00</td>\n",
       "      <td>3.00</td>\n",
       "      <td>1.75</td>\n",
       "      <td>1430.00</td>\n",
       "      <td>5040.00</td>\n",
       "      <td>1.00</td>\n",
       "      <td>0.00</td>\n",
       "      <td>0.00</td>\n",
       "      <td>3.00</td>\n",
       "      <td>7.00</td>\n",
       "      <td>1190.00</td>\n",
       "      <td>1951.00</td>\n",
       "      <td>0.00</td>\n",
       "      <td>98033.00</td>\n",
       "      <td>47.47</td>\n",
       "      <td>-122.33</td>\n",
       "      <td>1490.00</td>\n",
       "      <td>5100.00</td>\n",
       "    </tr>\n",
       "    <tr>\n",
       "      <th>50%</th>\n",
       "      <td>3904930410.00</td>\n",
       "      <td>450000.00</td>\n",
       "      <td>3.00</td>\n",
       "      <td>2.25</td>\n",
       "      <td>1910.00</td>\n",
       "      <td>7618.00</td>\n",
       "      <td>1.50</td>\n",
       "      <td>0.00</td>\n",
       "      <td>0.00</td>\n",
       "      <td>3.00</td>\n",
       "      <td>7.00</td>\n",
       "      <td>1560.00</td>\n",
       "      <td>1975.00</td>\n",
       "      <td>0.00</td>\n",
       "      <td>98065.00</td>\n",
       "      <td>47.57</td>\n",
       "      <td>-122.23</td>\n",
       "      <td>1840.00</td>\n",
       "      <td>7620.00</td>\n",
       "    </tr>\n",
       "    <tr>\n",
       "      <th>75%</th>\n",
       "      <td>7308900490.00</td>\n",
       "      <td>645000.00</td>\n",
       "      <td>4.00</td>\n",
       "      <td>2.50</td>\n",
       "      <td>2550.00</td>\n",
       "      <td>10685.00</td>\n",
       "      <td>2.00</td>\n",
       "      <td>0.00</td>\n",
       "      <td>0.00</td>\n",
       "      <td>4.00</td>\n",
       "      <td>8.00</td>\n",
       "      <td>2210.00</td>\n",
       "      <td>1997.00</td>\n",
       "      <td>0.00</td>\n",
       "      <td>98118.00</td>\n",
       "      <td>47.68</td>\n",
       "      <td>-122.12</td>\n",
       "      <td>2360.00</td>\n",
       "      <td>10083.00</td>\n",
       "    </tr>\n",
       "    <tr>\n",
       "      <th>max</th>\n",
       "      <td>9900000190.00</td>\n",
       "      <td>7700000.00</td>\n",
       "      <td>33.00</td>\n",
       "      <td>8.00</td>\n",
       "      <td>13540.00</td>\n",
       "      <td>1651359.00</td>\n",
       "      <td>3.50</td>\n",
       "      <td>1.00</td>\n",
       "      <td>4.00</td>\n",
       "      <td>5.00</td>\n",
       "      <td>13.00</td>\n",
       "      <td>9410.00</td>\n",
       "      <td>2015.00</td>\n",
       "      <td>2015.00</td>\n",
       "      <td>98199.00</td>\n",
       "      <td>47.78</td>\n",
       "      <td>-121.31</td>\n",
       "      <td>6210.00</td>\n",
       "      <td>871200.00</td>\n",
       "    </tr>\n",
       "  </tbody>\n",
       "</table>\n",
       "</div>"
      ],
      "text/plain": [
       "                 id      price  bedrooms  bathrooms  sqft_living   sqft_lot  \\\n",
       "count      21597.00   21597.00  21597.00   21597.00     21597.00   21597.00   \n",
       "mean  4580474287.77  540296.57      3.37       2.12      2080.32   15099.41   \n",
       "std   2876735715.75  367368.14      0.93       0.77       918.11   41412.64   \n",
       "min      1000102.00   78000.00      1.00       0.50       370.00     520.00   \n",
       "25%   2123049175.00  322000.00      3.00       1.75      1430.00    5040.00   \n",
       "50%   3904930410.00  450000.00      3.00       2.25      1910.00    7618.00   \n",
       "75%   7308900490.00  645000.00      4.00       2.50      2550.00   10685.00   \n",
       "max   9900000190.00 7700000.00     33.00       8.00     13540.00 1651359.00   \n",
       "\n",
       "        floors  waterfront     view  condition    grade  sqft_above  yr_built  \\\n",
       "count 21597.00    19221.00 21534.00   21597.00 21597.00    21597.00  21597.00   \n",
       "mean      1.49        0.01     0.23       3.41     7.66     1788.60   1971.00   \n",
       "std       0.54        0.09     0.77       0.65     1.17      827.76     29.38   \n",
       "min       1.00        0.00     0.00       1.00     3.00      370.00   1900.00   \n",
       "25%       1.00        0.00     0.00       3.00     7.00     1190.00   1951.00   \n",
       "50%       1.50        0.00     0.00       3.00     7.00     1560.00   1975.00   \n",
       "75%       2.00        0.00     0.00       4.00     8.00     2210.00   1997.00   \n",
       "max       3.50        1.00     4.00       5.00    13.00     9410.00   2015.00   \n",
       "\n",
       "       yr_renovated  zipcode      lat     long  sqft_living15  sqft_lot15  \n",
       "count      17755.00 21597.00 21597.00 21597.00       21597.00    21597.00  \n",
       "mean          83.64 98077.95    47.56  -122.21        1986.62    12758.28  \n",
       "std          399.95    53.51     0.14     0.14         685.23    27274.44  \n",
       "min            0.00 98001.00    47.16  -122.52         399.00      651.00  \n",
       "25%            0.00 98033.00    47.47  -122.33        1490.00     5100.00  \n",
       "50%            0.00 98065.00    47.57  -122.23        1840.00     7620.00  \n",
       "75%            0.00 98118.00    47.68  -122.12        2360.00    10083.00  \n",
       "max         2015.00 98199.00    47.78  -121.31        6210.00   871200.00  "
      ]
     },
     "execution_count": 3,
     "metadata": {},
     "output_type": "execute_result"
    }
   ],
   "source": [
    "data.describe()"
   ]
  },
  {
   "cell_type": "code",
   "execution_count": 4,
   "metadata": {},
   "outputs": [
    {
     "name": "stdout",
     "output_type": "stream",
     "text": [
      "<class 'pandas.core.frame.DataFrame'>\n",
      "RangeIndex: 21597 entries, 0 to 21596\n",
      "Data columns (total 21 columns):\n",
      "id               21597 non-null int64\n",
      "date             21597 non-null object\n",
      "price            21597 non-null float64\n",
      "bedrooms         21597 non-null int64\n",
      "bathrooms        21597 non-null float64\n",
      "sqft_living      21597 non-null int64\n",
      "sqft_lot         21597 non-null int64\n",
      "floors           21597 non-null float64\n",
      "waterfront       19221 non-null float64\n",
      "view             21534 non-null float64\n",
      "condition        21597 non-null int64\n",
      "grade            21597 non-null int64\n",
      "sqft_above       21597 non-null int64\n",
      "sqft_basement    21597 non-null object\n",
      "yr_built         21597 non-null int64\n",
      "yr_renovated     17755 non-null float64\n",
      "zipcode          21597 non-null int64\n",
      "lat              21597 non-null float64\n",
      "long             21597 non-null float64\n",
      "sqft_living15    21597 non-null int64\n",
      "sqft_lot15       21597 non-null int64\n",
      "dtypes: float64(8), int64(11), object(2)\n",
      "memory usage: 3.5+ MB\n"
     ]
    }
   ],
   "source": [
    "data.info()"
   ]
  },
  {
   "cell_type": "markdown",
   "metadata": {},
   "source": [
    "## Data Preparation\n",
    "\n",
    "From the data exploration, I see that most features are numerical and have no null values. The features that need attention are 'sqft_basement' which should be a float, but is listed as an object, and 'yr_renovated' and 'waterfront' have null values that need to be addressed. I do not plan to use the 'id', 'date', or 'view' features, so will not address their issues."
   ]
  },
  {
   "cell_type": "code",
   "execution_count": 5,
   "metadata": {},
   "outputs": [
    {
     "data": {
      "text/plain": [
       "array(['0.0', '400.0', '910.0', '1530.0', '?', '730.0', '1700.0', '300.0',\n",
       "       '970.0', '760.0', '720.0', '700.0', '820.0', '780.0', '790.0',\n",
       "       '330.0', '1620.0', '360.0', '588.0', '1510.0', '410.0', '990.0',\n",
       "       '600.0', '560.0', '550.0', '1000.0', '1600.0', '500.0', '1040.0',\n",
       "       '880.0', '1010.0', '240.0', '265.0', '290.0', '800.0', '540.0',\n",
       "       '710.0', '840.0', '380.0', '770.0', '480.0', '570.0', '1490.0',\n",
       "       '620.0', '1250.0', '1270.0', '120.0', '650.0', '180.0', '1130.0',\n",
       "       '450.0', '1640.0', '1460.0', '1020.0', '1030.0', '750.0', '640.0',\n",
       "       '1070.0', '490.0', '1310.0', '630.0', '2000.0', '390.0', '430.0',\n",
       "       '850.0', '210.0', '1430.0', '1950.0', '440.0', '220.0', '1160.0',\n",
       "       '860.0', '580.0', '2060.0', '1820.0', '1180.0', '200.0', '1150.0',\n",
       "       '1200.0', '680.0', '530.0', '1450.0', '1170.0', '1080.0', '960.0',\n",
       "       '280.0', '870.0', '1100.0', '460.0', '1400.0', '660.0', '1220.0',\n",
       "       '900.0', '420.0', '1580.0', '1380.0', '475.0', '690.0', '270.0',\n",
       "       '350.0', '935.0', '1370.0', '980.0', '1470.0', '160.0', '950.0',\n",
       "       '50.0', '740.0', '1780.0', '1900.0', '340.0', '470.0', '370.0',\n",
       "       '140.0', '1760.0', '130.0', '520.0', '890.0', '1110.0', '150.0',\n",
       "       '1720.0', '810.0', '190.0', '1290.0', '670.0', '1800.0', '1120.0',\n",
       "       '1810.0', '60.0', '1050.0', '940.0', '310.0', '930.0', '1390.0',\n",
       "       '610.0', '1830.0', '1300.0', '510.0', '1330.0', '1590.0', '920.0',\n",
       "       '1320.0', '1420.0', '1240.0', '1960.0', '1560.0', '2020.0',\n",
       "       '1190.0', '2110.0', '1280.0', '250.0', '2390.0', '1230.0', '170.0',\n",
       "       '830.0', '1260.0', '1410.0', '1340.0', '590.0', '1500.0', '1140.0',\n",
       "       '260.0', '100.0', '320.0', '1480.0', '1060.0', '1284.0', '1670.0',\n",
       "       '1350.0', '2570.0', '1090.0', '110.0', '2500.0', '90.0', '1940.0',\n",
       "       '1550.0', '2350.0', '2490.0', '1481.0', '1360.0', '1135.0',\n",
       "       '1520.0', '1850.0', '1660.0', '2130.0', '2600.0', '1690.0',\n",
       "       '243.0', '1210.0', '1024.0', '1798.0', '1610.0', '1440.0',\n",
       "       '1570.0', '1650.0', '704.0', '1910.0', '1630.0', '2360.0',\n",
       "       '1852.0', '2090.0', '2400.0', '1790.0', '2150.0', '230.0', '70.0',\n",
       "       '1680.0', '2100.0', '3000.0', '1870.0', '1710.0', '2030.0',\n",
       "       '875.0', '1540.0', '2850.0', '2170.0', '506.0', '906.0', '145.0',\n",
       "       '2040.0', '784.0', '1750.0', '374.0', '518.0', '2720.0', '2730.0',\n",
       "       '1840.0', '3480.0', '2160.0', '1920.0', '2330.0', '1860.0',\n",
       "       '2050.0', '4820.0', '1913.0', '80.0', '2010.0', '3260.0', '2200.0',\n",
       "       '415.0', '1730.0', '652.0', '2196.0', '1930.0', '515.0', '40.0',\n",
       "       '2080.0', '2580.0', '1548.0', '1740.0', '235.0', '861.0', '1890.0',\n",
       "       '2220.0', '792.0', '2070.0', '4130.0', '2250.0', '2240.0',\n",
       "       '1990.0', '768.0', '2550.0', '435.0', '1008.0', '2300.0', '2610.0',\n",
       "       '666.0', '3500.0', '172.0', '1816.0', '2190.0', '1245.0', '1525.0',\n",
       "       '1880.0', '862.0', '946.0', '1281.0', '414.0', '2180.0', '276.0',\n",
       "       '1248.0', '602.0', '516.0', '176.0', '225.0', '1275.0', '266.0',\n",
       "       '283.0', '65.0', '2310.0', '10.0', '1770.0', '2120.0', '295.0',\n",
       "       '207.0', '915.0', '556.0', '417.0', '143.0', '508.0', '2810.0',\n",
       "       '20.0', '274.0', '248.0'], dtype=object)"
      ]
     },
     "execution_count": 5,
     "metadata": {},
     "output_type": "execute_result"
    }
   ],
   "source": [
    "# To determine why 'sqft_basement' is an object dtype, I first look at the unique values. \n",
    "data['sqft_basement'].unique()"
   ]
  },
  {
   "cell_type": "markdown",
   "metadata": {},
   "source": [
    "The unique values of 'sqft_basement' are mostly numbers, but also includes '?'. To change the dtype to float, I first assign the '?'s to a null value."
   ]
  },
  {
   "cell_type": "code",
   "execution_count": 6,
   "metadata": {
    "scrolled": true
   },
   "outputs": [
    {
     "name": "stdout",
     "output_type": "stream",
     "text": [
      "454\n",
      "21143\n"
     ]
    }
   ],
   "source": [
    "data.loc[data['sqft_basement'] == '?', 'sqft_basement'] = np.nan\n",
    "data.sqft_basement = data.sqft_basement.astype(float)\n",
    "\n",
    "# To determine what the null values should be, I look at the number of null values and how many rows\n",
    "# have the total living space (sqft_living) equal to the sum of the basement(sqft_basement) and \n",
    "# above ground (sqft_above) living space.\n",
    "\n",
    "print(data['sqft_basement'].isna().sum())\n",
    "print((data['sqft_living'] == data['sqft_basement'] + data['sqft_above']).sum())"
   ]
  },
  {
   "cell_type": "markdown",
   "metadata": {},
   "source": [
    "The sum of null values (454) and those rows where sqft_living = sqft_basement + sqft_above (21143) equals 21597- the total number of rows. This indicates that the NaNs are probably not zeros. So, I replace the null values with the total sqft_living minus sqft_above, then confirm that the sqft_living is equal to sqft_basement plus sqft_above for all rows."
   ]
  },
  {
   "cell_type": "code",
   "execution_count": 7,
   "metadata": {},
   "outputs": [
    {
     "data": {
      "text/plain": [
       "21597"
      ]
     },
     "execution_count": 7,
     "metadata": {},
     "output_type": "execute_result"
    }
   ],
   "source": [
    "data['sqft_basement'] = data['sqft_basement'].fillna(data['sqft_living'] - data['sqft_above'])\n",
    "(data['sqft_living'] == data['sqft_basement'] + data['sqft_above']).sum()"
   ]
  },
  {
   "cell_type": "markdown",
   "metadata": {},
   "source": [
    "'Waterfront' is a categorical feature and there isn't a clear answer to where the null values should go. Instead of trying to guess or otherwise determine if the null values are waterfront or not, I create a new category 'Unknown'. I change the numbers '0' and '1' to 'No' and 'Yes' respectively, for continutity of naming in the feature."
   ]
  },
  {
   "cell_type": "code",
   "execution_count": 8,
   "metadata": {},
   "outputs": [],
   "source": [
    "# Change '0' to 'No', '1' to 'Yes', and 'nan' to 'unknown'\n",
    "data['waterfront'] = data.loc[data['waterfront']==0, 'waterfront']= 'No'\n",
    "data['waterfront'] = data.loc[data['waterfront']==1, 'waterfront']= 'Yes'\n",
    "data['waterfront'] = data['waterfront'].fillna('Unknown')"
   ]
  },
  {
   "cell_type": "markdown",
   "metadata": {},
   "source": [
    "The 'yr_renovated' feature has some null values. To get a better sense of the feature, I first look at the count of unique values"
   ]
  },
  {
   "cell_type": "code",
   "execution_count": 9,
   "metadata": {},
   "outputs": [
    {
     "data": {
      "text/plain": [
       "0.00       17011\n",
       "2014.00       73\n",
       "2003.00       31\n",
       "2013.00       31\n",
       "2007.00       30\n",
       "           ...  \n",
       "1946.00        1\n",
       "1959.00        1\n",
       "1971.00        1\n",
       "1951.00        1\n",
       "1954.00        1\n",
       "Name: yr_renovated, Length: 70, dtype: int64"
      ]
     },
     "execution_count": 9,
     "metadata": {},
     "output_type": "execute_result"
    }
   ],
   "source": [
    "data['yr_renovated'].value_counts()"
   ]
  },
  {
   "cell_type": "markdown",
   "metadata": {},
   "source": [
    "The 'yr_renovated' feature has a high number of zeros, which are likely homes that have not been renovated. It seems likely that the null values are also unrenovated homes, as it is an important selling point. Thus, I change the zeros to null values to see how many homes have been renovated."
   ]
  },
  {
   "cell_type": "code",
   "execution_count": 10,
   "metadata": {},
   "outputs": [
    {
     "data": {
      "text/plain": [
       "744"
      ]
     },
     "execution_count": 10,
     "metadata": {},
     "output_type": "execute_result"
    }
   ],
   "source": [
    "# yr_renovated has a high number of '0's, which seems like the same as a nan, so change '0' to nan\n",
    "data.loc[data['yr_renovated']== 0.0, 'yr_renovated'] = np.nan\n",
    "data['yr_renovated'].notnull().sum()"
   ]
  },
  {
   "cell_type": "markdown",
   "metadata": {},
   "source": [
    "There are now only 744 rows with yr_renovated values out of over 20,000 total rows. This seems like a column that would work better as a categorical feature. I want to preserve the 'yr_renovated' numbers in case they are usefull later, so I add new column 'renovated' as categorical feature with the values of 'RR' recently renovated(last 10 years), 'R' renovated, and 'NR' not renovated."
   ]
  },
  {
   "cell_type": "code",
   "execution_count": 11,
   "metadata": {},
   "outputs": [
    {
     "name": "stderr",
     "output_type": "stream",
     "text": [
      "/Users/cindyreiner/opt/anaconda3/envs/learn-env/lib/python3.6/site-packages/pandas/core/ops/__init__.py:1115: FutureWarning: elementwise comparison failed; returning scalar instead, but in the future will perform elementwise comparison\n",
      "  result = method(y)\n"
     ]
    }
   ],
   "source": [
    "# Add new column based on 'yr_renovated' column with values RR' recently renovated(last 10 years),\n",
    "# 'R' renovated, and 'NR' not renovated.\n",
    "data['renovated'] = np.where(data['yr_renovated']=='NaN', 'NR',\n",
    "                             np.where(data['yr_renovated']<2005, 'R', 'RR'))\n"
   ]
  },
  {
   "cell_type": "code",
   "execution_count": 12,
   "metadata": {
    "scrolled": true
   },
   "outputs": [
    {
     "name": "stdout",
     "output_type": "stream",
     "text": [
      "<class 'pandas.core.frame.DataFrame'>\n",
      "RangeIndex: 21597 entries, 0 to 21596\n",
      "Data columns (total 22 columns):\n",
      "id               21597 non-null int64\n",
      "date             21597 non-null object\n",
      "price            21597 non-null float64\n",
      "bedrooms         21597 non-null int64\n",
      "bathrooms        21597 non-null float64\n",
      "sqft_living      21597 non-null int64\n",
      "sqft_lot         21597 non-null int64\n",
      "floors           21597 non-null float64\n",
      "waterfront       21597 non-null object\n",
      "view             21534 non-null float64\n",
      "condition        21597 non-null int64\n",
      "grade            21597 non-null int64\n",
      "sqft_above       21597 non-null int64\n",
      "sqft_basement    21597 non-null float64\n",
      "yr_built         21597 non-null int64\n",
      "yr_renovated     744 non-null float64\n",
      "zipcode          21597 non-null int64\n",
      "lat              21597 non-null float64\n",
      "long             21597 non-null float64\n",
      "sqft_living15    21597 non-null int64\n",
      "sqft_lot15       21597 non-null int64\n",
      "renovated        21597 non-null object\n",
      "dtypes: float64(8), int64(11), object(3)\n",
      "memory usage: 3.6+ MB\n"
     ]
    }
   ],
   "source": [
    "# Check that null values have been dealt with and the dtypes are as expected\n",
    "data.info()"
   ]
  },
  {
   "cell_type": "markdown",
   "metadata": {},
   "source": [
    "Before moving on to models, I look for multicolinearity between my numerical features to determine which features should not be used."
   ]
  },
  {
   "cell_type": "code",
   "execution_count": 13,
   "metadata": {},
   "outputs": [],
   "source": [
    "# List numerical features\n",
    "numerical = ['bedrooms', 'bathrooms', 'sqft_living', 'sqft_lot', 'floors', \n",
    "              'view', 'condition', 'grade', 'sqft_above', 'sqft_basement', 'yr_built', 'yr_renovated', \n",
    "              'lat', 'long', 'zipcode', 'sqft_living15', 'sqft_lot15']\n",
    "\n",
    "# New dataframe of numberical features only\n",
    "data_num = data[numerical]"
   ]
  },
  {
   "cell_type": "code",
   "execution_count": 14,
   "metadata": {
    "scrolled": true
   },
   "outputs": [
    {
     "data": {
      "image/png": "[encoded data removed]",
      "text/plain": [
       "<Figure size 432x288 with 2 Axes>"
      ]
     },
     "metadata": {
      "needs_background": "light"
     },
     "output_type": "display_data"
    }
   ],
   "source": [
    "# Create a heat map of correlations between numerical features\n",
    "sns.heatmap(data_num.corr(), center=0);"
   ]
  },
  {
   "cell_type": "code",
   "execution_count": 15,
   "metadata": {
    "scrolled": true
   },
   "outputs": [
    {
     "data": {
      "text/html": [
       "<div>\n",
       "<style scoped>\n",
       "    .dataframe tbody tr th:only-of-type {\n",
       "        vertical-align: middle;\n",
       "    }\n",
       "\n",
       "    .dataframe tbody tr th {\n",
       "        vertical-align: top;\n",
       "    }\n",
       "\n",
       "    .dataframe thead th {\n",
       "        text-align: right;\n",
       "    }\n",
       "</style>\n",
       "<table border=\"1\" class=\"dataframe\">\n",
       "  <thead>\n",
       "    <tr style=\"text-align: right;\">\n",
       "      <th></th>\n",
       "      <th>feature1</th>\n",
       "      <th>feature2</th>\n",
       "      <th>corr</th>\n",
       "    </tr>\n",
       "  </thead>\n",
       "  <tbody>\n",
       "    <tr>\n",
       "      <th>19</th>\n",
       "      <td>bathrooms</td>\n",
       "      <td>sqft_living</td>\n",
       "      <td>0.76</td>\n",
       "    </tr>\n",
       "    <tr>\n",
       "      <th>35</th>\n",
       "      <td>sqft_living</td>\n",
       "      <td>bathrooms</td>\n",
       "      <td>0.76</td>\n",
       "    </tr>\n",
       "    <tr>\n",
       "      <th>41</th>\n",
       "      <td>sqft_living</td>\n",
       "      <td>grade</td>\n",
       "      <td>0.76</td>\n",
       "    </tr>\n",
       "    <tr>\n",
       "      <th>42</th>\n",
       "      <td>sqft_living</td>\n",
       "      <td>sqft_above</td>\n",
       "      <td>0.88</td>\n",
       "    </tr>\n",
       "    <tr>\n",
       "      <th>49</th>\n",
       "      <td>sqft_living</td>\n",
       "      <td>sqft_living15</td>\n",
       "      <td>0.76</td>\n",
       "    </tr>\n",
       "    <tr>\n",
       "      <th>121</th>\n",
       "      <td>grade</td>\n",
       "      <td>sqft_living</td>\n",
       "      <td>0.76</td>\n",
       "    </tr>\n",
       "    <tr>\n",
       "      <th>127</th>\n",
       "      <td>grade</td>\n",
       "      <td>sqft_above</td>\n",
       "      <td>0.76</td>\n",
       "    </tr>\n",
       "    <tr>\n",
       "      <th>138</th>\n",
       "      <td>sqft_above</td>\n",
       "      <td>sqft_living</td>\n",
       "      <td>0.88</td>\n",
       "    </tr>\n",
       "    <tr>\n",
       "      <th>143</th>\n",
       "      <td>sqft_above</td>\n",
       "      <td>grade</td>\n",
       "      <td>0.76</td>\n",
       "    </tr>\n",
       "    <tr>\n",
       "      <th>257</th>\n",
       "      <td>sqft_living15</td>\n",
       "      <td>sqft_living</td>\n",
       "      <td>0.76</td>\n",
       "    </tr>\n",
       "  </tbody>\n",
       "</table>\n",
       "</div>"
      ],
      "text/plain": [
       "          feature1       feature2  corr\n",
       "19       bathrooms    sqft_living  0.76\n",
       "35     sqft_living      bathrooms  0.76\n",
       "41     sqft_living          grade  0.76\n",
       "42     sqft_living     sqft_above  0.88\n",
       "49     sqft_living  sqft_living15  0.76\n",
       "121          grade    sqft_living  0.76\n",
       "127          grade     sqft_above  0.76\n",
       "138     sqft_above    sqft_living  0.88\n",
       "143     sqft_above          grade  0.76\n",
       "257  sqft_living15    sqft_living  0.76"
      ]
     },
     "execution_count": 15,
     "metadata": {},
     "output_type": "execute_result"
    }
   ],
   "source": [
    "# Create a df that will list the highly correlated features (correlation greater than 0.75)                           \n",
    "df = data_num.corr().abs().stack().reset_index()\n",
    "df.columns = ['feature1', 'feature2', 'corr']\n",
    "df[(df['corr']>.75) & (df['corr'] <1)]"
   ]
  },
  {
   "cell_type": "markdown",
   "metadata": {},
   "source": [
    "The features 'sqft_living' and 'grade' highly correlate with other features. They both have other similar features, 'sqft_above' & 'sqft_basement' for 'sqft_living', and 'condition' for 'grade'. So they will not be used."
   ]
  },
  {
   "cell_type": "markdown",
   "metadata": {},
   "source": [
    "### First Model\n",
    "\n",
    "Will do a first model with the data as it has been processed so far. For this model, I will not use 'grade' & 'sqft_living' due to their colinearity with multiple other features, 'yr_renovated' has been transformed into the categorical 'renovated' feature and 'id' isn't a feature that would be related to the home's price. I may come back to the 'date', 'lat', & 'long' features in a later model, as they could be related to price and are somewhat under the control of a home buyer. \n",
    "\n",
    "I create a baseline, model-less prediction and begin evaluate this model compared to that baseline."
   ]
  },
  {
   "cell_type": "code",
   "execution_count": 16,
   "metadata": {},
   "outputs": [],
   "source": [
    "# Divide data into continuous and categorical features. \n",
    "categoricals = ['waterfront', 'renovated', 'zipcode']\n",
    "continuous = ['sqft_lot', 'sqft_lot15', 'sqft_living15', 'yr_built', 'condition',\n",
    "              'bedrooms', 'bathrooms', 'sqft_above', 'sqft_basement', 'floors', 'price']\n",
    "cat_data = data[categoricals]\n",
    "cont_data = data[continuous]              "
   ]
  },
  {
   "cell_type": "code",
   "execution_count": 17,
   "metadata": {},
   "outputs": [],
   "source": [
    "# One hot encode the categorical features, concatenate them with the continuous dataframe,\n",
    "# then split the dataframe into the explanatory features, X, and target feature, y.\n",
    "X, y = ut.ohe_concat(cat_data, cont_data, categoricals, 'price')"
   ]
  },
  {
   "cell_type": "code",
   "execution_count": 18,
   "metadata": {},
   "outputs": [],
   "source": [
    "# Split the data into a training sets and test sets\n",
    "X_train, X_test, y_train, y_test = train_test_split(X, y, test_size = 0.2, random_state=9)"
   ]
  },
  {
   "cell_type": "markdown",
   "metadata": {},
   "source": [
    "First, a baseline model using the mean of y_train values."
   ]
  },
  {
   "cell_type": "code",
   "execution_count": 19,
   "metadata": {
    "scrolled": true
   },
   "outputs": [
    {
     "name": "stdout",
     "output_type": "stream",
     "text": [
      "Training Scores: R2 0.00000, Mean Absolute Error 231762.41, Root Mean Squared Error 364535.32\n",
      "Testing Scores: R2 -0.00185, Mean Absolute Error 238904.74, Root Mean Squared Error 378514.19\n"
     ]
    }
   ],
   "source": [
    "# Instantiate a dummy model that uses the mean of y_train as the predicted values\n",
    "dummy_reg = DummyRegressor(strategy='mean')\n",
    "\n",
    "# Fit the model with the training data\n",
    "dummy_reg.fit(X_train, y_train)\n",
    "\n",
    "# Get preditions on testing data and compare to the Y_test data set and print results\n",
    "ut.predictions(dummy_reg, X_train, X_test, y_train, y_test)"
   ]
  },
  {
   "cell_type": "markdown",
   "metadata": {},
   "source": [
    "As expected, the R2 value is zero. Now, I create a first model using the y_training data to train the model."
   ]
  },
  {
   "cell_type": "code",
   "execution_count": 20,
   "metadata": {},
   "outputs": [
    {
     "name": "stdout",
     "output_type": "stream",
     "text": [
      "Training Scores: R2 0.75135, Mean Absolute Error 106131.10, Root Mean Squared Error 181773.90\n",
      "Testing Scores: R2 0.75191, Mean Absolute Error 108955.77, Root Mean Squared Error 188359.97\n"
     ]
    }
   ],
   "source": [
    "# Instantiate LinearRegression\n",
    "linreg = LinearRegression()\n",
    "\n",
    "# Fit the model with the training data\n",
    "linreg.fit(X_train, y_train)\n",
    "\n",
    "# Get preditions on testing data and compare to the Y_test data set and print results\n",
    "ut.predictions(linreg, X_train, X_test, y_train, y_test)"
   ]
  },
  {
   "cell_type": "markdown",
   "metadata": {},
   "source": [
    "#### Evaluation 1"
   ]
  },
  {
   "cell_type": "markdown",
   "metadata": {},
   "source": [
    "This first model can explain 75% of the variance of house prices in the test data. The training and test R2 values are almost the same, so the model seems to be well fit. The root mean squared error (rmse) is 72% higher than the mean absolute error (mae), which indicates that there are some predicted values that are large. Compared to the baseline model, the error has been cut in half."
   ]
  },
  {
   "cell_type": "code",
   "execution_count": 21,
   "metadata": {},
   "outputs": [
    {
     "name": "stderr",
     "output_type": "stream",
     "text": [
      "/Users/cindyreiner/opt/anaconda3/envs/learn-env/lib/python3.6/site-packages/numpy/core/fromnumeric.py:2580: FutureWarning: Method .ptp is deprecated and will be removed in a future version. Use numpy.ptp instead.\n",
      "  return ptp(axis=axis, out=out, **kwargs)\n"
     ]
    },
    {
     "data": {
      "text/html": [
       "<table class=\"simpletable\">\n",
       "<caption>OLS Regression Results</caption>\n",
       "<tr>\n",
       "  <th>Dep. Variable:</th>          <td>price</td>      <th>  R-squared:         </th>  <td>   0.751</td>  \n",
       "</tr>\n",
       "<tr>\n",
       "  <th>Model:</th>                   <td>OLS</td>       <th>  Adj. R-squared:    </th>  <td>   0.750</td>  \n",
       "</tr>\n",
       "<tr>\n",
       "  <th>Method:</th>             <td>Least Squares</td>  <th>  F-statistic:       </th>  <td>   649.5</td>  \n",
       "</tr>\n",
       "<tr>\n",
       "  <th>Date:</th>             <td>Thu, 28 Jan 2021</td> <th>  Prob (F-statistic):</th>   <td>  0.00</td>   \n",
       "</tr>\n",
       "<tr>\n",
       "  <th>Time:</th>                 <td>22:26:59</td>     <th>  Log-Likelihood:    </th> <td>-2.3375e+05</td>\n",
       "</tr>\n",
       "<tr>\n",
       "  <th>No. Observations:</th>      <td> 17277</td>      <th>  AIC:               </th>  <td>4.677e+05</td> \n",
       "</tr>\n",
       "<tr>\n",
       "  <th>Df Residuals:</th>          <td> 17196</td>      <th>  BIC:               </th>  <td>4.683e+05</td> \n",
       "</tr>\n",
       "<tr>\n",
       "  <th>Df Model:</th>              <td>    80</td>      <th>                     </th>      <td> </td>     \n",
       "</tr>\n",
       "<tr>\n",
       "  <th>Covariance Type:</th>      <td>nonrobust</td>    <th>                     </th>      <td> </td>     \n",
       "</tr>\n",
       "</table>\n",
       "<table class=\"simpletable\">\n",
       "<tr>\n",
       "         <td></td>           <th>coef</th>     <th>std err</th>      <th>t</th>      <th>P>|t|</th>  <th>[0.025</th>    <th>0.975]</th>  \n",
       "</tr>\n",
       "<tr>\n",
       "  <th>waterfront_Yes</th> <td> 8.122e+05</td> <td>  9.9e+04</td> <td>    8.201</td> <td> 0.000</td> <td> 6.18e+05</td> <td> 1.01e+06</td>\n",
       "</tr>\n",
       "<tr>\n",
       "  <th>renovated_R</th>    <td> 4.344e+05</td> <td> 4.87e+04</td> <td>    8.921</td> <td> 0.000</td> <td> 3.39e+05</td> <td>  5.3e+05</td>\n",
       "</tr>\n",
       "<tr>\n",
       "  <th>renovated_RR</th>   <td> 3.778e+05</td> <td> 5.08e+04</td> <td>    7.435</td> <td> 0.000</td> <td> 2.78e+05</td> <td> 4.77e+05</td>\n",
       "</tr>\n",
       "<tr>\n",
       "  <th>zipcode_98001</th>  <td>-2.047e+05</td> <td> 1.11e+04</td> <td>  -18.444</td> <td> 0.000</td> <td>-2.27e+05</td> <td>-1.83e+05</td>\n",
       "</tr>\n",
       "<tr>\n",
       "  <th>zipcode_98002</th>  <td>-1.815e+05</td> <td> 1.45e+04</td> <td>  -12.479</td> <td> 0.000</td> <td> -2.1e+05</td> <td>-1.53e+05</td>\n",
       "</tr>\n",
       "<tr>\n",
       "  <th>zipcode_98003</th>  <td>-2.005e+05</td> <td>  1.2e+04</td> <td>  -16.737</td> <td> 0.000</td> <td>-2.24e+05</td> <td>-1.77e+05</td>\n",
       "</tr>\n",
       "<tr>\n",
       "  <th>zipcode_98004</th>  <td> 5.732e+05</td> <td> 1.19e+04</td> <td>   48.195</td> <td> 0.000</td> <td>  5.5e+05</td> <td> 5.96e+05</td>\n",
       "</tr>\n",
       "<tr>\n",
       "  <th>zipcode_98005</th>  <td> 9.456e+04</td> <td> 1.61e+04</td> <td>    5.872</td> <td> 0.000</td> <td>  6.3e+04</td> <td> 1.26e+05</td>\n",
       "</tr>\n",
       "<tr>\n",
       "  <th>zipcode_98006</th>  <td> 9.159e+04</td> <td> 9760.182</td> <td>    9.384</td> <td> 0.000</td> <td> 7.25e+04</td> <td> 1.11e+05</td>\n",
       "</tr>\n",
       "<tr>\n",
       "  <th>zipcode_98007</th>  <td>  4.49e+04</td> <td> 1.73e+04</td> <td>    2.602</td> <td> 0.009</td> <td> 1.11e+04</td> <td> 7.87e+04</td>\n",
       "</tr>\n",
       "<tr>\n",
       "  <th>zipcode_98008</th>  <td> 8.077e+04</td> <td> 1.22e+04</td> <td>    6.602</td> <td> 0.000</td> <td> 5.68e+04</td> <td> 1.05e+05</td>\n",
       "</tr>\n",
       "<tr>\n",
       "  <th>zipcode_98010</th>  <td>-1.562e+05</td> <td> 2.03e+04</td> <td>   -7.699</td> <td> 0.000</td> <td>-1.96e+05</td> <td>-1.16e+05</td>\n",
       "</tr>\n",
       "<tr>\n",
       "  <th>zipcode_98011</th>  <td>-9.419e+04</td> <td> 1.43e+04</td> <td>   -6.590</td> <td> 0.000</td> <td>-1.22e+05</td> <td>-6.62e+04</td>\n",
       "</tr>\n",
       "<tr>\n",
       "  <th>zipcode_98014</th>  <td> -1.17e+05</td> <td> 1.85e+04</td> <td>   -6.330</td> <td> 0.000</td> <td>-1.53e+05</td> <td>-8.07e+04</td>\n",
       "</tr>\n",
       "<tr>\n",
       "  <th>zipcode_98019</th>  <td>-1.342e+05</td> <td> 1.53e+04</td> <td>   -8.799</td> <td> 0.000</td> <td>-1.64e+05</td> <td>-1.04e+05</td>\n",
       "</tr>\n",
       "<tr>\n",
       "  <th>zipcode_98022</th>  <td>-1.911e+05</td> <td>  1.4e+04</td> <td>  -13.674</td> <td> 0.000</td> <td>-2.18e+05</td> <td>-1.64e+05</td>\n",
       "</tr>\n",
       "<tr>\n",
       "  <th>zipcode_98023</th>  <td> -2.27e+05</td> <td> 9362.258</td> <td>  -24.249</td> <td> 0.000</td> <td>-2.45e+05</td> <td>-2.09e+05</td>\n",
       "</tr>\n",
       "<tr>\n",
       "  <th>zipcode_98024</th>  <td>-7.137e+04</td> <td> 2.22e+04</td> <td>   -3.219</td> <td> 0.001</td> <td>-1.15e+05</td> <td>-2.79e+04</td>\n",
       "</tr>\n",
       "<tr>\n",
       "  <th>zipcode_98027</th>  <td>-3.508e+04</td> <td> 1.03e+04</td> <td>   -3.417</td> <td> 0.001</td> <td>-5.52e+04</td> <td> -1.5e+04</td>\n",
       "</tr>\n",
       "<tr>\n",
       "  <th>zipcode_98028</th>  <td>-8.246e+04</td> <td> 1.22e+04</td> <td>   -6.769</td> <td> 0.000</td> <td>-1.06e+05</td> <td>-5.86e+04</td>\n",
       "</tr>\n",
       "<tr>\n",
       "  <th>zipcode_98029</th>  <td> 1.304e+04</td> <td> 1.19e+04</td> <td>    1.097</td> <td> 0.273</td> <td>-1.03e+04</td> <td> 3.63e+04</td>\n",
       "</tr>\n",
       "<tr>\n",
       "  <th>zipcode_98030</th>  <td>-2.065e+05</td> <td> 1.31e+04</td> <td>  -15.728</td> <td> 0.000</td> <td>-2.32e+05</td> <td>-1.81e+05</td>\n",
       "</tr>\n",
       "<tr>\n",
       "  <th>zipcode_98031</th>  <td>-1.943e+05</td> <td> 1.26e+04</td> <td>  -15.384</td> <td> 0.000</td> <td>-2.19e+05</td> <td> -1.7e+05</td>\n",
       "</tr>\n",
       "<tr>\n",
       "  <th>zipcode_98032</th>  <td>-1.874e+05</td> <td> 1.77e+04</td> <td>  -10.610</td> <td> 0.000</td> <td>-2.22e+05</td> <td>-1.53e+05</td>\n",
       "</tr>\n",
       "<tr>\n",
       "  <th>zipcode_98033</th>  <td> 1.808e+05</td> <td>    1e+04</td> <td>   18.082</td> <td> 0.000</td> <td> 1.61e+05</td> <td>    2e+05</td>\n",
       "</tr>\n",
       "<tr>\n",
       "  <th>zipcode_98034</th>  <td> 1.899e+04</td> <td> 8897.938</td> <td>    2.134</td> <td> 0.033</td> <td> 1549.474</td> <td> 3.64e+04</td>\n",
       "</tr>\n",
       "<tr>\n",
       "  <th>zipcode_98038</th>  <td>-1.945e+05</td> <td> 8875.240</td> <td>  -21.917</td> <td> 0.000</td> <td>-2.12e+05</td> <td>-1.77e+05</td>\n",
       "</tr>\n",
       "<tr>\n",
       "  <th>zipcode_98039</th>  <td> 1.145e+06</td> <td> 2.81e+04</td> <td>   40.794</td> <td> 0.000</td> <td> 1.09e+06</td> <td>  1.2e+06</td>\n",
       "</tr>\n",
       "<tr>\n",
       "  <th>zipcode_98040</th>  <td>  3.45e+05</td> <td> 1.27e+04</td> <td>   27.112</td> <td> 0.000</td> <td>  3.2e+05</td> <td>  3.7e+05</td>\n",
       "</tr>\n",
       "<tr>\n",
       "  <th>zipcode_98042</th>  <td>-2.051e+05</td> <td> 8951.330</td> <td>  -22.916</td> <td> 0.000</td> <td>-2.23e+05</td> <td>-1.88e+05</td>\n",
       "</tr>\n",
       "<tr>\n",
       "  <th>zipcode_98045</th>  <td>-1.041e+05</td> <td> 1.39e+04</td> <td>   -7.516</td> <td> 0.000</td> <td>-1.31e+05</td> <td> -7.7e+04</td>\n",
       "</tr>\n",
       "<tr>\n",
       "  <th>zipcode_98052</th>  <td> 2.797e+04</td> <td> 8892.118</td> <td>    3.146</td> <td> 0.002</td> <td> 1.05e+04</td> <td> 4.54e+04</td>\n",
       "</tr>\n",
       "<tr>\n",
       "  <th>zipcode_98053</th>  <td>-3.328e+04</td> <td> 1.08e+04</td> <td>   -3.092</td> <td> 0.002</td> <td>-5.44e+04</td> <td>-1.22e+04</td>\n",
       "</tr>\n",
       "<tr>\n",
       "  <th>zipcode_98055</th>  <td>-1.656e+05</td> <td> 1.26e+04</td> <td>  -13.187</td> <td> 0.000</td> <td> -1.9e+05</td> <td>-1.41e+05</td>\n",
       "</tr>\n",
       "<tr>\n",
       "  <th>zipcode_98056</th>  <td>-1.008e+05</td> <td> 1.04e+04</td> <td>   -9.651</td> <td> 0.000</td> <td>-1.21e+05</td> <td>-8.03e+04</td>\n",
       "</tr>\n",
       "<tr>\n",
       "  <th>zipcode_98058</th>  <td>-1.757e+05</td> <td> 9804.392</td> <td>  -17.925</td> <td> 0.000</td> <td>-1.95e+05</td> <td>-1.57e+05</td>\n",
       "</tr>\n",
       "<tr>\n",
       "  <th>zipcode_98059</th>  <td>-1.391e+05</td> <td> 9894.468</td> <td>  -14.059</td> <td> 0.000</td> <td>-1.59e+05</td> <td> -1.2e+05</td>\n",
       "</tr>\n",
       "<tr>\n",
       "  <th>zipcode_98065</th>  <td> -1.52e+05</td> <td>  1.2e+04</td> <td>  -12.663</td> <td> 0.000</td> <td>-1.76e+05</td> <td>-1.28e+05</td>\n",
       "</tr>\n",
       "<tr>\n",
       "  <th>zipcode_98070</th>  <td>-4.437e+04</td> <td> 1.97e+04</td> <td>   -2.249</td> <td> 0.025</td> <td> -8.3e+04</td> <td>-5694.010</td>\n",
       "</tr>\n",
       "<tr>\n",
       "  <th>zipcode_98072</th>  <td>-6.585e+04</td> <td> 1.29e+04</td> <td>   -5.110</td> <td> 0.000</td> <td>-9.11e+04</td> <td>-4.06e+04</td>\n",
       "</tr>\n",
       "<tr>\n",
       "  <th>zipcode_98074</th>  <td>-1.683e+04</td> <td>    1e+04</td> <td>   -1.678</td> <td> 0.093</td> <td>-3.65e+04</td> <td> 2826.149</td>\n",
       "</tr>\n",
       "<tr>\n",
       "  <th>zipcode_98075</th>  <td>-2.342e+04</td> <td> 1.12e+04</td> <td>   -2.086</td> <td> 0.037</td> <td>-4.54e+04</td> <td>-1417.941</td>\n",
       "</tr>\n",
       "<tr>\n",
       "  <th>zipcode_98077</th>  <td>-1.051e+05</td> <td> 1.44e+04</td> <td>   -7.281</td> <td> 0.000</td> <td>-1.33e+05</td> <td>-7.68e+04</td>\n",
       "</tr>\n",
       "<tr>\n",
       "  <th>zipcode_98092</th>  <td>-2.415e+05</td> <td> 1.11e+04</td> <td>  -21.800</td> <td> 0.000</td> <td>-2.63e+05</td> <td> -2.2e+05</td>\n",
       "</tr>\n",
       "<tr>\n",
       "  <th>zipcode_98102</th>  <td> 3.313e+05</td> <td> 1.97e+04</td> <td>   16.834</td> <td> 0.000</td> <td> 2.93e+05</td> <td>  3.7e+05</td>\n",
       "</tr>\n",
       "<tr>\n",
       "  <th>zipcode_98103</th>  <td> 1.655e+05</td> <td> 8553.912</td> <td>   19.351</td> <td> 0.000</td> <td> 1.49e+05</td> <td> 1.82e+05</td>\n",
       "</tr>\n",
       "<tr>\n",
       "  <th>zipcode_98105</th>  <td>  2.78e+05</td> <td> 1.39e+04</td> <td>   20.040</td> <td> 0.000</td> <td> 2.51e+05</td> <td> 3.05e+05</td>\n",
       "</tr>\n",
       "<tr>\n",
       "  <th>zipcode_98106</th>  <td>-3.947e+04</td> <td> 1.11e+04</td> <td>   -3.568</td> <td> 0.000</td> <td>-6.12e+04</td> <td>-1.78e+04</td>\n",
       "</tr>\n",
       "<tr>\n",
       "  <th>zipcode_98107</th>  <td> 1.727e+05</td> <td> 1.25e+04</td> <td>   13.784</td> <td> 0.000</td> <td> 1.48e+05</td> <td> 1.97e+05</td>\n",
       "</tr>\n",
       "<tr>\n",
       "  <th>zipcode_98108</th>  <td>-6.972e+04</td> <td>  1.5e+04</td> <td>   -4.656</td> <td> 0.000</td> <td>-9.91e+04</td> <td>-4.04e+04</td>\n",
       "</tr>\n",
       "<tr>\n",
       "  <th>zipcode_98109</th>  <td> 3.342e+05</td> <td>    2e+04</td> <td>   16.715</td> <td> 0.000</td> <td> 2.95e+05</td> <td> 3.73e+05</td>\n",
       "</tr>\n",
       "<tr>\n",
       "  <th>zipcode_98112</th>  <td> 4.384e+05</td> <td> 1.25e+04</td> <td>   35.113</td> <td> 0.000</td> <td> 4.14e+05</td> <td> 4.63e+05</td>\n",
       "</tr>\n",
       "<tr>\n",
       "  <th>zipcode_98115</th>  <td> 1.479e+05</td> <td> 8646.375</td> <td>   17.105</td> <td> 0.000</td> <td> 1.31e+05</td> <td> 1.65e+05</td>\n",
       "</tr>\n",
       "<tr>\n",
       "  <th>zipcode_98116</th>  <td> 1.438e+05</td> <td> 1.12e+04</td> <td>   12.873</td> <td> 0.000</td> <td> 1.22e+05</td> <td> 1.66e+05</td>\n",
       "</tr>\n",
       "<tr>\n",
       "  <th>zipcode_98117</th>  <td> 1.425e+05</td> <td> 8873.828</td> <td>   16.060</td> <td> 0.000</td> <td> 1.25e+05</td> <td>  1.6e+05</td>\n",
       "</tr>\n",
       "<tr>\n",
       "  <th>zipcode_98118</th>  <td>-6919.0382</td> <td> 9211.177</td> <td>   -0.751</td> <td> 0.453</td> <td> -2.5e+04</td> <td> 1.11e+04</td>\n",
       "</tr>\n",
       "<tr>\n",
       "  <th>zipcode_98119</th>  <td>  3.37e+05</td> <td> 1.52e+04</td> <td>   22.191</td> <td> 0.000</td> <td> 3.07e+05</td> <td> 3.67e+05</td>\n",
       "</tr>\n",
       "<tr>\n",
       "  <th>zipcode_98122</th>  <td> 1.781e+05</td> <td> 1.22e+04</td> <td>   14.589</td> <td> 0.000</td> <td> 1.54e+05</td> <td> 2.02e+05</td>\n",
       "</tr>\n",
       "<tr>\n",
       "  <th>zipcode_98125</th>  <td> 3.034e+04</td> <td> 1.02e+04</td> <td>    2.975</td> <td> 0.003</td> <td> 1.04e+04</td> <td> 5.03e+04</td>\n",
       "</tr>\n",
       "<tr>\n",
       "  <th>zipcode_98126</th>  <td> 2.913e+04</td> <td> 1.09e+04</td> <td>    2.667</td> <td> 0.008</td> <td> 7722.753</td> <td> 5.05e+04</td>\n",
       "</tr>\n",
       "<tr>\n",
       "  <th>zipcode_98133</th>  <td>-2.656e+04</td> <td> 9377.500</td> <td>   -2.833</td> <td> 0.005</td> <td>-4.49e+04</td> <td>-8181.486</td>\n",
       "</tr>\n",
       "<tr>\n",
       "  <th>zipcode_98136</th>  <td> 1.042e+05</td> <td> 1.25e+04</td> <td>    8.344</td> <td> 0.000</td> <td> 7.97e+04</td> <td> 1.29e+05</td>\n",
       "</tr>\n",
       "<tr>\n",
       "  <th>zipcode_98144</th>  <td>  1.14e+05</td> <td> 1.11e+04</td> <td>   10.254</td> <td> 0.000</td> <td> 9.22e+04</td> <td> 1.36e+05</td>\n",
       "</tr>\n",
       "<tr>\n",
       "  <th>zipcode_98146</th>  <td>-5.145e+04</td> <td> 1.23e+04</td> <td>   -4.199</td> <td> 0.000</td> <td>-7.55e+04</td> <td>-2.74e+04</td>\n",
       "</tr>\n",
       "<tr>\n",
       "  <th>zipcode_98148</th>  <td>-1.236e+05</td> <td> 2.78e+04</td> <td>   -4.441</td> <td> 0.000</td> <td>-1.78e+05</td> <td> -6.9e+04</td>\n",
       "</tr>\n",
       "<tr>\n",
       "  <th>zipcode_98155</th>  <td>-3.036e+04</td> <td> 9879.534</td> <td>   -3.073</td> <td> 0.002</td> <td>-4.97e+04</td> <td> -1.1e+04</td>\n",
       "</tr>\n",
       "<tr>\n",
       "  <th>zipcode_98166</th>  <td>-8.168e+04</td> <td> 1.27e+04</td> <td>   -6.429</td> <td> 0.000</td> <td>-1.07e+05</td> <td>-5.68e+04</td>\n",
       "</tr>\n",
       "<tr>\n",
       "  <th>zipcode_98168</th>  <td>-1.286e+05</td> <td> 1.23e+04</td> <td>  -10.429</td> <td> 0.000</td> <td>-1.53e+05</td> <td>-1.04e+05</td>\n",
       "</tr>\n",
       "<tr>\n",
       "  <th>zipcode_98177</th>  <td> 5.958e+04</td> <td> 1.29e+04</td> <td>    4.621</td> <td> 0.000</td> <td> 3.43e+04</td> <td> 8.48e+04</td>\n",
       "</tr>\n",
       "<tr>\n",
       "  <th>zipcode_98178</th>  <td>-1.196e+05</td> <td> 1.25e+04</td> <td>   -9.561</td> <td> 0.000</td> <td>-1.44e+05</td> <td>-9.51e+04</td>\n",
       "</tr>\n",
       "<tr>\n",
       "  <th>zipcode_98188</th>  <td>-1.527e+05</td> <td>  1.7e+04</td> <td>   -8.973</td> <td> 0.000</td> <td>-1.86e+05</td> <td>-1.19e+05</td>\n",
       "</tr>\n",
       "<tr>\n",
       "  <th>zipcode_98198</th>  <td>-1.513e+05</td> <td> 1.19e+04</td> <td>  -12.696</td> <td> 0.000</td> <td>-1.75e+05</td> <td>-1.28e+05</td>\n",
       "</tr>\n",
       "<tr>\n",
       "  <th>zipcode_98199</th>  <td> 2.228e+05</td> <td> 1.14e+04</td> <td>   19.621</td> <td> 0.000</td> <td> 2.01e+05</td> <td> 2.45e+05</td>\n",
       "</tr>\n",
       "<tr>\n",
       "  <th>sqft_lot</th>       <td>    0.2764</td> <td>    0.053</td> <td>    5.243</td> <td> 0.000</td> <td>    0.173</td> <td>    0.380</td>\n",
       "</tr>\n",
       "<tr>\n",
       "  <th>sqft_lot15</th>     <td>   -0.1966</td> <td>    0.084</td> <td>   -2.340</td> <td> 0.019</td> <td>   -0.361</td> <td>   -0.032</td>\n",
       "</tr>\n",
       "<tr>\n",
       "  <th>sqft_living15</th>  <td>   55.0183</td> <td>    3.510</td> <td>   15.676</td> <td> 0.000</td> <td>   48.139</td> <td>   61.898</td>\n",
       "</tr>\n",
       "<tr>\n",
       "  <th>yr_built</th>       <td> -624.6913</td> <td>   76.676</td> <td>   -8.147</td> <td> 0.000</td> <td> -774.985</td> <td> -474.398</td>\n",
       "</tr>\n",
       "<tr>\n",
       "  <th>condition</th>      <td> 2.493e+04</td> <td> 2424.613</td> <td>   10.284</td> <td> 0.000</td> <td> 2.02e+04</td> <td> 2.97e+04</td>\n",
       "</tr>\n",
       "<tr>\n",
       "  <th>bedrooms</th>       <td>-4.708e+04</td> <td> 2014.598</td> <td>  -23.371</td> <td> 0.000</td> <td> -5.1e+04</td> <td>-4.31e+04</td>\n",
       "</tr>\n",
       "<tr>\n",
       "  <th>bathrooms</th>      <td>   3.6e+04</td> <td> 3316.526</td> <td>   10.854</td> <td> 0.000</td> <td> 2.95e+04</td> <td> 4.25e+04</td>\n",
       "</tr>\n",
       "<tr>\n",
       "  <th>sqft_above</th>     <td>  258.1260</td> <td>    3.488</td> <td>   74.001</td> <td> 0.000</td> <td>  251.289</td> <td>  264.963</td>\n",
       "</tr>\n",
       "<tr>\n",
       "  <th>sqft_basement</th>  <td>  181.1114</td> <td>    4.405</td> <td>   41.113</td> <td> 0.000</td> <td>  172.477</td> <td>  189.746</td>\n",
       "</tr>\n",
       "<tr>\n",
       "  <th>floors</th>         <td>-3.151e+04</td> <td> 3989.404</td> <td>   -7.897</td> <td> 0.000</td> <td>-3.93e+04</td> <td>-2.37e+04</td>\n",
       "</tr>\n",
       "</table>\n",
       "<table class=\"simpletable\">\n",
       "<tr>\n",
       "  <th>Omnibus:</th>       <td>17959.774</td> <th>  Durbin-Watson:     </th>  <td>   2.015</td>  \n",
       "</tr>\n",
       "<tr>\n",
       "  <th>Prob(Omnibus):</th>  <td> 0.000</td>   <th>  Jarque-Bera (JB):  </th> <td>3289002.110</td>\n",
       "</tr>\n",
       "<tr>\n",
       "  <th>Skew:</th>           <td> 4.819</td>   <th>  Prob(JB):          </th>  <td>    0.00</td>  \n",
       "</tr>\n",
       "<tr>\n",
       "  <th>Kurtosis:</th>       <td>69.903</td>   <th>  Cond. No.          </th>  <td>2.64e+16</td>  \n",
       "</tr>\n",
       "</table><br/><br/>Warnings:<br/>[1] Standard Errors assume that the covariance matrix of the errors is correctly specified.<br/>[2] The smallest eigenvalue is 5.63e-20. This might indicate that there are<br/>strong multicollinearity problems or that the design matrix is singular."
      ],
      "text/plain": [
       "<class 'statsmodels.iolib.summary.Summary'>\n",
       "\"\"\"\n",
       "                            OLS Regression Results                            \n",
       "==============================================================================\n",
       "Dep. Variable:                  price   R-squared:                       0.751\n",
       "Model:                            OLS   Adj. R-squared:                  0.750\n",
       "Method:                 Least Squares   F-statistic:                     649.5\n",
       "Date:                Thu, 28 Jan 2021   Prob (F-statistic):               0.00\n",
       "Time:                        22:26:59   Log-Likelihood:            -2.3375e+05\n",
       "No. Observations:               17277   AIC:                         4.677e+05\n",
       "Df Residuals:                   17196   BIC:                         4.683e+05\n",
       "Df Model:                          80                                         \n",
       "Covariance Type:            nonrobust                                         \n",
       "==================================================================================\n",
       "                     coef    std err          t      P>|t|      [0.025      0.975]\n",
       "----------------------------------------------------------------------------------\n",
       "waterfront_Yes  8.122e+05    9.9e+04      8.201      0.000    6.18e+05    1.01e+06\n",
       "renovated_R     4.344e+05   4.87e+04      8.921      0.000    3.39e+05     5.3e+05\n",
       "renovated_RR    3.778e+05   5.08e+04      7.435      0.000    2.78e+05    4.77e+05\n",
       "zipcode_98001  -2.047e+05   1.11e+04    -18.444      0.000   -2.27e+05   -1.83e+05\n",
       "zipcode_98002  -1.815e+05   1.45e+04    -12.479      0.000    -2.1e+05   -1.53e+05\n",
       "zipcode_98003  -2.005e+05    1.2e+04    -16.737      0.000   -2.24e+05   -1.77e+05\n",
       "zipcode_98004   5.732e+05   1.19e+04     48.195      0.000     5.5e+05    5.96e+05\n",
       "zipcode_98005   9.456e+04   1.61e+04      5.872      0.000     6.3e+04    1.26e+05\n",
       "zipcode_98006   9.159e+04   9760.182      9.384      0.000    7.25e+04    1.11e+05\n",
       "zipcode_98007    4.49e+04   1.73e+04      2.602      0.009    1.11e+04    7.87e+04\n",
       "zipcode_98008   8.077e+04   1.22e+04      6.602      0.000    5.68e+04    1.05e+05\n",
       "zipcode_98010  -1.562e+05   2.03e+04     -7.699      0.000   -1.96e+05   -1.16e+05\n",
       "zipcode_98011  -9.419e+04   1.43e+04     -6.590      0.000   -1.22e+05   -6.62e+04\n",
       "zipcode_98014   -1.17e+05   1.85e+04     -6.330      0.000   -1.53e+05   -8.07e+04\n",
       "zipcode_98019  -1.342e+05   1.53e+04     -8.799      0.000   -1.64e+05   -1.04e+05\n",
       "zipcode_98022  -1.911e+05    1.4e+04    -13.674      0.000   -2.18e+05   -1.64e+05\n",
       "zipcode_98023   -2.27e+05   9362.258    -24.249      0.000   -2.45e+05   -2.09e+05\n",
       "zipcode_98024  -7.137e+04   2.22e+04     -3.219      0.001   -1.15e+05   -2.79e+04\n",
       "zipcode_98027  -3.508e+04   1.03e+04     -3.417      0.001   -5.52e+04    -1.5e+04\n",
       "zipcode_98028  -8.246e+04   1.22e+04     -6.769      0.000   -1.06e+05   -5.86e+04\n",
       "zipcode_98029   1.304e+04   1.19e+04      1.097      0.273   -1.03e+04    3.63e+04\n",
       "zipcode_98030  -2.065e+05   1.31e+04    -15.728      0.000   -2.32e+05   -1.81e+05\n",
       "zipcode_98031  -1.943e+05   1.26e+04    -15.384      0.000   -2.19e+05    -1.7e+05\n",
       "zipcode_98032  -1.874e+05   1.77e+04    -10.610      0.000   -2.22e+05   -1.53e+05\n",
       "zipcode_98033   1.808e+05      1e+04     18.082      0.000    1.61e+05       2e+05\n",
       "zipcode_98034   1.899e+04   8897.938      2.134      0.033    1549.474    3.64e+04\n",
       "zipcode_98038  -1.945e+05   8875.240    -21.917      0.000   -2.12e+05   -1.77e+05\n",
       "zipcode_98039   1.145e+06   2.81e+04     40.794      0.000    1.09e+06     1.2e+06\n",
       "zipcode_98040    3.45e+05   1.27e+04     27.112      0.000     3.2e+05     3.7e+05\n",
       "zipcode_98042  -2.051e+05   8951.330    -22.916      0.000   -2.23e+05   -1.88e+05\n",
       "zipcode_98045  -1.041e+05   1.39e+04     -7.516      0.000   -1.31e+05    -7.7e+04\n",
       "zipcode_98052   2.797e+04   8892.118      3.146      0.002    1.05e+04    4.54e+04\n",
       "zipcode_98053  -3.328e+04   1.08e+04     -3.092      0.002   -5.44e+04   -1.22e+04\n",
       "zipcode_98055  -1.656e+05   1.26e+04    -13.187      0.000    -1.9e+05   -1.41e+05\n",
       "zipcode_98056  -1.008e+05   1.04e+04     -9.651      0.000   -1.21e+05   -8.03e+04\n",
       "zipcode_98058  -1.757e+05   9804.392    -17.925      0.000   -1.95e+05   -1.57e+05\n",
       "zipcode_98059  -1.391e+05   9894.468    -14.059      0.000   -1.59e+05    -1.2e+05\n",
       "zipcode_98065   -1.52e+05    1.2e+04    -12.663      0.000   -1.76e+05   -1.28e+05\n",
       "zipcode_98070  -4.437e+04   1.97e+04     -2.249      0.025    -8.3e+04   -5694.010\n",
       "zipcode_98072  -6.585e+04   1.29e+04     -5.110      0.000   -9.11e+04   -4.06e+04\n",
       "zipcode_98074  -1.683e+04      1e+04     -1.678      0.093   -3.65e+04    2826.149\n",
       "zipcode_98075  -2.342e+04   1.12e+04     -2.086      0.037   -4.54e+04   -1417.941\n",
       "zipcode_98077  -1.051e+05   1.44e+04     -7.281      0.000   -1.33e+05   -7.68e+04\n",
       "zipcode_98092  -2.415e+05   1.11e+04    -21.800      0.000   -2.63e+05    -2.2e+05\n",
       "zipcode_98102   3.313e+05   1.97e+04     16.834      0.000    2.93e+05     3.7e+05\n",
       "zipcode_98103   1.655e+05   8553.912     19.351      0.000    1.49e+05    1.82e+05\n",
       "zipcode_98105    2.78e+05   1.39e+04     20.040      0.000    2.51e+05    3.05e+05\n",
       "zipcode_98106  -3.947e+04   1.11e+04     -3.568      0.000   -6.12e+04   -1.78e+04\n",
       "zipcode_98107   1.727e+05   1.25e+04     13.784      0.000    1.48e+05    1.97e+05\n",
       "zipcode_98108  -6.972e+04    1.5e+04     -4.656      0.000   -9.91e+04   -4.04e+04\n",
       "zipcode_98109   3.342e+05      2e+04     16.715      0.000    2.95e+05    3.73e+05\n",
       "zipcode_98112   4.384e+05   1.25e+04     35.113      0.000    4.14e+05    4.63e+05\n",
       "zipcode_98115   1.479e+05   8646.375     17.105      0.000    1.31e+05    1.65e+05\n",
       "zipcode_98116   1.438e+05   1.12e+04     12.873      0.000    1.22e+05    1.66e+05\n",
       "zipcode_98117   1.425e+05   8873.828     16.060      0.000    1.25e+05     1.6e+05\n",
       "zipcode_98118  -6919.0382   9211.177     -0.751      0.453    -2.5e+04    1.11e+04\n",
       "zipcode_98119    3.37e+05   1.52e+04     22.191      0.000    3.07e+05    3.67e+05\n",
       "zipcode_98122   1.781e+05   1.22e+04     14.589      0.000    1.54e+05    2.02e+05\n",
       "zipcode_98125   3.034e+04   1.02e+04      2.975      0.003    1.04e+04    5.03e+04\n",
       "zipcode_98126   2.913e+04   1.09e+04      2.667      0.008    7722.753    5.05e+04\n",
       "zipcode_98133  -2.656e+04   9377.500     -2.833      0.005   -4.49e+04   -8181.486\n",
       "zipcode_98136   1.042e+05   1.25e+04      8.344      0.000    7.97e+04    1.29e+05\n",
       "zipcode_98144    1.14e+05   1.11e+04     10.254      0.000    9.22e+04    1.36e+05\n",
       "zipcode_98146  -5.145e+04   1.23e+04     -4.199      0.000   -7.55e+04   -2.74e+04\n",
       "zipcode_98148  -1.236e+05   2.78e+04     -4.441      0.000   -1.78e+05    -6.9e+04\n",
       "zipcode_98155  -3.036e+04   9879.534     -3.073      0.002   -4.97e+04    -1.1e+04\n",
       "zipcode_98166  -8.168e+04   1.27e+04     -6.429      0.000   -1.07e+05   -5.68e+04\n",
       "zipcode_98168  -1.286e+05   1.23e+04    -10.429      0.000   -1.53e+05   -1.04e+05\n",
       "zipcode_98177   5.958e+04   1.29e+04      4.621      0.000    3.43e+04    8.48e+04\n",
       "zipcode_98178  -1.196e+05   1.25e+04     -9.561      0.000   -1.44e+05   -9.51e+04\n",
       "zipcode_98188  -1.527e+05    1.7e+04     -8.973      0.000   -1.86e+05   -1.19e+05\n",
       "zipcode_98198  -1.513e+05   1.19e+04    -12.696      0.000   -1.75e+05   -1.28e+05\n",
       "zipcode_98199   2.228e+05   1.14e+04     19.621      0.000    2.01e+05    2.45e+05\n",
       "sqft_lot           0.2764      0.053      5.243      0.000       0.173       0.380\n",
       "sqft_lot15        -0.1966      0.084     -2.340      0.019      -0.361      -0.032\n",
       "sqft_living15     55.0183      3.510     15.676      0.000      48.139      61.898\n",
       "yr_built        -624.6913     76.676     -8.147      0.000    -774.985    -474.398\n",
       "condition       2.493e+04   2424.613     10.284      0.000    2.02e+04    2.97e+04\n",
       "bedrooms       -4.708e+04   2014.598    -23.371      0.000    -5.1e+04   -4.31e+04\n",
       "bathrooms         3.6e+04   3316.526     10.854      0.000    2.95e+04    4.25e+04\n",
       "sqft_above       258.1260      3.488     74.001      0.000     251.289     264.963\n",
       "sqft_basement    181.1114      4.405     41.113      0.000     172.477     189.746\n",
       "floors         -3.151e+04   3989.404     -7.897      0.000   -3.93e+04   -2.37e+04\n",
       "==============================================================================\n",
       "Omnibus:                    17959.774   Durbin-Watson:                   2.015\n",
       "Prob(Omnibus):                  0.000   Jarque-Bera (JB):          3289002.110\n",
       "Skew:                           4.819   Prob(JB):                         0.00\n",
       "Kurtosis:                      69.903   Cond. No.                     2.64e+16\n",
       "==============================================================================\n",
       "\n",
       "Warnings:\n",
       "[1] Standard Errors assume that the covariance matrix of the errors is correctly specified.\n",
       "[2] The smallest eigenvalue is 5.63e-20. This might indicate that there are\n",
       "strong multicollinearity problems or that the design matrix is singular.\n",
       "\"\"\""
      ]
     },
     "execution_count": 21,
     "metadata": {},
     "output_type": "execute_result"
    }
   ],
   "source": [
    "# Run an Ordinary Least Squares model and get a results summary\n",
    "ut.ols_summary(X_train, y_train, X)"
   ]
  },
  {
   "cell_type": "markdown",
   "metadata": {},
   "source": [
    "The skew and kurtosis are both higher than desired, indicating the data is right skewed and there is a high number of outliers. The p-values for almost all features are significant and the p-value for the F-statistic is significant as well, indicating that we can reject the null hypothesis and say that the model fits the data. "
   ]
  },
  {
   "cell_type": "code",
   "execution_count": 22,
   "metadata": {
    "scrolled": true
   },
   "outputs": [
    {
     "data": {
      "image/png": "[encoded data removed]",
      "text/plain": [
       "<Figure size 432x288 with 2 Axes>"
      ]
     },
     "metadata": {
      "needs_background": "light"
     },
     "output_type": "display_data"
    },
    {
     "data": {
      "text/plain": [
       "<matplotlib.axes._subplots.AxesSubplot at 0x7ffb74dd36a0>"
      ]
     },
     "execution_count": 22,
     "metadata": {},
     "output_type": "execute_result"
    }
   ],
   "source": [
    "# Instantiate the linear model and visualizer\n",
    "model = Ridge()\n",
    "visualizer = ResidualsPlot(model)\n",
    "# Fit the training data\n",
    "visualizer.fit(X_train, y_train) \n",
    "# Score the test data\n",
    "visualizer.score(X_test, y_test)\n",
    "# Plot the residuals\n",
    "visualizer.show()  "
   ]
  },
  {
   "cell_type": "markdown",
   "metadata": {},
   "source": [
    "The residuals plot shows that the results have high heteroskedasticity, showing that the model does a better job of predicting small values compared to larger values."
   ]
  },
  {
   "cell_type": "markdown",
   "metadata": {},
   "source": [
    "###  Iteration 2"
   ]
  },
  {
   "cell_type": "markdown",
   "metadata": {},
   "source": [
    "In this iteration, I will address the skewness and heteroskedasticity of the initial model by normalizing and scaling data using a method that will help with the outliers. "
   ]
  },
  {
   "cell_type": "markdown",
   "metadata": {},
   "source": [
    "#### Data Preparation 2\n",
    "I will use the same features as the first model, so will start by using the categorical dataframe (cat_data) and continuous dataframe (cont_data) as the starting point. I start by checking the continuous data for normal distributions."
   ]
  },
  {
   "cell_type": "code",
   "execution_count": 23,
   "metadata": {
    "scrolled": false
   },
   "outputs": [
    {
     "data": {
      "image/png": "[encoded data removed]",
      "text/plain": [
       "<Figure size 864x864 with 12 Axes>"
      ]
     },
     "metadata": {
      "needs_background": "light"
     },
     "output_type": "display_data"
    }
   ],
   "source": [
    "# Look at histograms of the continuous data previously identified\n",
    "cont_data.hist(figsize= (12, 12))\n",
    "plt.show()"
   ]
  },
  {
   "cell_type": "markdown",
   "metadata": {},
   "source": [
    "None of these are normally distributed. I use a log transformation to normalize the distributions of all continuous data, then check the distributions again."
   ]
  },
  {
   "cell_type": "code",
   "execution_count": 24,
   "metadata": {},
   "outputs": [
    {
     "data": {
      "image/png": "[encoded data removed]",
      "text/plain": [
       "<Figure size 864x864 with 12 Axes>"
      ]
     },
     "metadata": {
      "needs_background": "light"
     },
     "output_type": "display_data"
    }
   ],
   "source": [
    "# Take log of continuous data and plot histograms\n",
    "cont_data_log = np.log1p(cont_data)\n",
    "cont_data_log.hist(figsize= (12, 12))\n",
    "plt.show()"
   ]
  },
  {
   "cell_type": "markdown",
   "metadata": {},
   "source": [
    "With the exception of yr_built, the features look more normally distributed. Next, I check the continutous features for outliers."
   ]
  },
  {
   "cell_type": "code",
   "execution_count": 25,
   "metadata": {},
   "outputs": [
    {
     "data": {
      "text/plain": [
       "<matplotlib.axes._subplots.AxesSubplot at 0x7ffb5daa7160>"
      ]
     },
     "execution_count": 25,
     "metadata": {},
     "output_type": "execute_result"
    },
    {
     "data": {
      "image/png": "[encoded data removed]",
      "text/plain": [
       "<Figure size 864x432 with 1 Axes>"
      ]
     },
     "metadata": {
      "needs_background": "light"
     },
     "output_type": "display_data"
    }
   ],
   "source": [
    "# Check continuous features for outliers. I excluded price as it is the target feature \n",
    "# and also on a scale much larger than the others\n",
    "cont_data_log.drop(['price'], axis=1).boxplot(figsize= (12, 6))"
   ]
  },
  {
   "cell_type": "markdown",
   "metadata": {},
   "source": [
    "6 of the 10 features have a large number of outliers. Additionally, they are fairly normally distributed. Thus, I use the RobustScaler to scale the explanatory features, which works best with normally distributed data that contains outliers. First, I one hot encode the categorical data, concatenate the continuous and categorical data and split the resulting dataframes into train and test sets. I split the data into training and test sets so the the test data does not leak into the training set during the scaling process, which scales data based on feature median and inner quartile range."
   ]
  },
  {
   "cell_type": "code",
   "execution_count": 26,
   "metadata": {},
   "outputs": [],
   "source": [
    "# One hot encode the categoricals, concatenate the ohe categoricals with the log of continuous data\n",
    "# then split into the target and explanatory features. \n",
    "X2, y2 = ut.ohe_concat(cat_data, cont_data_log, categoricals, 'price')\n",
    "# Split X2 and y2 into training and testing sets\n",
    "X_train2, X_test2, y_train2, y_test2 = train_test_split(X2, y2, test_size = 0.2, random_state=9)"
   ]
  },
  {
   "cell_type": "code",
   "execution_count": 27,
   "metadata": {},
   "outputs": [],
   "source": [
    "#use RobustScaler to scale training and testing data \n",
    "# Instantiate the RobustScaler\n",
    "scaler = RobustScaler()\n",
    "# Scale the training and testing data\n",
    "X_train2_scaled = pd.DataFrame(scaler.fit_transform(X_train2))\n",
    "X_test2_scaled = pd.DataFrame(scaler.fit_transform(X_test2))"
   ]
  },
  {
   "cell_type": "markdown",
   "metadata": {},
   "source": [
    "#### Model 2\n",
    "Now that the data has been transformed and scaled, I make a second model."
   ]
  },
  {
   "cell_type": "code",
   "execution_count": 28,
   "metadata": {},
   "outputs": [
    {
     "name": "stdout",
     "output_type": "stream",
     "text": [
      "Training Scores: R2 0.85060, Mean Absolute Error 0.15, Root Mean Squared Error 0.20\n",
      "Testing Scores: R2 0.84489, Mean Absolute Error 0.15, Root Mean Squared Error 0.21\n"
     ]
    }
   ],
   "source": [
    "# Instantiate LinnearRegression\n",
    "linreg2 = LinearRegression()\n",
    "# Fit the scaled training data\n",
    "linreg2.fit(X_train2_scaled, y_train2)\n",
    "# Get predictions on testing data and pring results\n",
    "ut.predictions(linreg2, X_train2_scaled, X_test2_scaled, y_train2, y_test2)"
   ]
  },
  {
   "cell_type": "markdown",
   "metadata": {},
   "source": [
    "#### Evaluation 2"
   ]
  },
  {
   "cell_type": "markdown",
   "metadata": {},
   "source": [
    "The normalization and scaling of the data has increased the R2 values from 0.75 to 0.85. Additionally, the rmse is now only 33% higher than the mae compared to the first model where it was 72% higher. This indicates that there are fewer predictions with large errors. "
   ]
  },
  {
   "cell_type": "code",
   "execution_count": 29,
   "metadata": {},
   "outputs": [
    {
     "name": "stderr",
     "output_type": "stream",
     "text": [
      "/Users/cindyreiner/opt/anaconda3/envs/learn-env/lib/python3.6/site-packages/numpy/core/fromnumeric.py:2580: FutureWarning: Method .ptp is deprecated and will be removed in a future version. Use numpy.ptp instead.\n",
      "  return ptp(axis=axis, out=out, **kwargs)\n"
     ]
    },
    {
     "data": {
      "text/html": [
       "<table class=\"simpletable\">\n",
       "<caption>OLS Regression Results</caption>\n",
       "<tr>\n",
       "  <th>Dep. Variable:</th>          <td>price</td>      <th>  R-squared:         </th> <td>   0.851</td>\n",
       "</tr>\n",
       "<tr>\n",
       "  <th>Model:</th>                   <td>OLS</td>       <th>  Adj. R-squared:    </th> <td>   0.850</td>\n",
       "</tr>\n",
       "<tr>\n",
       "  <th>Method:</th>             <td>Least Squares</td>  <th>  F-statistic:       </th> <td>   1224.</td>\n",
       "</tr>\n",
       "<tr>\n",
       "  <th>Date:</th>             <td>Thu, 28 Jan 2021</td> <th>  Prob (F-statistic):</th>  <td>  0.00</td> \n",
       "</tr>\n",
       "<tr>\n",
       "  <th>Time:</th>                 <td>22:27:05</td>     <th>  Log-Likelihood:    </th> <td>  3020.1</td>\n",
       "</tr>\n",
       "<tr>\n",
       "  <th>No. Observations:</th>      <td> 17277</td>      <th>  AIC:               </th> <td>  -5878.</td>\n",
       "</tr>\n",
       "<tr>\n",
       "  <th>Df Residuals:</th>          <td> 17196</td>      <th>  BIC:               </th> <td>  -5250.</td>\n",
       "</tr>\n",
       "<tr>\n",
       "  <th>Df Model:</th>              <td>    80</td>      <th>                     </th>     <td> </td>   \n",
       "</tr>\n",
       "<tr>\n",
       "  <th>Covariance Type:</th>      <td>nonrobust</td>    <th>                     </th>     <td> </td>   \n",
       "</tr>\n",
       "</table>\n",
       "<table class=\"simpletable\">\n",
       "<tr>\n",
       "         <td></td>           <th>coef</th>     <th>std err</th>      <th>t</th>      <th>P>|t|</th>  <th>[0.025</th>    <th>0.975]</th>  \n",
       "</tr>\n",
       "<tr>\n",
       "  <th>waterfront_Yes</th> <td>    1.0433</td> <td>    0.865</td> <td>    1.207</td> <td> 0.228</td> <td>   -0.651</td> <td>    2.738</td>\n",
       "</tr>\n",
       "<tr>\n",
       "  <th>renovated_R</th>    <td>    0.5542</td> <td>    0.431</td> <td>    1.286</td> <td> 0.198</td> <td>   -0.291</td> <td>    1.399</td>\n",
       "</tr>\n",
       "<tr>\n",
       "  <th>renovated_RR</th>   <td>    0.4891</td> <td>    0.434</td> <td>    1.128</td> <td> 0.259</td> <td>   -0.361</td> <td>    1.339</td>\n",
       "</tr>\n",
       "<tr>\n",
       "  <th>zipcode_98001</th>  <td>   -0.5094</td> <td>    0.018</td> <td>  -28.033</td> <td> 0.000</td> <td>   -0.545</td> <td>   -0.474</td>\n",
       "</tr>\n",
       "<tr>\n",
       "  <th>zipcode_98002</th>  <td>   -0.5102</td> <td>    0.021</td> <td>  -24.722</td> <td> 0.000</td> <td>   -0.551</td> <td>   -0.470</td>\n",
       "</tr>\n",
       "<tr>\n",
       "  <th>zipcode_98003</th>  <td>   -0.4672</td> <td>    0.019</td> <td>  -25.092</td> <td> 0.000</td> <td>   -0.504</td> <td>   -0.431</td>\n",
       "</tr>\n",
       "<tr>\n",
       "  <th>zipcode_98004</th>  <td>    0.6655</td> <td>    0.018</td> <td>   36.521</td> <td> 0.000</td> <td>    0.630</td> <td>    0.701</td>\n",
       "</tr>\n",
       "<tr>\n",
       "  <th>zipcode_98005</th>  <td>    0.2297</td> <td>    0.022</td> <td>   10.415</td> <td> 0.000</td> <td>    0.186</td> <td>    0.273</td>\n",
       "</tr>\n",
       "<tr>\n",
       "  <th>zipcode_98006</th>  <td>    0.2127</td> <td>    0.017</td> <td>   12.596</td> <td> 0.000</td> <td>    0.180</td> <td>    0.246</td>\n",
       "</tr>\n",
       "<tr>\n",
       "  <th>zipcode_98007</th>  <td>    0.1677</td> <td>    0.023</td> <td>    7.288</td> <td> 0.000</td> <td>    0.123</td> <td>    0.213</td>\n",
       "</tr>\n",
       "<tr>\n",
       "  <th>zipcode_98008</th>  <td>    0.2060</td> <td>    0.019</td> <td>   11.109</td> <td> 0.000</td> <td>    0.170</td> <td>    0.242</td>\n",
       "</tr>\n",
       "<tr>\n",
       "  <th>zipcode_98010</th>  <td>   -0.3120</td> <td>    0.027</td> <td>  -11.726</td> <td> 0.000</td> <td>   -0.364</td> <td>   -0.260</td>\n",
       "</tr>\n",
       "<tr>\n",
       "  <th>zipcode_98011</th>  <td>   -0.0690</td> <td>    0.020</td> <td>   -3.369</td> <td> 0.001</td> <td>   -0.109</td> <td>   -0.029</td>\n",
       "</tr>\n",
       "<tr>\n",
       "  <th>zipcode_98014</th>  <td>   -0.2403</td> <td>    0.025</td> <td>   -9.668</td> <td> 0.000</td> <td>   -0.289</td> <td>   -0.192</td>\n",
       "</tr>\n",
       "<tr>\n",
       "  <th>zipcode_98019</th>  <td>   -0.2234</td> <td>    0.022</td> <td>  -10.291</td> <td> 0.000</td> <td>   -0.266</td> <td>   -0.181</td>\n",
       "</tr>\n",
       "<tr>\n",
       "  <th>zipcode_98022</th>  <td>   -0.4545</td> <td>    0.021</td> <td>  -22.153</td> <td> 0.000</td> <td>   -0.495</td> <td>   -0.414</td>\n",
       "</tr>\n",
       "<tr>\n",
       "  <th>zipcode_98023</th>  <td>   -0.5148</td> <td>    0.017</td> <td>  -30.733</td> <td> 0.000</td> <td>   -0.548</td> <td>   -0.482</td>\n",
       "</tr>\n",
       "<tr>\n",
       "  <th>zipcode_98024</th>  <td>   -0.0997</td> <td>    0.028</td> <td>   -3.551</td> <td> 0.000</td> <td>   -0.155</td> <td>   -0.045</td>\n",
       "</tr>\n",
       "<tr>\n",
       "  <th>zipcode_98027</th>  <td>    0.0120</td> <td>    0.017</td> <td>    0.687</td> <td> 0.492</td> <td>   -0.022</td> <td>    0.046</td>\n",
       "</tr>\n",
       "<tr>\n",
       "  <th>zipcode_98028</th>  <td>   -0.0810</td> <td>    0.019</td> <td>   -4.327</td> <td> 0.000</td> <td>   -0.118</td> <td>   -0.044</td>\n",
       "</tr>\n",
       "<tr>\n",
       "  <th>zipcode_98029</th>  <td>    0.1336</td> <td>    0.019</td> <td>    7.218</td> <td> 0.000</td> <td>    0.097</td> <td>    0.170</td>\n",
       "</tr>\n",
       "<tr>\n",
       "  <th>zipcode_98030</th>  <td>   -0.4742</td> <td>    0.020</td> <td>  -24.073</td> <td> 0.000</td> <td>   -0.513</td> <td>   -0.436</td>\n",
       "</tr>\n",
       "<tr>\n",
       "  <th>zipcode_98031</th>  <td>   -0.4422</td> <td>    0.019</td> <td>  -22.908</td> <td> 0.000</td> <td>   -0.480</td> <td>   -0.404</td>\n",
       "</tr>\n",
       "<tr>\n",
       "  <th>zipcode_98032</th>  <td>   -0.4930</td> <td>    0.024</td> <td>  -20.957</td> <td> 0.000</td> <td>   -0.539</td> <td>   -0.447</td>\n",
       "</tr>\n",
       "<tr>\n",
       "  <th>zipcode_98033</th>  <td>    0.3241</td> <td>    0.017</td> <td>   19.123</td> <td> 0.000</td> <td>    0.291</td> <td>    0.357</td>\n",
       "</tr>\n",
       "<tr>\n",
       "  <th>zipcode_98034</th>  <td>    0.0687</td> <td>    0.016</td> <td>    4.237</td> <td> 0.000</td> <td>    0.037</td> <td>    0.100</td>\n",
       "</tr>\n",
       "<tr>\n",
       "  <th>zipcode_98038</th>  <td>   -0.3650</td> <td>    0.017</td> <td>  -21.779</td> <td> 0.000</td> <td>   -0.398</td> <td>   -0.332</td>\n",
       "</tr>\n",
       "<tr>\n",
       "  <th>zipcode_98039</th>  <td>    0.8810</td> <td>    0.034</td> <td>   26.182</td> <td> 0.000</td> <td>    0.815</td> <td>    0.947</td>\n",
       "</tr>\n",
       "<tr>\n",
       "  <th>zipcode_98040</th>  <td>    0.4565</td> <td>    0.019</td> <td>   24.136</td> <td> 0.000</td> <td>    0.419</td> <td>    0.494</td>\n",
       "</tr>\n",
       "<tr>\n",
       "  <th>zipcode_98042</th>  <td>   -0.4517</td> <td>    0.017</td> <td>  -26.781</td> <td> 0.000</td> <td>   -0.485</td> <td>   -0.419</td>\n",
       "</tr>\n",
       "<tr>\n",
       "  <th>zipcode_98045</th>  <td>   -0.1782</td> <td>    0.021</td> <td>   -8.586</td> <td> 0.000</td> <td>   -0.219</td> <td>   -0.137</td>\n",
       "</tr>\n",
       "<tr>\n",
       "  <th>zipcode_98052</th>  <td>    0.1458</td> <td>    0.016</td> <td>    8.908</td> <td> 0.000</td> <td>    0.114</td> <td>    0.178</td>\n",
       "</tr>\n",
       "<tr>\n",
       "  <th>zipcode_98053</th>  <td>    0.0665</td> <td>    0.018</td> <td>    3.634</td> <td> 0.000</td> <td>    0.031</td> <td>    0.102</td>\n",
       "</tr>\n",
       "<tr>\n",
       "  <th>zipcode_98055</th>  <td>   -0.3619</td> <td>    0.019</td> <td>  -19.383</td> <td> 0.000</td> <td>   -0.399</td> <td>   -0.325</td>\n",
       "</tr>\n",
       "<tr>\n",
       "  <th>zipcode_98056</th>  <td>   -0.1609</td> <td>    0.018</td> <td>   -9.171</td> <td> 0.000</td> <td>   -0.195</td> <td>   -0.126</td>\n",
       "</tr>\n",
       "<tr>\n",
       "  <th>zipcode_98058</th>  <td>   -0.3395</td> <td>    0.017</td> <td>  -19.825</td> <td> 0.000</td> <td>   -0.373</td> <td>   -0.306</td>\n",
       "</tr>\n",
       "<tr>\n",
       "  <th>zipcode_98059</th>  <td>   -0.1864</td> <td>    0.017</td> <td>  -10.735</td> <td> 0.000</td> <td>   -0.220</td> <td>   -0.152</td>\n",
       "</tr>\n",
       "<tr>\n",
       "  <th>zipcode_98065</th>  <td>   -0.1310</td> <td>    0.019</td> <td>   -6.981</td> <td> 0.000</td> <td>   -0.168</td> <td>   -0.094</td>\n",
       "</tr>\n",
       "<tr>\n",
       "  <th>zipcode_98070</th>  <td>   -0.0798</td> <td>    0.026</td> <td>   -3.097</td> <td> 0.002</td> <td>   -0.130</td> <td>   -0.029</td>\n",
       "</tr>\n",
       "<tr>\n",
       "  <th>zipcode_98072</th>  <td>   -0.0463</td> <td>    0.020</td> <td>   -2.351</td> <td> 0.019</td> <td>   -0.085</td> <td>   -0.008</td>\n",
       "</tr>\n",
       "<tr>\n",
       "  <th>zipcode_98074</th>  <td>    0.0942</td> <td>    0.017</td> <td>    5.475</td> <td> 0.000</td> <td>    0.060</td> <td>    0.128</td>\n",
       "</tr>\n",
       "<tr>\n",
       "  <th>zipcode_98075</th>  <td>    0.0985</td> <td>    0.018</td> <td>    5.398</td> <td> 0.000</td> <td>    0.063</td> <td>    0.134</td>\n",
       "</tr>\n",
       "<tr>\n",
       "  <th>zipcode_98077</th>  <td>   -0.0860</td> <td>    0.021</td> <td>   -4.033</td> <td> 0.000</td> <td>   -0.128</td> <td>   -0.044</td>\n",
       "</tr>\n",
       "<tr>\n",
       "  <th>zipcode_98092</th>  <td>   -0.4933</td> <td>    0.018</td> <td>  -26.847</td> <td> 0.000</td> <td>   -0.529</td> <td>   -0.457</td>\n",
       "</tr>\n",
       "<tr>\n",
       "  <th>zipcode_98102</th>  <td>    0.5653</td> <td>    0.024</td> <td>   23.626</td> <td> 0.000</td> <td>    0.518</td> <td>    0.612</td>\n",
       "</tr>\n",
       "<tr>\n",
       "  <th>zipcode_98103</th>  <td>    0.4424</td> <td>    0.014</td> <td>   31.695</td> <td> 0.000</td> <td>    0.415</td> <td>    0.470</td>\n",
       "</tr>\n",
       "<tr>\n",
       "  <th>zipcode_98105</th>  <td>    0.5331</td> <td>    0.018</td> <td>   29.287</td> <td> 0.000</td> <td>    0.497</td> <td>    0.569</td>\n",
       "</tr>\n",
       "<tr>\n",
       "  <th>zipcode_98106</th>  <td>   -0.0584</td> <td>    0.017</td> <td>   -3.404</td> <td> 0.001</td> <td>   -0.092</td> <td>   -0.025</td>\n",
       "</tr>\n",
       "<tr>\n",
       "  <th>zipcode_98107</th>  <td>    0.4651</td> <td>    0.018</td> <td>   26.536</td> <td> 0.000</td> <td>    0.431</td> <td>    0.499</td>\n",
       "</tr>\n",
       "<tr>\n",
       "  <th>zipcode_98108</th>  <td>   -0.0686</td> <td>    0.020</td> <td>   -3.409</td> <td> 0.001</td> <td>   -0.108</td> <td>   -0.029</td>\n",
       "</tr>\n",
       "<tr>\n",
       "  <th>zipcode_98109</th>  <td>    0.6145</td> <td>    0.024</td> <td>   25.390</td> <td> 0.000</td> <td>    0.567</td> <td>    0.662</td>\n",
       "</tr>\n",
       "<tr>\n",
       "  <th>zipcode_98112</th>  <td>    0.6456</td> <td>    0.017</td> <td>   38.386</td> <td> 0.000</td> <td>    0.613</td> <td>    0.679</td>\n",
       "</tr>\n",
       "<tr>\n",
       "  <th>zipcode_98115</th>  <td>    0.4005</td> <td>    0.014</td> <td>   27.880</td> <td> 0.000</td> <td>    0.372</td> <td>    0.429</td>\n",
       "</tr>\n",
       "<tr>\n",
       "  <th>zipcode_98116</th>  <td>    0.3999</td> <td>    0.017</td> <td>   24.111</td> <td> 0.000</td> <td>    0.367</td> <td>    0.432</td>\n",
       "</tr>\n",
       "<tr>\n",
       "  <th>zipcode_98117</th>  <td>    0.4259</td> <td>    0.014</td> <td>   29.526</td> <td> 0.000</td> <td>    0.398</td> <td>    0.454</td>\n",
       "</tr>\n",
       "<tr>\n",
       "  <th>zipcode_98118</th>  <td>    0.0553</td> <td>    0.015</td> <td>    3.701</td> <td> 0.000</td> <td>    0.026</td> <td>    0.085</td>\n",
       "</tr>\n",
       "<tr>\n",
       "  <th>zipcode_98119</th>  <td>    0.6241</td> <td>    0.019</td> <td>   32.195</td> <td> 0.000</td> <td>    0.586</td> <td>    0.662</td>\n",
       "</tr>\n",
       "<tr>\n",
       "  <th>zipcode_98122</th>  <td>    0.4337</td> <td>    0.017</td> <td>   25.865</td> <td> 0.000</td> <td>    0.401</td> <td>    0.467</td>\n",
       "</tr>\n",
       "<tr>\n",
       "  <th>zipcode_98125</th>  <td>    0.1354</td> <td>    0.016</td> <td>    8.283</td> <td> 0.000</td> <td>    0.103</td> <td>    0.167</td>\n",
       "</tr>\n",
       "<tr>\n",
       "  <th>zipcode_98126</th>  <td>    0.1792</td> <td>    0.016</td> <td>   10.887</td> <td> 0.000</td> <td>    0.147</td> <td>    0.211</td>\n",
       "</tr>\n",
       "<tr>\n",
       "  <th>zipcode_98133</th>  <td>    0.0073</td> <td>    0.016</td> <td>    0.456</td> <td> 0.649</td> <td>   -0.024</td> <td>    0.039</td>\n",
       "</tr>\n",
       "<tr>\n",
       "  <th>zipcode_98136</th>  <td>    0.3160</td> <td>    0.018</td> <td>   17.699</td> <td> 0.000</td> <td>    0.281</td> <td>    0.351</td>\n",
       "</tr>\n",
       "<tr>\n",
       "  <th>zipcode_98144</th>  <td>    0.2985</td> <td>    0.016</td> <td>   18.282</td> <td> 0.000</td> <td>    0.266</td> <td>    0.330</td>\n",
       "</tr>\n",
       "<tr>\n",
       "  <th>zipcode_98146</th>  <td>   -0.1368</td> <td>    0.018</td> <td>   -7.565</td> <td> 0.000</td> <td>   -0.172</td> <td>   -0.101</td>\n",
       "</tr>\n",
       "<tr>\n",
       "  <th>zipcode_98148</th>  <td>   -0.3154</td> <td>    0.033</td> <td>   -9.462</td> <td> 0.000</td> <td>   -0.381</td> <td>   -0.250</td>\n",
       "</tr>\n",
       "<tr>\n",
       "  <th>zipcode_98155</th>  <td>   -0.0249</td> <td>    0.016</td> <td>   -1.510</td> <td> 0.131</td> <td>   -0.057</td> <td>    0.007</td>\n",
       "</tr>\n",
       "<tr>\n",
       "  <th>zipcode_98166</th>  <td>   -0.1172</td> <td>    0.019</td> <td>   -6.274</td> <td> 0.000</td> <td>   -0.154</td> <td>   -0.081</td>\n",
       "</tr>\n",
       "<tr>\n",
       "  <th>zipcode_98168</th>  <td>   -0.4019</td> <td>    0.018</td> <td>  -22.090</td> <td> 0.000</td> <td>   -0.438</td> <td>   -0.366</td>\n",
       "</tr>\n",
       "<tr>\n",
       "  <th>zipcode_98177</th>  <td>    0.1754</td> <td>    0.019</td> <td>    9.354</td> <td> 0.000</td> <td>    0.139</td> <td>    0.212</td>\n",
       "</tr>\n",
       "<tr>\n",
       "  <th>zipcode_98178</th>  <td>   -0.2722</td> <td>    0.018</td> <td>  -14.959</td> <td> 0.000</td> <td>   -0.308</td> <td>   -0.237</td>\n",
       "</tr>\n",
       "<tr>\n",
       "  <th>zipcode_98188</th>  <td>   -0.3592</td> <td>    0.023</td> <td>  -15.772</td> <td> 0.000</td> <td>   -0.404</td> <td>   -0.315</td>\n",
       "</tr>\n",
       "<tr>\n",
       "  <th>zipcode_98198</th>  <td>   -0.3761</td> <td>    0.018</td> <td>  -20.493</td> <td> 0.000</td> <td>   -0.412</td> <td>   -0.340</td>\n",
       "</tr>\n",
       "<tr>\n",
       "  <th>zipcode_98199</th>  <td>    0.4657</td> <td>    0.017</td> <td>   27.811</td> <td> 0.000</td> <td>    0.433</td> <td>    0.499</td>\n",
       "</tr>\n",
       "<tr>\n",
       "  <th>sqft_lot</th>       <td>    0.0798</td> <td>    0.005</td> <td>   17.333</td> <td> 0.000</td> <td>    0.071</td> <td>    0.089</td>\n",
       "</tr>\n",
       "<tr>\n",
       "  <th>sqft_lot15</th>     <td>   -0.0120</td> <td>    0.005</td> <td>   -2.365</td> <td> 0.018</td> <td>   -0.022</td> <td>   -0.002</td>\n",
       "</tr>\n",
       "<tr>\n",
       "  <th>sqft_living15</th>  <td>    0.2785</td> <td>    0.008</td> <td>   34.432</td> <td> 0.000</td> <td>    0.263</td> <td>    0.294</td>\n",
       "</tr>\n",
       "<tr>\n",
       "  <th>yr_built</th>       <td>    0.5581</td> <td>    0.172</td> <td>    3.249</td> <td> 0.001</td> <td>    0.221</td> <td>    0.895</td>\n",
       "</tr>\n",
       "<tr>\n",
       "  <th>condition</th>      <td>    0.2493</td> <td>    0.013</td> <td>   19.867</td> <td> 0.000</td> <td>    0.225</td> <td>    0.274</td>\n",
       "</tr>\n",
       "<tr>\n",
       "  <th>bedrooms</th>       <td>   -0.1379</td> <td>    0.010</td> <td>  -13.886</td> <td> 0.000</td> <td>   -0.157</td> <td>   -0.118</td>\n",
       "</tr>\n",
       "<tr>\n",
       "  <th>bathrooms</th>      <td>    0.1679</td> <td>    0.011</td> <td>   14.646</td> <td> 0.000</td> <td>    0.145</td> <td>    0.190</td>\n",
       "</tr>\n",
       "<tr>\n",
       "  <th>sqft_above</th>     <td>    0.5641</td> <td>    0.008</td> <td>   67.859</td> <td> 0.000</td> <td>    0.548</td> <td>    0.580</td>\n",
       "</tr>\n",
       "<tr>\n",
       "  <th>sqft_basement</th>  <td>    0.0250</td> <td>    0.001</td> <td>   36.445</td> <td> 0.000</td> <td>    0.024</td> <td>    0.026</td>\n",
       "</tr>\n",
       "<tr>\n",
       "  <th>floors</th>         <td>   -0.0395</td> <td>    0.012</td> <td>   -3.243</td> <td> 0.001</td> <td>   -0.063</td> <td>   -0.016</td>\n",
       "</tr>\n",
       "</table>\n",
       "<table class=\"simpletable\">\n",
       "<tr>\n",
       "  <th>Omnibus:</th>       <td>1348.497</td> <th>  Durbin-Watson:     </th> <td>   2.029</td>\n",
       "</tr>\n",
       "<tr>\n",
       "  <th>Prob(Omnibus):</th>  <td> 0.000</td>  <th>  Jarque-Bera (JB):  </th> <td>6830.592</td>\n",
       "</tr>\n",
       "<tr>\n",
       "  <th>Skew:</th>           <td> 0.193</td>  <th>  Prob(JB):          </th> <td>    0.00</td>\n",
       "</tr>\n",
       "<tr>\n",
       "  <th>Kurtosis:</th>       <td> 6.056</td>  <th>  Cond. No.          </th> <td>1.21e+17</td>\n",
       "</tr>\n",
       "</table><br/><br/>Warnings:<br/>[1] Standard Errors assume that the covariance matrix of the errors is correctly specified.<br/>[2] The smallest eigenvalue is 4.07e-28. This might indicate that there are<br/>strong multicollinearity problems or that the design matrix is singular."
      ],
      "text/plain": [
       "<class 'statsmodels.iolib.summary.Summary'>\n",
       "\"\"\"\n",
       "                            OLS Regression Results                            \n",
       "==============================================================================\n",
       "Dep. Variable:                  price   R-squared:                       0.851\n",
       "Model:                            OLS   Adj. R-squared:                  0.850\n",
       "Method:                 Least Squares   F-statistic:                     1224.\n",
       "Date:                Thu, 28 Jan 2021   Prob (F-statistic):               0.00\n",
       "Time:                        22:27:05   Log-Likelihood:                 3020.1\n",
       "No. Observations:               17277   AIC:                            -5878.\n",
       "Df Residuals:                   17196   BIC:                            -5250.\n",
       "Df Model:                          80                                         \n",
       "Covariance Type:            nonrobust                                         \n",
       "==================================================================================\n",
       "                     coef    std err          t      P>|t|      [0.025      0.975]\n",
       "----------------------------------------------------------------------------------\n",
       "waterfront_Yes     1.0433      0.865      1.207      0.228      -0.651       2.738\n",
       "renovated_R        0.5542      0.431      1.286      0.198      -0.291       1.399\n",
       "renovated_RR       0.4891      0.434      1.128      0.259      -0.361       1.339\n",
       "zipcode_98001     -0.5094      0.018    -28.033      0.000      -0.545      -0.474\n",
       "zipcode_98002     -0.5102      0.021    -24.722      0.000      -0.551      -0.470\n",
       "zipcode_98003     -0.4672      0.019    -25.092      0.000      -0.504      -0.431\n",
       "zipcode_98004      0.6655      0.018     36.521      0.000       0.630       0.701\n",
       "zipcode_98005      0.2297      0.022     10.415      0.000       0.186       0.273\n",
       "zipcode_98006      0.2127      0.017     12.596      0.000       0.180       0.246\n",
       "zipcode_98007      0.1677      0.023      7.288      0.000       0.123       0.213\n",
       "zipcode_98008      0.2060      0.019     11.109      0.000       0.170       0.242\n",
       "zipcode_98010     -0.3120      0.027    -11.726      0.000      -0.364      -0.260\n",
       "zipcode_98011     -0.0690      0.020     -3.369      0.001      -0.109      -0.029\n",
       "zipcode_98014     -0.2403      0.025     -9.668      0.000      -0.289      -0.192\n",
       "zipcode_98019     -0.2234      0.022    -10.291      0.000      -0.266      -0.181\n",
       "zipcode_98022     -0.4545      0.021    -22.153      0.000      -0.495      -0.414\n",
       "zipcode_98023     -0.5148      0.017    -30.733      0.000      -0.548      -0.482\n",
       "zipcode_98024     -0.0997      0.028     -3.551      0.000      -0.155      -0.045\n",
       "zipcode_98027      0.0120      0.017      0.687      0.492      -0.022       0.046\n",
       "zipcode_98028     -0.0810      0.019     -4.327      0.000      -0.118      -0.044\n",
       "zipcode_98029      0.1336      0.019      7.218      0.000       0.097       0.170\n",
       "zipcode_98030     -0.4742      0.020    -24.073      0.000      -0.513      -0.436\n",
       "zipcode_98031     -0.4422      0.019    -22.908      0.000      -0.480      -0.404\n",
       "zipcode_98032     -0.4930      0.024    -20.957      0.000      -0.539      -0.447\n",
       "zipcode_98033      0.3241      0.017     19.123      0.000       0.291       0.357\n",
       "zipcode_98034      0.0687      0.016      4.237      0.000       0.037       0.100\n",
       "zipcode_98038     -0.3650      0.017    -21.779      0.000      -0.398      -0.332\n",
       "zipcode_98039      0.8810      0.034     26.182      0.000       0.815       0.947\n",
       "zipcode_98040      0.4565      0.019     24.136      0.000       0.419       0.494\n",
       "zipcode_98042     -0.4517      0.017    -26.781      0.000      -0.485      -0.419\n",
       "zipcode_98045     -0.1782      0.021     -8.586      0.000      -0.219      -0.137\n",
       "zipcode_98052      0.1458      0.016      8.908      0.000       0.114       0.178\n",
       "zipcode_98053      0.0665      0.018      3.634      0.000       0.031       0.102\n",
       "zipcode_98055     -0.3619      0.019    -19.383      0.000      -0.399      -0.325\n",
       "zipcode_98056     -0.1609      0.018     -9.171      0.000      -0.195      -0.126\n",
       "zipcode_98058     -0.3395      0.017    -19.825      0.000      -0.373      -0.306\n",
       "zipcode_98059     -0.1864      0.017    -10.735      0.000      -0.220      -0.152\n",
       "zipcode_98065     -0.1310      0.019     -6.981      0.000      -0.168      -0.094\n",
       "zipcode_98070     -0.0798      0.026     -3.097      0.002      -0.130      -0.029\n",
       "zipcode_98072     -0.0463      0.020     -2.351      0.019      -0.085      -0.008\n",
       "zipcode_98074      0.0942      0.017      5.475      0.000       0.060       0.128\n",
       "zipcode_98075      0.0985      0.018      5.398      0.000       0.063       0.134\n",
       "zipcode_98077     -0.0860      0.021     -4.033      0.000      -0.128      -0.044\n",
       "zipcode_98092     -0.4933      0.018    -26.847      0.000      -0.529      -0.457\n",
       "zipcode_98102      0.5653      0.024     23.626      0.000       0.518       0.612\n",
       "zipcode_98103      0.4424      0.014     31.695      0.000       0.415       0.470\n",
       "zipcode_98105      0.5331      0.018     29.287      0.000       0.497       0.569\n",
       "zipcode_98106     -0.0584      0.017     -3.404      0.001      -0.092      -0.025\n",
       "zipcode_98107      0.4651      0.018     26.536      0.000       0.431       0.499\n",
       "zipcode_98108     -0.0686      0.020     -3.409      0.001      -0.108      -0.029\n",
       "zipcode_98109      0.6145      0.024     25.390      0.000       0.567       0.662\n",
       "zipcode_98112      0.6456      0.017     38.386      0.000       0.613       0.679\n",
       "zipcode_98115      0.4005      0.014     27.880      0.000       0.372       0.429\n",
       "zipcode_98116      0.3999      0.017     24.111      0.000       0.367       0.432\n",
       "zipcode_98117      0.4259      0.014     29.526      0.000       0.398       0.454\n",
       "zipcode_98118      0.0553      0.015      3.701      0.000       0.026       0.085\n",
       "zipcode_98119      0.6241      0.019     32.195      0.000       0.586       0.662\n",
       "zipcode_98122      0.4337      0.017     25.865      0.000       0.401       0.467\n",
       "zipcode_98125      0.1354      0.016      8.283      0.000       0.103       0.167\n",
       "zipcode_98126      0.1792      0.016     10.887      0.000       0.147       0.211\n",
       "zipcode_98133      0.0073      0.016      0.456      0.649      -0.024       0.039\n",
       "zipcode_98136      0.3160      0.018     17.699      0.000       0.281       0.351\n",
       "zipcode_98144      0.2985      0.016     18.282      0.000       0.266       0.330\n",
       "zipcode_98146     -0.1368      0.018     -7.565      0.000      -0.172      -0.101\n",
       "zipcode_98148     -0.3154      0.033     -9.462      0.000      -0.381      -0.250\n",
       "zipcode_98155     -0.0249      0.016     -1.510      0.131      -0.057       0.007\n",
       "zipcode_98166     -0.1172      0.019     -6.274      0.000      -0.154      -0.081\n",
       "zipcode_98168     -0.4019      0.018    -22.090      0.000      -0.438      -0.366\n",
       "zipcode_98177      0.1754      0.019      9.354      0.000       0.139       0.212\n",
       "zipcode_98178     -0.2722      0.018    -14.959      0.000      -0.308      -0.237\n",
       "zipcode_98188     -0.3592      0.023    -15.772      0.000      -0.404      -0.315\n",
       "zipcode_98198     -0.3761      0.018    -20.493      0.000      -0.412      -0.340\n",
       "zipcode_98199      0.4657      0.017     27.811      0.000       0.433       0.499\n",
       "sqft_lot           0.0798      0.005     17.333      0.000       0.071       0.089\n",
       "sqft_lot15        -0.0120      0.005     -2.365      0.018      -0.022      -0.002\n",
       "sqft_living15      0.2785      0.008     34.432      0.000       0.263       0.294\n",
       "yr_built           0.5581      0.172      3.249      0.001       0.221       0.895\n",
       "condition          0.2493      0.013     19.867      0.000       0.225       0.274\n",
       "bedrooms          -0.1379      0.010    -13.886      0.000      -0.157      -0.118\n",
       "bathrooms          0.1679      0.011     14.646      0.000       0.145       0.190\n",
       "sqft_above         0.5641      0.008     67.859      0.000       0.548       0.580\n",
       "sqft_basement      0.0250      0.001     36.445      0.000       0.024       0.026\n",
       "floors            -0.0395      0.012     -3.243      0.001      -0.063      -0.016\n",
       "==============================================================================\n",
       "Omnibus:                     1348.497   Durbin-Watson:                   2.029\n",
       "Prob(Omnibus):                  0.000   Jarque-Bera (JB):             6830.592\n",
       "Skew:                           0.193   Prob(JB):                         0.00\n",
       "Kurtosis:                       6.056   Cond. No.                     1.21e+17\n",
       "==============================================================================\n",
       "\n",
       "Warnings:\n",
       "[1] Standard Errors assume that the covariance matrix of the errors is correctly specified.\n",
       "[2] The smallest eigenvalue is 4.07e-28. This might indicate that there are\n",
       "strong multicollinearity problems or that the design matrix is singular.\n",
       "\"\"\""
      ]
     },
     "execution_count": 29,
     "metadata": {},
     "output_type": "execute_result"
    }
   ],
   "source": [
    "# Run an Ordinary Least Squares model and get a results summary\n",
    "ut.ols_summary(X_train2, y_train2, X2)"
   ]
  },
  {
   "cell_type": "markdown",
   "metadata": {},
   "source": [
    "The skew and kurtosis are both in the normal range, indicating the data no longer skewed and outliers have been minimized. The p-values for almost all features are significant and the p-value for the F-statistic is significant as well, indicating that we can reject the null hypothesis and say that the model fits the data. \n",
    "\n",
    "Now I create a residuals plot to see if the data is less heteroskedastic."
   ]
  },
  {
   "cell_type": "code",
   "execution_count": 30,
   "metadata": {},
   "outputs": [
    {
     "data": {
      "image/png": "[encoded data removed]",
      "text/plain": [
       "<Figure size 432x288 with 2 Axes>"
      ]
     },
     "metadata": {
      "needs_background": "light"
     },
     "output_type": "display_data"
    },
    {
     "data": {
      "text/plain": [
       "<matplotlib.axes._subplots.AxesSubplot at 0x7ffb5eb06ef0>"
      ]
     },
     "execution_count": 30,
     "metadata": {},
     "output_type": "execute_result"
    }
   ],
   "source": [
    "# Instantiate the linear model and visualizer\n",
    "model = Ridge()\n",
    "visualizer = ResidualsPlot(model)\n",
    "# Fit the training data\n",
    "visualizer.fit(X_train2_scaled, y_train2) \n",
    "# Evaluate the model using the test data\n",
    "visualizer.score(X_test2_scaled, y_test2)  \n",
    "# Plot the residuals\n",
    "visualizer.show()"
   ]
  },
  {
   "cell_type": "markdown",
   "metadata": {},
   "source": [
    "The residuals plot shows that the model is much more homoskedastic. "
   ]
  },
  {
   "cell_type": "markdown",
   "metadata": {},
   "source": [
    "### Iteration 3\n",
    "There are a lot of zipcodes, so I will see if I can cut down the number of categories that need to be one hot encoded by looking for a proxy measure of zipcode. One of the main things about zipcodes as related to housing prices, I think, is the median income of the zipcode, so I will investigate the affect of adding median income of zipcodes into to the model in place of zipcode."
   ]
  },
  {
   "cell_type": "markdown",
   "metadata": {},
   "source": [
    "#### Data Preparation 3"
   ]
  },
  {
   "cell_type": "markdown",
   "metadata": {},
   "source": [
    "I found median income by zipcode data from https://www.communitiescount.org/population-dashboard. Income category cut off numbers also come from the map of income by zipcode on that site."
   ]
  },
  {
   "cell_type": "code",
   "execution_count": 31,
   "metadata": {},
   "outputs": [
    {
     "data": {
      "text/html": [
       "<div>\n",
       "<style scoped>\n",
       "    .dataframe tbody tr th:only-of-type {\n",
       "        vertical-align: middle;\n",
       "    }\n",
       "\n",
       "    .dataframe tbody tr th {\n",
       "        vertical-align: top;\n",
       "    }\n",
       "\n",
       "    .dataframe thead th {\n",
       "        text-align: right;\n",
       "    }\n",
       "</style>\n",
       "<table border=\"1\" class=\"dataframe\">\n",
       "  <thead>\n",
       "    <tr style=\"text-align: right;\">\n",
       "      <th></th>\n",
       "      <th>Category (Category)</th>\n",
       "      <th>Geoname</th>\n",
       "      <th>Min. LB</th>\n",
       "      <th>Min. UB</th>\n",
       "      <th>Income</th>\n",
       "    </tr>\n",
       "  </thead>\n",
       "  <tbody>\n",
       "    <tr>\n",
       "      <th>0</th>\n",
       "      <td>Income</td>\n",
       "      <td>98354</td>\n",
       "      <td>67638.16</td>\n",
       "      <td>84901.84</td>\n",
       "      <td>76270.00</td>\n",
       "    </tr>\n",
       "    <tr>\n",
       "      <th>1</th>\n",
       "      <td>Income</td>\n",
       "      <td>98288</td>\n",
       "      <td>30357.80</td>\n",
       "      <td>54642.20</td>\n",
       "      <td>42500.00</td>\n",
       "    </tr>\n",
       "    <tr>\n",
       "      <th>2</th>\n",
       "      <td>Income</td>\n",
       "      <td>98224</td>\n",
       "      <td>19460.68</td>\n",
       "      <td>63039.32</td>\n",
       "      <td>41250.00</td>\n",
       "    </tr>\n",
       "    <tr>\n",
       "      <th>3</th>\n",
       "      <td>Income</td>\n",
       "      <td>98199</td>\n",
       "      <td>101181.84</td>\n",
       "      <td>115474.16</td>\n",
       "      <td>108328.00</td>\n",
       "    </tr>\n",
       "    <tr>\n",
       "      <th>4</th>\n",
       "      <td>Income</td>\n",
       "      <td>98198</td>\n",
       "      <td>60796.76</td>\n",
       "      <td>65771.24</td>\n",
       "      <td>63284.00</td>\n",
       "    </tr>\n",
       "  </tbody>\n",
       "</table>\n",
       "</div>"
      ],
      "text/plain": [
       "  Category (Category)  Geoname   Min. LB   Min. UB    Income\n",
       "0              Income    98354  67638.16  84901.84  76270.00\n",
       "1              Income    98288  30357.80  54642.20  42500.00\n",
       "2              Income    98224  19460.68  63039.32  41250.00\n",
       "3              Income    98199 101181.84 115474.16 108328.00\n",
       "4              Income    98198  60796.76  65771.24  63284.00"
      ]
     },
     "execution_count": 31,
     "metadata": {},
     "output_type": "execute_result"
    }
   ],
   "source": [
    "# Import dataset of King county zipcode and avg incomes\n",
    "data_zip = pd.read_csv('data/zipcode-income.csv')\n",
    "\n",
    "data_zip.head()"
   ]
  },
  {
   "cell_type": "markdown",
   "metadata": {},
   "source": [
    "I create a new feature in the data_zip file to include the catorization of median income into low (less than \\\\$79,000) 'L', middle (\\\\$79,000-\\\\$120,000) 'M', high (\\\\$120,000-\\\\$140,000) 'H', and very_high (more than \\\\$140,000) 'VH' based on the previously mentioned map associated with the dataset. "
   ]
  },
  {
   "cell_type": "code",
   "execution_count": 32,
   "metadata": {},
   "outputs": [
    {
     "data": {
      "text/html": [
       "<div>\n",
       "<style scoped>\n",
       "    .dataframe tbody tr th:only-of-type {\n",
       "        vertical-align: middle;\n",
       "    }\n",
       "\n",
       "    .dataframe tbody tr th {\n",
       "        vertical-align: top;\n",
       "    }\n",
       "\n",
       "    .dataframe thead th {\n",
       "        text-align: right;\n",
       "    }\n",
       "</style>\n",
       "<table border=\"1\" class=\"dataframe\">\n",
       "  <thead>\n",
       "    <tr style=\"text-align: right;\">\n",
       "      <th></th>\n",
       "      <th>Category (Category)</th>\n",
       "      <th>Geoname</th>\n",
       "      <th>Min. LB</th>\n",
       "      <th>Min. UB</th>\n",
       "      <th>Income</th>\n",
       "      <th>income</th>\n",
       "    </tr>\n",
       "  </thead>\n",
       "  <tbody>\n",
       "    <tr>\n",
       "      <th>0</th>\n",
       "      <td>Income</td>\n",
       "      <td>98354</td>\n",
       "      <td>67638.16</td>\n",
       "      <td>84901.84</td>\n",
       "      <td>76270.00</td>\n",
       "      <td>L</td>\n",
       "    </tr>\n",
       "    <tr>\n",
       "      <th>1</th>\n",
       "      <td>Income</td>\n",
       "      <td>98288</td>\n",
       "      <td>30357.80</td>\n",
       "      <td>54642.20</td>\n",
       "      <td>42500.00</td>\n",
       "      <td>L</td>\n",
       "    </tr>\n",
       "    <tr>\n",
       "      <th>2</th>\n",
       "      <td>Income</td>\n",
       "      <td>98224</td>\n",
       "      <td>19460.68</td>\n",
       "      <td>63039.32</td>\n",
       "      <td>41250.00</td>\n",
       "      <td>L</td>\n",
       "    </tr>\n",
       "    <tr>\n",
       "      <th>3</th>\n",
       "      <td>Income</td>\n",
       "      <td>98199</td>\n",
       "      <td>101181.84</td>\n",
       "      <td>115474.16</td>\n",
       "      <td>108328.00</td>\n",
       "      <td>M</td>\n",
       "    </tr>\n",
       "    <tr>\n",
       "      <th>4</th>\n",
       "      <td>Income</td>\n",
       "      <td>98198</td>\n",
       "      <td>60796.76</td>\n",
       "      <td>65771.24</td>\n",
       "      <td>63284.00</td>\n",
       "      <td>L</td>\n",
       "    </tr>\n",
       "  </tbody>\n",
       "</table>\n",
       "</div>"
      ],
      "text/plain": [
       "  Category (Category)  Geoname   Min. LB   Min. UB    Income income\n",
       "0              Income    98354  67638.16  84901.84  76270.00      L\n",
       "1              Income    98288  30357.80  54642.20  42500.00      L\n",
       "2              Income    98224  19460.68  63039.32  41250.00      L\n",
       "3              Income    98199 101181.84 115474.16 108328.00      M\n",
       "4              Income    98198  60796.76  65771.24  63284.00      L"
      ]
     },
     "execution_count": 32,
     "metadata": {},
     "output_type": "execute_result"
    }
   ],
   "source": [
    "data_zip['income'] = np.where(data_zip['Income']<79000, 'L', \n",
    "                          np.where((data_zip['Income']>=79000) & (data_zip['Income']<120000), 'M', \n",
    "                                  np.where(data_zip['Income'] >= 140000, 'VH', 'H')))\n",
    "                                 \n",
    "data_zip.head()"
   ]
  },
  {
   "cell_type": "code",
   "execution_count": 33,
   "metadata": {
    "scrolled": true
   },
   "outputs": [
    {
     "data": {
      "text/html": [
       "<div>\n",
       "<style scoped>\n",
       "    .dataframe tbody tr th:only-of-type {\n",
       "        vertical-align: middle;\n",
       "    }\n",
       "\n",
       "    .dataframe tbody tr th {\n",
       "        vertical-align: top;\n",
       "    }\n",
       "\n",
       "    .dataframe thead th {\n",
       "        text-align: right;\n",
       "    }\n",
       "</style>\n",
       "<table border=\"1\" class=\"dataframe\">\n",
       "  <thead>\n",
       "    <tr style=\"text-align: right;\">\n",
       "      <th></th>\n",
       "      <th>id</th>\n",
       "      <th>date</th>\n",
       "      <th>price</th>\n",
       "      <th>bedrooms</th>\n",
       "      <th>bathrooms</th>\n",
       "      <th>sqft_living</th>\n",
       "      <th>sqft_lot</th>\n",
       "      <th>floors</th>\n",
       "      <th>waterfront</th>\n",
       "      <th>view</th>\n",
       "      <th>...</th>\n",
       "      <th>yr_built</th>\n",
       "      <th>yr_renovated</th>\n",
       "      <th>zipcode</th>\n",
       "      <th>lat</th>\n",
       "      <th>long</th>\n",
       "      <th>sqft_living15</th>\n",
       "      <th>sqft_lot15</th>\n",
       "      <th>renovated</th>\n",
       "      <th>income_cat</th>\n",
       "      <th>income</th>\n",
       "    </tr>\n",
       "  </thead>\n",
       "  <tbody>\n",
       "    <tr>\n",
       "      <th>0</th>\n",
       "      <td>7129300520</td>\n",
       "      <td>10/13/2014</td>\n",
       "      <td>221900.00</td>\n",
       "      <td>3</td>\n",
       "      <td>1.00</td>\n",
       "      <td>1180</td>\n",
       "      <td>5650</td>\n",
       "      <td>1.00</td>\n",
       "      <td>Yes</td>\n",
       "      <td>0.00</td>\n",
       "      <td>...</td>\n",
       "      <td>1955</td>\n",
       "      <td>nan</td>\n",
       "      <td>98178</td>\n",
       "      <td>47.51</td>\n",
       "      <td>-122.26</td>\n",
       "      <td>1340</td>\n",
       "      <td>5650</td>\n",
       "      <td>RR</td>\n",
       "      <td>L</td>\n",
       "      <td>75282.00</td>\n",
       "    </tr>\n",
       "    <tr>\n",
       "      <th>1</th>\n",
       "      <td>6414100192</td>\n",
       "      <td>12/9/2014</td>\n",
       "      <td>538000.00</td>\n",
       "      <td>3</td>\n",
       "      <td>2.25</td>\n",
       "      <td>2570</td>\n",
       "      <td>7242</td>\n",
       "      <td>2.00</td>\n",
       "      <td>Yes</td>\n",
       "      <td>0.00</td>\n",
       "      <td>...</td>\n",
       "      <td>1951</td>\n",
       "      <td>1991.00</td>\n",
       "      <td>98125</td>\n",
       "      <td>47.72</td>\n",
       "      <td>-122.32</td>\n",
       "      <td>1690</td>\n",
       "      <td>7639</td>\n",
       "      <td>R</td>\n",
       "      <td>L</td>\n",
       "      <td>64429.00</td>\n",
       "    </tr>\n",
       "    <tr>\n",
       "      <th>2</th>\n",
       "      <td>5631500400</td>\n",
       "      <td>2/25/2015</td>\n",
       "      <td>180000.00</td>\n",
       "      <td>2</td>\n",
       "      <td>1.00</td>\n",
       "      <td>770</td>\n",
       "      <td>10000</td>\n",
       "      <td>1.00</td>\n",
       "      <td>Yes</td>\n",
       "      <td>0.00</td>\n",
       "      <td>...</td>\n",
       "      <td>1933</td>\n",
       "      <td>nan</td>\n",
       "      <td>98028</td>\n",
       "      <td>47.74</td>\n",
       "      <td>-122.23</td>\n",
       "      <td>2720</td>\n",
       "      <td>8062</td>\n",
       "      <td>RR</td>\n",
       "      <td>M</td>\n",
       "      <td>105007.00</td>\n",
       "    </tr>\n",
       "    <tr>\n",
       "      <th>3</th>\n",
       "      <td>2487200875</td>\n",
       "      <td>12/9/2014</td>\n",
       "      <td>604000.00</td>\n",
       "      <td>4</td>\n",
       "      <td>3.00</td>\n",
       "      <td>1960</td>\n",
       "      <td>5000</td>\n",
       "      <td>1.00</td>\n",
       "      <td>Yes</td>\n",
       "      <td>0.00</td>\n",
       "      <td>...</td>\n",
       "      <td>1965</td>\n",
       "      <td>nan</td>\n",
       "      <td>98136</td>\n",
       "      <td>47.52</td>\n",
       "      <td>-122.39</td>\n",
       "      <td>1360</td>\n",
       "      <td>5000</td>\n",
       "      <td>RR</td>\n",
       "      <td>M</td>\n",
       "      <td>106240.00</td>\n",
       "    </tr>\n",
       "    <tr>\n",
       "      <th>4</th>\n",
       "      <td>1954400510</td>\n",
       "      <td>2/18/2015</td>\n",
       "      <td>510000.00</td>\n",
       "      <td>3</td>\n",
       "      <td>2.00</td>\n",
       "      <td>1680</td>\n",
       "      <td>8080</td>\n",
       "      <td>1.00</td>\n",
       "      <td>Yes</td>\n",
       "      <td>0.00</td>\n",
       "      <td>...</td>\n",
       "      <td>1987</td>\n",
       "      <td>nan</td>\n",
       "      <td>98074</td>\n",
       "      <td>47.62</td>\n",
       "      <td>-122.05</td>\n",
       "      <td>1800</td>\n",
       "      <td>7503</td>\n",
       "      <td>RR</td>\n",
       "      <td>VH</td>\n",
       "      <td>170744.00</td>\n",
       "    </tr>\n",
       "  </tbody>\n",
       "</table>\n",
       "<p>5 rows × 24 columns</p>\n",
       "</div>"
      ],
      "text/plain": [
       "           id        date     price  bedrooms  bathrooms  sqft_living  \\\n",
       "0  7129300520  10/13/2014 221900.00         3       1.00         1180   \n",
       "1  6414100192   12/9/2014 538000.00         3       2.25         2570   \n",
       "2  5631500400   2/25/2015 180000.00         2       1.00          770   \n",
       "3  2487200875   12/9/2014 604000.00         4       3.00         1960   \n",
       "4  1954400510   2/18/2015 510000.00         3       2.00         1680   \n",
       "\n",
       "   sqft_lot  floors waterfront  view  ...  yr_built  yr_renovated  zipcode  \\\n",
       "0      5650    1.00        Yes  0.00  ...      1955           nan    98178   \n",
       "1      7242    2.00        Yes  0.00  ...      1951       1991.00    98125   \n",
       "2     10000    1.00        Yes  0.00  ...      1933           nan    98028   \n",
       "3      5000    1.00        Yes  0.00  ...      1965           nan    98136   \n",
       "4      8080    1.00        Yes  0.00  ...      1987           nan    98074   \n",
       "\n",
       "    lat    long  sqft_living15  sqft_lot15  renovated  income_cat    income  \n",
       "0 47.51 -122.26           1340        5650         RR           L  75282.00  \n",
       "1 47.72 -122.32           1690        7639          R           L  64429.00  \n",
       "2 47.74 -122.23           2720        8062         RR           M 105007.00  \n",
       "3 47.52 -122.39           1360        5000         RR           M 106240.00  \n",
       "4 47.62 -122.05           1800        7503         RR          VH 170744.00  \n",
       "\n",
       "[5 rows x 24 columns]"
      ]
     },
     "execution_count": 33,
     "metadata": {},
     "output_type": "execute_result"
    }
   ],
   "source": [
    "# Add the both income features (median income and the new categorical income feature) to the \n",
    "# Main dataset by maping zipcode to a dictionary of zipcodes and median incomes/income levels\n",
    "zip_income_cat = dict(zip(data_zip['Geoname'],data_zip['income']))\n",
    "data['income_cat'] = data['zipcode'].map(zip_income_cat)\n",
    "\n",
    "zip_income = dict(zip(data_zip['Geoname'],data_zip['Income']))\n",
    "data['income'] = data['zipcode'].map(zip_income)\n",
    "\n",
    "data.head()"
   ]
  },
  {
   "cell_type": "markdown",
   "metadata": {},
   "source": [
    "Next, I check for a normal distribution and outliers of the continuous income feature to see if it would benefit from log transformation and scaling."
   ]
  },
  {
   "cell_type": "code",
   "execution_count": 34,
   "metadata": {},
   "outputs": [
    {
     "data": {
      "text/plain": [
       "<matplotlib.axes._subplots.AxesSubplot at 0x7ffb5f5cf5c0>"
      ]
     },
     "execution_count": 34,
     "metadata": {},
     "output_type": "execute_result"
    },
    {
     "data": {
      "image/png": "[encoded data removed]",
      "text/plain": [
       "<Figure size 432x288 with 1 Axes>"
      ]
     },
     "metadata": {
      "needs_background": "light"
     },
     "output_type": "display_data"
    }
   ],
   "source": [
    "data['income'].hist()"
   ]
  },
  {
   "cell_type": "code",
   "execution_count": 35,
   "metadata": {
    "scrolled": true
   },
   "outputs": [
    {
     "data": {
      "text/plain": [
       "<matplotlib.axes._subplots.AxesSubplot at 0x7ffb5db41320>"
      ]
     },
     "execution_count": 35,
     "metadata": {},
     "output_type": "execute_result"
    },
    {
     "data": {
      "image/png": "[encoded data removed]",
      "text/plain": [
       "<Figure size 432x288 with 1 Axes>"
      ]
     },
     "metadata": {
      "needs_background": "light"
     },
     "output_type": "display_data"
    }
   ],
   "source": [
    "data.boxplot(column='income')"
   ]
  },
  {
   "cell_type": "markdown",
   "metadata": {},
   "source": [
    "The distribution is skewed and the data contains outliers, so I will treat the the same as the other continuous features."
   ]
  },
  {
   "cell_type": "markdown",
   "metadata": {},
   "source": [
    "#### Model 3\n",
    "I am adding in new features, so re-creating the continuous and categorical features lists to start this model."
   ]
  },
  {
   "cell_type": "code",
   "execution_count": 36,
   "metadata": {},
   "outputs": [
    {
     "name": "stdout",
     "output_type": "stream",
     "text": [
      "Training Scores: R2 0.65898, Mean Absolute Error 0.24, Root Mean Squared Error 0.31\n",
      "Testing Scores: R2 0.64296, Mean Absolute Error 0.24, Root Mean Squared Error 0.31\n"
     ]
    }
   ],
   "source": [
    "# Create datasets with the desired categories- all remain the same as previous model except zipcode and income\n",
    "categoricals3 = ['waterfront', 'renovated']\n",
    "continuous3 = ['income', 'sqft_lot',  'sqft_lot15', 'sqft_living15', 'sqft_above', 'sqft_basement',\n",
    "              'yr_built', 'condition', 'price', 'bedrooms', 'floors', 'bathrooms']\n",
    "cat_data3 = data[categoricals3]\n",
    "cont_data3 = data[continuous3]     \n",
    "\n",
    "# Log transform the continuous data\n",
    "cont_data_log3 = np.log1p(cont_data3)\n",
    "\n",
    "# One hot encode categorical data, concatenate it with continuos data and split into\n",
    "# explanatory features and target feature\n",
    "X3, y3 = ut.ohe_concat(cat_data3, cont_data_log3, categoricals3, 'price')\n",
    "\n",
    "# Split data into training and testing sets\n",
    "X_train3, X_test3, y_train3, y_test3 = train_test_split(X3, y3, test_size = 0.2, random_state=94)\n",
    "\n",
    "# Scale explanatory data using Robust Scaler\n",
    "scaler3 = RobustScaler()\n",
    "X_train3_scaled = pd.DataFrame(scaler3.fit_transform(X_train3))\n",
    "X_test3_scaled = pd.DataFrame(scaler3.fit_transform(X_test3))\n",
    "\n",
    "# Instanciate LinearRegression\n",
    "linreg3 = LinearRegression()\n",
    "# Fit model\n",
    "linreg3.fit(X_train3_scaled, y_train3)\n",
    "\n",
    "# Make predictions\n",
    "ut.predictions(linreg3, X_train3_scaled, X_test3_scaled, y_train3, y_test3)"
   ]
  },
  {
   "cell_type": "markdown",
   "metadata": {},
   "source": [
    "I re-ran this cell first with neither the zipcode nor the 2 income features to get a baseline R2 value, then added 'zipcode', 'income' and 'income_cat' separately back into the model. A final model included both 'income' and 'zipcode'. Below are the R2, mae & rmse for each of these trials.\n",
    "\n",
    "\n",
    "##### Results without either zip or income:\n",
    "Training Scores: R2 0.57569, Mean Absolute Error 0.27, Root Mean Squared Error 0.34  \n",
    "Testing Scores: R2 0.55569, Mean Absolute Error 0.27, Root Mean Squared Error 0.34\n",
    "##### Results with median income: \n",
    "Training Scores: R2 0.65898, Mean Absolute Error 0.24, Root Mean Squared Error 0.31  \n",
    "Testing Scores: R2 0.64296, Mean Absolute Error 0.24, Root Mean Squared Error 0.31\n",
    "##### Results with income as category:\n",
    "Training Scores: R2 0.65272, Mean Absolute Error 0.24, Root Mean Squared Error 0.31  \n",
    "Testing Scores: R2 0.63426, Mean Absolute Error 0.25, Root Mean Squared Error 0.31\n",
    "##### Results with zipcode:\n",
    "Training Scores: R2 0.85147, Mean Absolute Error 0.15, Root Mean Squared Error 0.20  \n",
    "Testing Scores: R2 0.84100, Mean Absolute Error 0.15, Root Mean Squared Error 0.21\n",
    "##### Results with zipcode and median income:\n",
    "Training Scores: R2 0.85148, Mean Absolute Error 0.15, Root Mean Squared Error 0.20  \n",
    "Testing Scores: R2 0.84105, Mean Absolute Error 0.15, Root Mean Squared Error 0.21"
   ]
  },
  {
   "cell_type": "markdown",
   "metadata": {},
   "source": [
    "#### Evaluation 3"
   ]
  },
  {
   "cell_type": "markdown",
   "metadata": {},
   "source": [
    "Adding the zipcode to the model improves the R2 value by 0.27, while adding the median income to the model improves the R2 by 0.08 and the income categories improve it by 0.07. Thus, while the income is an important aspect of the influence that zipcode has on house prices, it only explains around 25% of the zipcode effect. \n",
    "The categorical income feature performed only slightly worse than using the median income as a continuous feature. Adding both income and zipcode produced results almost identical to zipcode alone, indicating that the income category does not add any information not already covered by zipcode. "
   ]
  },
  {
   "cell_type": "code",
   "execution_count": 37,
   "metadata": {},
   "outputs": [
    {
     "name": "stderr",
     "output_type": "stream",
     "text": [
      "/Users/cindyreiner/opt/anaconda3/envs/learn-env/lib/python3.6/site-packages/numpy/core/fromnumeric.py:2580: FutureWarning: Method .ptp is deprecated and will be removed in a future version. Use numpy.ptp instead.\n",
      "  return ptp(axis=axis, out=out, **kwargs)\n"
     ]
    },
    {
     "data": {
      "text/html": [
       "<table class=\"simpletable\">\n",
       "<caption>OLS Regression Results</caption>\n",
       "<tr>\n",
       "  <th>Dep. Variable:</th>          <td>price</td>      <th>  R-squared:         </th> <td>   0.659</td>\n",
       "</tr>\n",
       "<tr>\n",
       "  <th>Model:</th>                   <td>OLS</td>       <th>  Adj. R-squared:    </th> <td>   0.659</td>\n",
       "</tr>\n",
       "<tr>\n",
       "  <th>Method:</th>             <td>Least Squares</td>  <th>  F-statistic:       </th> <td>   2780.</td>\n",
       "</tr>\n",
       "<tr>\n",
       "  <th>Date:</th>             <td>Thu, 28 Jan 2021</td> <th>  Prob (F-statistic):</th>  <td>  0.00</td> \n",
       "</tr>\n",
       "<tr>\n",
       "  <th>Time:</th>                 <td>22:27:09</td>     <th>  Log-Likelihood:    </th> <td> -4218.4</td>\n",
       "</tr>\n",
       "<tr>\n",
       "  <th>No. Observations:</th>      <td> 17277</td>      <th>  AIC:               </th> <td>   8463.</td>\n",
       "</tr>\n",
       "<tr>\n",
       "  <th>Df Residuals:</th>          <td> 17264</td>      <th>  BIC:               </th> <td>   8564.</td>\n",
       "</tr>\n",
       "<tr>\n",
       "  <th>Df Model:</th>              <td>    12</td>      <th>                     </th>     <td> </td>   \n",
       "</tr>\n",
       "<tr>\n",
       "  <th>Covariance Type:</th>      <td>nonrobust</td>    <th>                     </th>     <td> </td>   \n",
       "</tr>\n",
       "</table>\n",
       "<table class=\"simpletable\">\n",
       "<tr>\n",
       "         <td></td>           <th>coef</th>     <th>std err</th>      <th>t</th>      <th>P>|t|</th>  <th>[0.025</th>    <th>0.975]</th>  \n",
       "</tr>\n",
       "<tr>\n",
       "  <th>waterfront_Yes</th> <td>   54.0142</td> <td>    1.094</td> <td>   49.380</td> <td> 0.000</td> <td>   51.870</td> <td>   56.158</td>\n",
       "</tr>\n",
       "<tr>\n",
       "  <th>renovated_R</th>    <td>   27.0061</td> <td>    0.545</td> <td>   49.553</td> <td> 0.000</td> <td>   25.938</td> <td>   28.074</td>\n",
       "</tr>\n",
       "<tr>\n",
       "  <th>renovated_RR</th>   <td>   27.0081</td> <td>    0.549</td> <td>   49.198</td> <td> 0.000</td> <td>   25.932</td> <td>   28.084</td>\n",
       "</tr>\n",
       "<tr>\n",
       "  <th>income</th>         <td>    0.6083</td> <td>    0.009</td> <td>   64.933</td> <td> 0.000</td> <td>    0.590</td> <td>    0.627</td>\n",
       "</tr>\n",
       "<tr>\n",
       "  <th>sqft_lot</th>       <td>   -0.0240</td> <td>    0.007</td> <td>   -3.520</td> <td> 0.000</td> <td>   -0.037</td> <td>   -0.011</td>\n",
       "</tr>\n",
       "<tr>\n",
       "  <th>sqft_lot15</th>     <td>   -0.0472</td> <td>    0.007</td> <td>   -6.364</td> <td> 0.000</td> <td>   -0.062</td> <td>   -0.033</td>\n",
       "</tr>\n",
       "<tr>\n",
       "  <th>sqft_living15</th>  <td>    0.2976</td> <td>    0.012</td> <td>   25.442</td> <td> 0.000</td> <td>    0.275</td> <td>    0.320</td>\n",
       "</tr>\n",
       "<tr>\n",
       "  <th>sqft_above</th>     <td>    0.6117</td> <td>    0.012</td> <td>   49.094</td> <td> 0.000</td> <td>    0.587</td> <td>    0.636</td>\n",
       "</tr>\n",
       "<tr>\n",
       "  <th>sqft_basement</th>  <td>    0.0475</td> <td>    0.001</td> <td>   48.148</td> <td> 0.000</td> <td>    0.046</td> <td>    0.049</td>\n",
       "</tr>\n",
       "<tr>\n",
       "  <th>yr_built</th>       <td>  -10.7469</td> <td>    0.217</td> <td>  -49.543</td> <td> 0.000</td> <td>  -11.172</td> <td>  -10.322</td>\n",
       "</tr>\n",
       "<tr>\n",
       "  <th>condition</th>      <td>    0.1612</td> <td>    0.018</td> <td>    8.781</td> <td> 0.000</td> <td>    0.125</td> <td>    0.197</td>\n",
       "</tr>\n",
       "<tr>\n",
       "  <th>bedrooms</th>       <td>   -0.2756</td> <td>    0.015</td> <td>  -18.796</td> <td> 0.000</td> <td>   -0.304</td> <td>   -0.247</td>\n",
       "</tr>\n",
       "<tr>\n",
       "  <th>floors</th>         <td>    0.2275</td> <td>    0.017</td> <td>   13.115</td> <td> 0.000</td> <td>    0.194</td> <td>    0.262</td>\n",
       "</tr>\n",
       "<tr>\n",
       "  <th>bathrooms</th>      <td>    0.2707</td> <td>    0.017</td> <td>   15.660</td> <td> 0.000</td> <td>    0.237</td> <td>    0.305</td>\n",
       "</tr>\n",
       "</table>\n",
       "<table class=\"simpletable\">\n",
       "<tr>\n",
       "  <th>Omnibus:</th>       <td>391.991</td> <th>  Durbin-Watson:     </th> <td>   1.989</td> \n",
       "</tr>\n",
       "<tr>\n",
       "  <th>Prob(Omnibus):</th> <td> 0.000</td>  <th>  Jarque-Bera (JB):  </th> <td> 549.424</td> \n",
       "</tr>\n",
       "<tr>\n",
       "  <th>Skew:</th>          <td> 0.264</td>  <th>  Prob(JB):          </th> <td>4.94e-120</td>\n",
       "</tr>\n",
       "<tr>\n",
       "  <th>Kurtosis:</th>      <td> 3.696</td>  <th>  Cond. No.          </th> <td>1.93e+17</td> \n",
       "</tr>\n",
       "</table><br/><br/>Warnings:<br/>[1] Standard Errors assume that the covariance matrix of the errors is correctly specified.<br/>[2] The smallest eigenvalue is 2.22e-28. This might indicate that there are<br/>strong multicollinearity problems or that the design matrix is singular."
      ],
      "text/plain": [
       "<class 'statsmodels.iolib.summary.Summary'>\n",
       "\"\"\"\n",
       "                            OLS Regression Results                            \n",
       "==============================================================================\n",
       "Dep. Variable:                  price   R-squared:                       0.659\n",
       "Model:                            OLS   Adj. R-squared:                  0.659\n",
       "Method:                 Least Squares   F-statistic:                     2780.\n",
       "Date:                Thu, 28 Jan 2021   Prob (F-statistic):               0.00\n",
       "Time:                        22:27:09   Log-Likelihood:                -4218.4\n",
       "No. Observations:               17277   AIC:                             8463.\n",
       "Df Residuals:                   17264   BIC:                             8564.\n",
       "Df Model:                          12                                         \n",
       "Covariance Type:            nonrobust                                         \n",
       "==================================================================================\n",
       "                     coef    std err          t      P>|t|      [0.025      0.975]\n",
       "----------------------------------------------------------------------------------\n",
       "waterfront_Yes    54.0142      1.094     49.380      0.000      51.870      56.158\n",
       "renovated_R       27.0061      0.545     49.553      0.000      25.938      28.074\n",
       "renovated_RR      27.0081      0.549     49.198      0.000      25.932      28.084\n",
       "income             0.6083      0.009     64.933      0.000       0.590       0.627\n",
       "sqft_lot          -0.0240      0.007     -3.520      0.000      -0.037      -0.011\n",
       "sqft_lot15        -0.0472      0.007     -6.364      0.000      -0.062      -0.033\n",
       "sqft_living15      0.2976      0.012     25.442      0.000       0.275       0.320\n",
       "sqft_above         0.6117      0.012     49.094      0.000       0.587       0.636\n",
       "sqft_basement      0.0475      0.001     48.148      0.000       0.046       0.049\n",
       "yr_built         -10.7469      0.217    -49.543      0.000     -11.172     -10.322\n",
       "condition          0.1612      0.018      8.781      0.000       0.125       0.197\n",
       "bedrooms          -0.2756      0.015    -18.796      0.000      -0.304      -0.247\n",
       "floors             0.2275      0.017     13.115      0.000       0.194       0.262\n",
       "bathrooms          0.2707      0.017     15.660      0.000       0.237       0.305\n",
       "==============================================================================\n",
       "Omnibus:                      391.991   Durbin-Watson:                   1.989\n",
       "Prob(Omnibus):                  0.000   Jarque-Bera (JB):              549.424\n",
       "Skew:                           0.264   Prob(JB):                    4.94e-120\n",
       "Kurtosis:                       3.696   Cond. No.                     1.93e+17\n",
       "==============================================================================\n",
       "\n",
       "Warnings:\n",
       "[1] Standard Errors assume that the covariance matrix of the errors is correctly specified.\n",
       "[2] The smallest eigenvalue is 2.22e-28. This might indicate that there are\n",
       "strong multicollinearity problems or that the design matrix is singular.\n",
       "\"\"\""
      ]
     },
     "execution_count": 37,
     "metadata": {},
     "output_type": "execute_result"
    }
   ],
   "source": [
    "# Run an Ordinary Least Squares model and get a results summary\n",
    "ut.ols_summary(X_train3, y_train3, X3)"
   ]
  },
  {
   "cell_type": "markdown",
   "metadata": {},
   "source": [
    "Skew, kurtosis and Prob(F-statistic) all remain similar between the iterations."
   ]
  },
  {
   "cell_type": "code",
   "execution_count": 38,
   "metadata": {},
   "outputs": [
    {
     "data": {
      "image/png": "[encoded data removed]",
      "text/plain": [
       "<Figure size 432x288 with 2 Axes>"
      ]
     },
     "metadata": {
      "needs_background": "light"
     },
     "output_type": "display_data"
    },
    {
     "data": {
      "text/plain": [
       "<matplotlib.axes._subplots.AxesSubplot at 0x7ffb5db93588>"
      ]
     },
     "execution_count": 38,
     "metadata": {},
     "output_type": "execute_result"
    }
   ],
   "source": [
    "# Instantiate the linear model and visualizer\n",
    "model = Ridge()\n",
    "visualizer3 = ResidualsPlot(model)\n",
    "\n",
    "# Fit the training data\n",
    "visualizer3.fit(X_train3_scaled, y_train3)  \n",
    "# Evaluate the model using the test data\n",
    "visualizer3.score(X_test3_scaled, y_test3)\n",
    "# Plot the residuals\n",
    "visualizer3.show()"
   ]
  },
  {
   "cell_type": "markdown",
   "metadata": {},
   "source": [
    "The skedasticity of the model was also unchanged between interations."
   ]
  },
  {
   "cell_type": "markdown",
   "metadata": {},
   "source": [
    "## Iteration 4\n",
    "I next use recursive feature elimination to see which features might not be needed in the model. "
   ]
  },
  {
   "cell_type": "markdown",
   "metadata": {},
   "source": [
    "#### Data Preparation 4"
   ]
  },
  {
   "cell_type": "markdown",
   "metadata": {},
   "source": [
    "To identify most important features of the model using recursive feature elimination, I will use the same features as before with the zipcode category and will not use income."
   ]
  },
  {
   "cell_type": "code",
   "execution_count": 39,
   "metadata": {},
   "outputs": [],
   "source": [
    "categoricals4 = ['waterfront', 'renovated', 'zipcode']\n",
    "continuous4 = ['sqft_lot',  'sqft_lot15', 'sqft_living15', 'sqft_above', 'sqft_basement',\n",
    "              'yr_built', 'condition', 'price', 'bedrooms', 'floors', 'bathrooms']\n",
    "cat_data4 = data[categoricals4]\n",
    "cont_data4 = data[continuous4] \n",
    "# Log transform continuous data\n",
    "cont_data_log4 = np.log1p(cont_data4)\n",
    "\n",
    "# One hot encode categorical data, concatenate it with continuos data and split into\n",
    "# explanatory features and target feature\n",
    "X4, y4 = ut.ohe_concat(cat_data4, cont_data_log4, categoricals4, 'price')\n",
    "\n",
    "# Scale explanatory data\n",
    "scaler4 = RobustScaler()\n",
    "X4_scaled = pd.DataFrame(scaler4.fit_transform(X4))\n"
   ]
  },
  {
   "cell_type": "markdown",
   "metadata": {},
   "source": [
    "#### Model 4"
   ]
  },
  {
   "cell_type": "code",
   "execution_count": 40,
   "metadata": {},
   "outputs": [
    {
     "data": {
      "text/plain": [
       "[('zipcode_98002', 1),\n",
       " ('zipcode_98168', 2),\n",
       " ('zipcode_98032', 3),\n",
       " ('zipcode_98001', 4),\n",
       " ('zipcode_98023', 5),\n",
       " ('zipcode_98148', 6),\n",
       " ('zipcode_98188', 7),\n",
       " ('zipcode_98198', 8),\n",
       " ('zipcode_98003', 9),\n",
       " ('zipcode_98178', 10),\n",
       " ('zipcode_98030', 11),\n",
       " ('zipcode_98055', 12),\n",
       " ('zipcode_98031', 13),\n",
       " ('zipcode_98042', 14),\n",
       " ('zipcode_98022', 15),\n",
       " ('zipcode_98106', 16),\n",
       " ('zipcode_98146', 17),\n",
       " ('zipcode_98092', 18),\n",
       " ('zipcode_98058', 19),\n",
       " ('zipcode_98108', 20),\n",
       " ('zipcode_98038', 21),\n",
       " ('zipcode_98133', 22),\n",
       " ('zipcode_98118', 23),\n",
       " ('zipcode_98010', 24),\n",
       " ('zipcode_98056', 25),\n",
       " ('zipcode_98155', 26),\n",
       " ('zipcode_98126', 27),\n",
       " ('zipcode_98014', 28),\n",
       " ('zipcode_98166', 29),\n",
       " ('zipcode_98019', 30),\n",
       " ('zipcode_98045', 31),\n",
       " ('zipcode_98125', 32),\n",
       " ('zipcode_98028', 33),\n",
       " ('zipcode_98059', 34),\n",
       " ('zipcode_98070', 35),\n",
       " ('zipcode_98011', 36),\n",
       " ('zipcode_98034', 37),\n",
       " ('zipcode_98024', 38),\n",
       " ('zipcode_98065', 39),\n",
       " ('zipcode_98136', 40),\n",
       " ('zipcode_98144', 41),\n",
       " ('zipcode_98072', 42),\n",
       " ('zipcode_98117', 43),\n",
       " ('zipcode_98103', 44),\n",
       " ('zipcode_98107', 45),\n",
       " ('zipcode_98027', 46),\n",
       " ('zipcode_98116', 47),\n",
       " ('zipcode_98115', 48),\n",
       " ('renovated_R', 49),\n",
       " ('renovated_RR', 50),\n",
       " ('zipcode_98122', 51),\n",
       " ('zipcode_98008', 52),\n",
       " ('zipcode_98029', 53),\n",
       " ('zipcode_98007', 54),\n",
       " ('zipcode_98177', 55),\n",
       " ('zipcode_98052', 56),\n",
       " ('zipcode_98053', 57),\n",
       " ('zipcode_98077', 58),\n",
       " ('zipcode_98074', 59),\n",
       " ('zipcode_98199', 60),\n",
       " ('zipcode_98033', 61),\n",
       " ('zipcode_98075', 62),\n",
       " ('zipcode_98105', 63),\n",
       " ('zipcode_98119', 64),\n",
       " ('zipcode_98102', 65),\n",
       " ('zipcode_98005', 66),\n",
       " ('zipcode_98006', 67),\n",
       " ('zipcode_98109', 68),\n",
       " ('zipcode_98112', 69),\n",
       " ('zipcode_98040', 70),\n",
       " ('zipcode_98004', 71),\n",
       " ('zipcode_98039', 72),\n",
       " ('waterfront_Yes', 73),\n",
       " ('sqft_above', 74),\n",
       " ('sqft_basement', 75),\n",
       " ('sqft_living15', 76),\n",
       " ('condition', 77),\n",
       " ('sqft_lot', 78),\n",
       " ('bathrooms', 79),\n",
       " ('bedrooms', 80),\n",
       " ('floors', 81),\n",
       " ('yr_built', 82),\n",
       " ('sqft_lot15', 83)]"
      ]
     },
     "execution_count": 40,
     "metadata": {},
     "output_type": "execute_result"
    }
   ],
   "source": [
    "y_data = y4\n",
    "X_data = X4_scaled\n",
    "y_dataset = y_data.values\n",
    "X_dataset = X_data.values\n",
    "\n",
    "linreg4 = LinearRegression()\n",
    "# Create the RFE model and select attributes\n",
    "rfe = RFE(linreg4, 1)\n",
    "rfe = rfe.fit(X_dataset.data, y_dataset)\n",
    "# Print summaries for the selection of attributes\n",
    "rfe_rank = dict(zip(X4.columns, rfe.ranking_))\n",
    "sorted(rfe_rank.items(), key=lambda x: x[1])"
   ]
  },
  {
   "cell_type": "markdown",
   "metadata": {},
   "source": [
    "#### Evaluation 4"
   ]
  },
  {
   "cell_type": "markdown",
   "metadata": {},
   "source": [
    "The 10 most important features are 'renovated', 'zipcode', 'waterfront', 'sqft_above', 'sqft_basement', 'sqft_living15', 'condition', 'sqft_lot', 'bathrooms'. Then come 'bedrooms', 'floors', yr_built' and sqft_lot15. Cutting the number of bedrooms seems like it wouldn't be good for buyers, but I think the recommendation here is that for a given number of square feet, the number of bedrooms doesn't really matter. "
   ]
  },
  {
   "cell_type": "markdown",
   "metadata": {},
   "source": [
    "## Iteration 5\n",
    "In this iteration, I use only the top 10 important features and try an outlier removal method instead of using the Robust scaler."
   ]
  },
  {
   "cell_type": "markdown",
   "metadata": {},
   "source": [
    "#### Data Preparation 5"
   ]
  },
  {
   "cell_type": "code",
   "execution_count": 41,
   "metadata": {},
   "outputs": [],
   "source": [
    "# Refining the features based on the recursive feature elimination results\n",
    "categoricals5 = ['waterfront', 'renovated', 'zipcode']\n",
    "continuous5 = [ 'sqft_lot', 'sqft_living15', 'sqft_above', 'sqft_basement', 'price', 'bathrooms',\n",
    "              'condition']\n",
    "cat_data5 = data[categoricals5]\n",
    "cont_data5 = data[continuous5]\n",
    "\n",
    "# Log transform continuous data\n",
    "cont_data_log5 = np.log1p(cont_data5)\n",
    "\n",
    "# One hot encode categorical data, concatenate it with continuos data and split into\n",
    "# explanatory features and target feature\n",
    "X5, y5 = ut.ohe_concat(cat_data5, cont_data_log5, categoricals5, 'price')\n",
    "\n",
    "# Split data into training and testing sets\n",
    "X_train5, X_test5, y_train5, y_test5 = train_test_split(X5, y5, test_size = 0.2, random_state=14)\n",
    "\n"
   ]
  },
  {
   "cell_type": "markdown",
   "metadata": {},
   "source": [
    "Use LocalOutlierFactor to find outliers using nearest neighbors, then create training datasets that include only inliers. "
   ]
  },
  {
   "cell_type": "code",
   "execution_count": 42,
   "metadata": {},
   "outputs": [],
   "source": [
    "# Instantiate LocalOutlierFactor and fit & predict on training data\n",
    "lof = LocalOutlierFactor()\n",
    "y_pred = lof.fit_predict(X_train5)\n",
    "\n",
    "# Outliers are assigned '-1'. Create mask of inlier data\n",
    "mask = y_pred != -1\n",
    "\n",
    "# Use mask to eliminate outliers from training data\n",
    "X_train5, y_train5 = X_train5.iloc[mask, :], y_train5.iloc[mask]"
   ]
  },
  {
   "cell_type": "markdown",
   "metadata": {},
   "source": [
    "#### Model 5\n",
    "Use the datasets with outliers removed to create model."
   ]
  },
  {
   "cell_type": "code",
   "execution_count": 43,
   "metadata": {},
   "outputs": [
    {
     "name": "stdout",
     "output_type": "stream",
     "text": [
      "Training Scores: R2 0.84982, Mean Absolute Error 0.15, Root Mean Squared Error 0.20\n",
      "Testing Scores: R2 0.84344, Mean Absolute Error 0.15, Root Mean Squared Error 0.21\n"
     ]
    }
   ],
   "source": [
    "# Instanciate LinearRegression\n",
    "linreg5 = LinearRegression()\n",
    "# Fit model\n",
    "linreg5.fit(X_train5, y_train5)\n",
    "\n",
    "# Make predictions\n",
    "ut.predictions(linreg5, X_train5, X_test5, y_train5, y_test5)"
   ]
  },
  {
   "cell_type": "code",
   "execution_count": 44,
   "metadata": {},
   "outputs": [
    {
     "name": "stderr",
     "output_type": "stream",
     "text": [
      "/Users/cindyreiner/opt/anaconda3/envs/learn-env/lib/python3.6/site-packages/numpy/core/fromnumeric.py:2580: FutureWarning: Method .ptp is deprecated and will be removed in a future version. Use numpy.ptp instead.\n",
      "  return ptp(axis=axis, out=out, **kwargs)\n"
     ]
    },
    {
     "data": {
      "text/html": [
       "<table class=\"simpletable\">\n",
       "<caption>OLS Regression Results</caption>\n",
       "<tr>\n",
       "  <th>Dep. Variable:</th>          <td>price</td>      <th>  R-squared:         </th> <td>   0.850</td>\n",
       "</tr>\n",
       "<tr>\n",
       "  <th>Model:</th>                   <td>OLS</td>       <th>  Adj. R-squared:    </th> <td>   0.849</td>\n",
       "</tr>\n",
       "<tr>\n",
       "  <th>Method:</th>             <td>Least Squares</td>  <th>  F-statistic:       </th> <td>   1203.</td>\n",
       "</tr>\n",
       "<tr>\n",
       "  <th>Date:</th>             <td>Thu, 28 Jan 2021</td> <th>  Prob (F-statistic):</th>  <td>  0.00</td> \n",
       "</tr>\n",
       "<tr>\n",
       "  <th>Time:</th>                 <td>22:27:29</td>     <th>  Log-Likelihood:    </th> <td>  3082.0</td>\n",
       "</tr>\n",
       "<tr>\n",
       "  <th>No. Observations:</th>      <td> 16237</td>      <th>  AIC:               </th> <td>  -6010.</td>\n",
       "</tr>\n",
       "<tr>\n",
       "  <th>Df Residuals:</th>          <td> 16160</td>      <th>  BIC:               </th> <td>  -5417.</td>\n",
       "</tr>\n",
       "<tr>\n",
       "  <th>Df Model:</th>              <td>    76</td>      <th>                     </th>     <td> </td>   \n",
       "</tr>\n",
       "<tr>\n",
       "  <th>Covariance Type:</th>      <td>nonrobust</td>    <th>                     </th>     <td> </td>   \n",
       "</tr>\n",
       "</table>\n",
       "<table class=\"simpletable\">\n",
       "<tr>\n",
       "         <td></td>           <th>coef</th>     <th>std err</th>      <th>t</th>      <th>P>|t|</th>  <th>[0.025</th>    <th>0.975]</th>  \n",
       "</tr>\n",
       "<tr>\n",
       "  <th>waterfront_Yes</th> <td>    3.9283</td> <td>    0.037</td> <td>  106.662</td> <td> 0.000</td> <td>    3.856</td> <td>    4.001</td>\n",
       "</tr>\n",
       "<tr>\n",
       "  <th>renovated_R</th>    <td>    1.9956</td> <td>    0.021</td> <td>   95.211</td> <td> 0.000</td> <td>    1.954</td> <td>    2.037</td>\n",
       "</tr>\n",
       "<tr>\n",
       "  <th>renovated_RR</th>   <td>    1.9328</td> <td>    0.019</td> <td>  102.361</td> <td> 0.000</td> <td>    1.896</td> <td>    1.970</td>\n",
       "</tr>\n",
       "<tr>\n",
       "  <th>zipcode_98001</th>  <td>   -0.4740</td> <td>    0.012</td> <td>  -38.605</td> <td> 0.000</td> <td>   -0.498</td> <td>   -0.450</td>\n",
       "</tr>\n",
       "<tr>\n",
       "  <th>zipcode_98002</th>  <td>   -0.4794</td> <td>    0.017</td> <td>  -28.912</td> <td> 0.000</td> <td>   -0.512</td> <td>   -0.447</td>\n",
       "</tr>\n",
       "<tr>\n",
       "  <th>zipcode_98003</th>  <td>   -0.4318</td> <td>    0.014</td> <td>  -31.336</td> <td> 0.000</td> <td>   -0.459</td> <td>   -0.405</td>\n",
       "</tr>\n",
       "<tr>\n",
       "  <th>zipcode_98004</th>  <td>    0.7115</td> <td>    0.013</td> <td>   53.066</td> <td> 0.000</td> <td>    0.685</td> <td>    0.738</td>\n",
       "</tr>\n",
       "<tr>\n",
       "  <th>zipcode_98005</th>  <td>    0.2911</td> <td>    0.018</td> <td>   16.156</td> <td> 0.000</td> <td>    0.256</td> <td>    0.326</td>\n",
       "</tr>\n",
       "<tr>\n",
       "  <th>zipcode_98006</th>  <td>    0.2658</td> <td>    0.011</td> <td>   24.154</td> <td> 0.000</td> <td>    0.244</td> <td>    0.287</td>\n",
       "</tr>\n",
       "<tr>\n",
       "  <th>zipcode_98007</th>  <td>    0.2014</td> <td>    0.020</td> <td>   10.219</td> <td> 0.000</td> <td>    0.163</td> <td>    0.240</td>\n",
       "</tr>\n",
       "<tr>\n",
       "  <th>zipcode_98008</th>  <td>    0.2470</td> <td>    0.014</td> <td>   17.582</td> <td> 0.000</td> <td>    0.219</td> <td>    0.275</td>\n",
       "</tr>\n",
       "<tr>\n",
       "  <th>zipcode_98010</th>  <td>   -0.2617</td> <td>    0.022</td> <td>  -11.874</td> <td> 0.000</td> <td>   -0.305</td> <td>   -0.218</td>\n",
       "</tr>\n",
       "<tr>\n",
       "  <th>zipcode_98011</th>  <td>   -0.0368</td> <td>    0.017</td> <td>   -2.215</td> <td> 0.027</td> <td>   -0.069</td> <td>   -0.004</td>\n",
       "</tr>\n",
       "<tr>\n",
       "  <th>zipcode_98014</th>  <td>   -0.1859</td> <td>    0.022</td> <td>   -8.489</td> <td> 0.000</td> <td>   -0.229</td> <td>   -0.143</td>\n",
       "</tr>\n",
       "<tr>\n",
       "  <th>zipcode_98019</th>  <td>   -0.1717</td> <td>    0.017</td> <td>  -10.180</td> <td> 0.000</td> <td>   -0.205</td> <td>   -0.139</td>\n",
       "</tr>\n",
       "<tr>\n",
       "  <th>zipcode_98022</th>  <td>   -0.4013</td> <td>    0.015</td> <td>  -25.911</td> <td> 0.000</td> <td>   -0.432</td> <td>   -0.371</td>\n",
       "</tr>\n",
       "<tr>\n",
       "  <th>zipcode_98023</th>  <td>   -0.4746</td> <td>    0.011</td> <td>  -44.966</td> <td> 0.000</td> <td>   -0.495</td> <td>   -0.454</td>\n",
       "</tr>\n",
       "<tr>\n",
       "  <th>zipcode_98024</th>  <td>   -0.0672</td> <td>    0.027</td> <td>   -2.454</td> <td> 0.014</td> <td>   -0.121</td> <td>   -0.014</td>\n",
       "</tr>\n",
       "<tr>\n",
       "  <th>zipcode_98027</th>  <td>    0.0533</td> <td>    0.011</td> <td>    4.725</td> <td> 0.000</td> <td>    0.031</td> <td>    0.075</td>\n",
       "</tr>\n",
       "<tr>\n",
       "  <th>zipcode_98028</th>  <td>   -0.0460</td> <td>    0.014</td> <td>   -3.285</td> <td> 0.001</td> <td>   -0.073</td> <td>   -0.019</td>\n",
       "</tr>\n",
       "<tr>\n",
       "  <th>zipcode_98029</th>  <td>    0.1884</td> <td>    0.013</td> <td>   14.346</td> <td> 0.000</td> <td>    0.163</td> <td>    0.214</td>\n",
       "</tr>\n",
       "<tr>\n",
       "  <th>zipcode_98030</th>  <td>   -0.4221</td> <td>    0.015</td> <td>  -28.616</td> <td> 0.000</td> <td>   -0.451</td> <td>   -0.393</td>\n",
       "</tr>\n",
       "<tr>\n",
       "  <th>zipcode_98031</th>  <td>   -0.4125</td> <td>    0.014</td> <td>  -28.904</td> <td> 0.000</td> <td>   -0.440</td> <td>   -0.385</td>\n",
       "</tr>\n",
       "<tr>\n",
       "  <th>zipcode_98032</th>  <td>   -0.4817</td> <td>    0.021</td> <td>  -22.857</td> <td> 0.000</td> <td>   -0.523</td> <td>   -0.440</td>\n",
       "</tr>\n",
       "<tr>\n",
       "  <th>zipcode_98033</th>  <td>    0.3638</td> <td>    0.011</td> <td>   32.182</td> <td> 0.000</td> <td>    0.342</td> <td>    0.386</td>\n",
       "</tr>\n",
       "<tr>\n",
       "  <th>zipcode_98034</th>  <td>    0.0970</td> <td>    0.010</td> <td>    9.557</td> <td> 0.000</td> <td>    0.077</td> <td>    0.117</td>\n",
       "</tr>\n",
       "<tr>\n",
       "  <th>zipcode_98038</th>  <td>   -0.3196</td> <td>    0.010</td> <td>  -33.414</td> <td> 0.000</td> <td>   -0.338</td> <td>   -0.301</td>\n",
       "</tr>\n",
       "<tr>\n",
       "  <th>zipcode_98039</th>  <td>    0.9098</td> <td>    0.035</td> <td>   26.135</td> <td> 0.000</td> <td>    0.842</td> <td>    0.978</td>\n",
       "</tr>\n",
       "<tr>\n",
       "  <th>zipcode_98040</th>  <td>    0.4942</td> <td>    0.014</td> <td>   34.460</td> <td> 0.000</td> <td>    0.466</td> <td>    0.522</td>\n",
       "</tr>\n",
       "<tr>\n",
       "  <th>zipcode_98042</th>  <td>   -0.4070</td> <td>    0.010</td> <td>  -41.509</td> <td> 0.000</td> <td>   -0.426</td> <td>   -0.388</td>\n",
       "</tr>\n",
       "<tr>\n",
       "  <th>zipcode_98045</th>  <td>   -0.1417</td> <td>    0.016</td> <td>   -9.110</td> <td> 0.000</td> <td>   -0.172</td> <td>   -0.111</td>\n",
       "</tr>\n",
       "<tr>\n",
       "  <th>zipcode_98052</th>  <td>    0.1924</td> <td>    0.010</td> <td>   19.191</td> <td> 0.000</td> <td>    0.173</td> <td>    0.212</td>\n",
       "</tr>\n",
       "<tr>\n",
       "  <th>zipcode_98053</th>  <td>    0.1361</td> <td>    0.012</td> <td>   11.363</td> <td> 0.000</td> <td>    0.113</td> <td>    0.160</td>\n",
       "</tr>\n",
       "<tr>\n",
       "  <th>zipcode_98055</th>  <td>   -0.2987</td> <td>    0.014</td> <td>  -21.212</td> <td> 0.000</td> <td>   -0.326</td> <td>   -0.271</td>\n",
       "</tr>\n",
       "<tr>\n",
       "  <th>zipcode_98056</th>  <td>   -0.1227</td> <td>    0.011</td> <td>  -10.808</td> <td> 0.000</td> <td>   -0.145</td> <td>   -0.100</td>\n",
       "</tr>\n",
       "<tr>\n",
       "  <th>zipcode_98058</th>  <td>   -0.2992</td> <td>    0.011</td> <td>  -27.720</td> <td> 0.000</td> <td>   -0.320</td> <td>   -0.278</td>\n",
       "</tr>\n",
       "<tr>\n",
       "  <th>zipcode_98059</th>  <td>   -0.1424</td> <td>    0.011</td> <td>  -13.435</td> <td> 0.000</td> <td>   -0.163</td> <td>   -0.122</td>\n",
       "</tr>\n",
       "<tr>\n",
       "  <th>zipcode_98065</th>  <td>   -0.0743</td> <td>    0.014</td> <td>   -5.425</td> <td> 0.000</td> <td>   -0.101</td> <td>   -0.047</td>\n",
       "</tr>\n",
       "<tr>\n",
       "  <th>zipcode_98070</th>  <td>   -0.0235</td> <td>    0.021</td> <td>   -1.104</td> <td> 0.270</td> <td>   -0.065</td> <td>    0.018</td>\n",
       "</tr>\n",
       "<tr>\n",
       "  <th>zipcode_98072</th>  <td>    0.0001</td> <td>    0.014</td> <td>    0.009</td> <td> 0.993</td> <td>   -0.027</td> <td>    0.028</td>\n",
       "</tr>\n",
       "<tr>\n",
       "  <th>zipcode_98074</th>  <td>    0.1288</td> <td>    0.011</td> <td>   11.556</td> <td> 0.000</td> <td>    0.107</td> <td>    0.151</td>\n",
       "</tr>\n",
       "<tr>\n",
       "  <th>zipcode_98075</th>  <td>    0.1208</td> <td>    0.013</td> <td>    9.396</td> <td> 0.000</td> <td>    0.096</td> <td>    0.146</td>\n",
       "</tr>\n",
       "<tr>\n",
       "  <th>zipcode_98077</th>  <td>   -0.0298</td> <td>    0.017</td> <td>   -1.769</td> <td> 0.077</td> <td>   -0.063</td> <td>    0.003</td>\n",
       "</tr>\n",
       "<tr>\n",
       "  <th>zipcode_98092</th>  <td>   -0.4545</td> <td>    0.012</td> <td>  -37.579</td> <td> 0.000</td> <td>   -0.478</td> <td>   -0.431</td>\n",
       "</tr>\n",
       "<tr>\n",
       "  <th>zipcode_98102</th>  <td>    0.6045</td> <td>    0.022</td> <td>   27.471</td> <td> 0.000</td> <td>    0.561</td> <td>    0.648</td>\n",
       "</tr>\n",
       "<tr>\n",
       "  <th>zipcode_98103</th>  <td>    0.4797</td> <td>    0.010</td> <td>   48.997</td> <td> 0.000</td> <td>    0.461</td> <td>    0.499</td>\n",
       "</tr>\n",
       "<tr>\n",
       "  <th>zipcode_98105</th>  <td>    0.5790</td> <td>    0.015</td> <td>   38.710</td> <td> 0.000</td> <td>    0.550</td> <td>    0.608</td>\n",
       "</tr>\n",
       "<tr>\n",
       "  <th>zipcode_98106</th>  <td>   -0.0191</td> <td>    0.013</td> <td>   -1.481</td> <td> 0.139</td> <td>   -0.044</td> <td>    0.006</td>\n",
       "</tr>\n",
       "<tr>\n",
       "  <th>zipcode_98107</th>  <td>    0.5150</td> <td>    0.014</td> <td>   35.588</td> <td> 0.000</td> <td>    0.487</td> <td>    0.543</td>\n",
       "</tr>\n",
       "<tr>\n",
       "  <th>zipcode_98108</th>  <td>   -0.0318</td> <td>    0.016</td> <td>   -1.948</td> <td> 0.051</td> <td>   -0.064</td> <td>    0.000</td>\n",
       "</tr>\n",
       "<tr>\n",
       "  <th>zipcode_98109</th>  <td>    0.6826</td> <td>    0.021</td> <td>   32.177</td> <td> 0.000</td> <td>    0.641</td> <td>    0.724</td>\n",
       "</tr>\n",
       "<tr>\n",
       "  <th>zipcode_98112</th>  <td>    0.6740</td> <td>    0.014</td> <td>   47.509</td> <td> 0.000</td> <td>    0.646</td> <td>    0.702</td>\n",
       "</tr>\n",
       "<tr>\n",
       "  <th>zipcode_98115</th>  <td>    0.4400</td> <td>    0.010</td> <td>   46.144</td> <td> 0.000</td> <td>    0.421</td> <td>    0.459</td>\n",
       "</tr>\n",
       "<tr>\n",
       "  <th>zipcode_98116</th>  <td>    0.4396</td> <td>    0.013</td> <td>   34.343</td> <td> 0.000</td> <td>    0.414</td> <td>    0.465</td>\n",
       "</tr>\n",
       "<tr>\n",
       "  <th>zipcode_98117</th>  <td>    0.4659</td> <td>    0.010</td> <td>   47.558</td> <td> 0.000</td> <td>    0.447</td> <td>    0.485</td>\n",
       "</tr>\n",
       "<tr>\n",
       "  <th>zipcode_98118</th>  <td>    0.0736</td> <td>    0.010</td> <td>    7.046</td> <td> 0.000</td> <td>    0.053</td> <td>    0.094</td>\n",
       "</tr>\n",
       "<tr>\n",
       "  <th>zipcode_98119</th>  <td>    0.6371</td> <td>    0.017</td> <td>   38.286</td> <td> 0.000</td> <td>    0.604</td> <td>    0.670</td>\n",
       "</tr>\n",
       "<tr>\n",
       "  <th>zipcode_98122</th>  <td>    0.4788</td> <td>    0.014</td> <td>   35.310</td> <td> 0.000</td> <td>    0.452</td> <td>    0.505</td>\n",
       "</tr>\n",
       "<tr>\n",
       "  <th>zipcode_98125</th>  <td>    0.1604</td> <td>    0.012</td> <td>   13.845</td> <td> 0.000</td> <td>    0.138</td> <td>    0.183</td>\n",
       "</tr>\n",
       "<tr>\n",
       "  <th>zipcode_98126</th>  <td>    0.2241</td> <td>    0.012</td> <td>   18.379</td> <td> 0.000</td> <td>    0.200</td> <td>    0.248</td>\n",
       "</tr>\n",
       "<tr>\n",
       "  <th>zipcode_98133</th>  <td>    0.0684</td> <td>    0.011</td> <td>    6.429</td> <td> 0.000</td> <td>    0.048</td> <td>    0.089</td>\n",
       "</tr>\n",
       "<tr>\n",
       "  <th>zipcode_98136</th>  <td>    0.3511</td> <td>    0.014</td> <td>   24.674</td> <td> 0.000</td> <td>    0.323</td> <td>    0.379</td>\n",
       "</tr>\n",
       "<tr>\n",
       "  <th>zipcode_98144</th>  <td>    0.3206</td> <td>    0.012</td> <td>   25.938</td> <td> 0.000</td> <td>    0.296</td> <td>    0.345</td>\n",
       "</tr>\n",
       "<tr>\n",
       "  <th>zipcode_98146</th>  <td>   -0.1184</td> <td>    0.014</td> <td>   -8.613</td> <td> 0.000</td> <td>   -0.145</td> <td>   -0.091</td>\n",
       "</tr>\n",
       "<tr>\n",
       "  <th>zipcode_98148</th>  <td>   -0.2678</td> <td>    0.031</td> <td>   -8.538</td> <td> 0.000</td> <td>   -0.329</td> <td>   -0.206</td>\n",
       "</tr>\n",
       "<tr>\n",
       "  <th>zipcode_98155</th>  <td>    0.0162</td> <td>    0.011</td> <td>    1.466</td> <td> 0.143</td> <td>   -0.005</td> <td>    0.038</td>\n",
       "</tr>\n",
       "<tr>\n",
       "  <th>zipcode_98166</th>  <td>   -0.0715</td> <td>    0.014</td> <td>   -5.042</td> <td> 0.000</td> <td>   -0.099</td> <td>   -0.044</td>\n",
       "</tr>\n",
       "<tr>\n",
       "  <th>zipcode_98168</th>  <td>   -0.3568</td> <td>    0.014</td> <td>  -24.684</td> <td> 0.000</td> <td>   -0.385</td> <td>   -0.328</td>\n",
       "</tr>\n",
       "<tr>\n",
       "  <th>zipcode_98177</th>  <td>    0.2284</td> <td>    0.014</td> <td>   15.896</td> <td> 0.000</td> <td>    0.200</td> <td>    0.257</td>\n",
       "</tr>\n",
       "<tr>\n",
       "  <th>zipcode_98178</th>  <td>   -0.2397</td> <td>    0.014</td> <td>  -16.612</td> <td> 0.000</td> <td>   -0.268</td> <td>   -0.211</td>\n",
       "</tr>\n",
       "<tr>\n",
       "  <th>zipcode_98188</th>  <td>   -0.3303</td> <td>    0.020</td> <td>  -16.360</td> <td> 0.000</td> <td>   -0.370</td> <td>   -0.291</td>\n",
       "</tr>\n",
       "<tr>\n",
       "  <th>zipcode_98198</th>  <td>   -0.3350</td> <td>    0.014</td> <td>  -24.241</td> <td> 0.000</td> <td>   -0.362</td> <td>   -0.308</td>\n",
       "</tr>\n",
       "<tr>\n",
       "  <th>zipcode_98199</th>  <td>    0.5183</td> <td>    0.013</td> <td>   39.254</td> <td> 0.000</td> <td>    0.492</td> <td>    0.544</td>\n",
       "</tr>\n",
       "<tr>\n",
       "  <th>sqft_lot</th>       <td>    0.0681</td> <td>    0.002</td> <td>   27.297</td> <td> 0.000</td> <td>    0.063</td> <td>    0.073</td>\n",
       "</tr>\n",
       "<tr>\n",
       "  <th>sqft_living15</th>  <td>    0.2912</td> <td>    0.008</td> <td>   35.190</td> <td> 0.000</td> <td>    0.275</td> <td>    0.307</td>\n",
       "</tr>\n",
       "<tr>\n",
       "  <th>sqft_above</th>     <td>    0.5101</td> <td>    0.008</td> <td>   67.489</td> <td> 0.000</td> <td>    0.495</td> <td>    0.525</td>\n",
       "</tr>\n",
       "<tr>\n",
       "  <th>sqft_basement</th>  <td>    0.0226</td> <td>    0.001</td> <td>   34.558</td> <td> 0.000</td> <td>    0.021</td> <td>    0.024</td>\n",
       "</tr>\n",
       "<tr>\n",
       "  <th>bathrooms</th>      <td>    0.1520</td> <td>    0.011</td> <td>   14.446</td> <td> 0.000</td> <td>    0.131</td> <td>    0.173</td>\n",
       "</tr>\n",
       "<tr>\n",
       "  <th>condition</th>      <td>    0.2180</td> <td>    0.012</td> <td>   17.886</td> <td> 0.000</td> <td>    0.194</td> <td>    0.242</td>\n",
       "</tr>\n",
       "</table>\n",
       "<table class=\"simpletable\">\n",
       "<tr>\n",
       "  <th>Omnibus:</th>       <td>1284.614</td> <th>  Durbin-Watson:     </th> <td>   1.991</td>\n",
       "</tr>\n",
       "<tr>\n",
       "  <th>Prob(Omnibus):</th>  <td> 0.000</td>  <th>  Jarque-Bera (JB):  </th> <td>6056.689</td>\n",
       "</tr>\n",
       "<tr>\n",
       "  <th>Skew:</th>           <td> 0.242</td>  <th>  Prob(JB):          </th> <td>    0.00</td>\n",
       "</tr>\n",
       "<tr>\n",
       "  <th>Kurtosis:</th>       <td> 5.953</td>  <th>  Cond. No.          </th> <td>3.77e+16</td>\n",
       "</tr>\n",
       "</table><br/><br/>Warnings:<br/>[1] Standard Errors assume that the covariance matrix of the errors is correctly specified.<br/>[2] The smallest eigenvalue is 2.34e-27. This might indicate that there are<br/>strong multicollinearity problems or that the design matrix is singular."
      ],
      "text/plain": [
       "<class 'statsmodels.iolib.summary.Summary'>\n",
       "\"\"\"\n",
       "                            OLS Regression Results                            \n",
       "==============================================================================\n",
       "Dep. Variable:                  price   R-squared:                       0.850\n",
       "Model:                            OLS   Adj. R-squared:                  0.849\n",
       "Method:                 Least Squares   F-statistic:                     1203.\n",
       "Date:                Thu, 28 Jan 2021   Prob (F-statistic):               0.00\n",
       "Time:                        22:27:29   Log-Likelihood:                 3082.0\n",
       "No. Observations:               16237   AIC:                            -6010.\n",
       "Df Residuals:                   16160   BIC:                            -5417.\n",
       "Df Model:                          76                                         \n",
       "Covariance Type:            nonrobust                                         \n",
       "==================================================================================\n",
       "                     coef    std err          t      P>|t|      [0.025      0.975]\n",
       "----------------------------------------------------------------------------------\n",
       "waterfront_Yes     3.9283      0.037    106.662      0.000       3.856       4.001\n",
       "renovated_R        1.9956      0.021     95.211      0.000       1.954       2.037\n",
       "renovated_RR       1.9328      0.019    102.361      0.000       1.896       1.970\n",
       "zipcode_98001     -0.4740      0.012    -38.605      0.000      -0.498      -0.450\n",
       "zipcode_98002     -0.4794      0.017    -28.912      0.000      -0.512      -0.447\n",
       "zipcode_98003     -0.4318      0.014    -31.336      0.000      -0.459      -0.405\n",
       "zipcode_98004      0.7115      0.013     53.066      0.000       0.685       0.738\n",
       "zipcode_98005      0.2911      0.018     16.156      0.000       0.256       0.326\n",
       "zipcode_98006      0.2658      0.011     24.154      0.000       0.244       0.287\n",
       "zipcode_98007      0.2014      0.020     10.219      0.000       0.163       0.240\n",
       "zipcode_98008      0.2470      0.014     17.582      0.000       0.219       0.275\n",
       "zipcode_98010     -0.2617      0.022    -11.874      0.000      -0.305      -0.218\n",
       "zipcode_98011     -0.0368      0.017     -2.215      0.027      -0.069      -0.004\n",
       "zipcode_98014     -0.1859      0.022     -8.489      0.000      -0.229      -0.143\n",
       "zipcode_98019     -0.1717      0.017    -10.180      0.000      -0.205      -0.139\n",
       "zipcode_98022     -0.4013      0.015    -25.911      0.000      -0.432      -0.371\n",
       "zipcode_98023     -0.4746      0.011    -44.966      0.000      -0.495      -0.454\n",
       "zipcode_98024     -0.0672      0.027     -2.454      0.014      -0.121      -0.014\n",
       "zipcode_98027      0.0533      0.011      4.725      0.000       0.031       0.075\n",
       "zipcode_98028     -0.0460      0.014     -3.285      0.001      -0.073      -0.019\n",
       "zipcode_98029      0.1884      0.013     14.346      0.000       0.163       0.214\n",
       "zipcode_98030     -0.4221      0.015    -28.616      0.000      -0.451      -0.393\n",
       "zipcode_98031     -0.4125      0.014    -28.904      0.000      -0.440      -0.385\n",
       "zipcode_98032     -0.4817      0.021    -22.857      0.000      -0.523      -0.440\n",
       "zipcode_98033      0.3638      0.011     32.182      0.000       0.342       0.386\n",
       "zipcode_98034      0.0970      0.010      9.557      0.000       0.077       0.117\n",
       "zipcode_98038     -0.3196      0.010    -33.414      0.000      -0.338      -0.301\n",
       "zipcode_98039      0.9098      0.035     26.135      0.000       0.842       0.978\n",
       "zipcode_98040      0.4942      0.014     34.460      0.000       0.466       0.522\n",
       "zipcode_98042     -0.4070      0.010    -41.509      0.000      -0.426      -0.388\n",
       "zipcode_98045     -0.1417      0.016     -9.110      0.000      -0.172      -0.111\n",
       "zipcode_98052      0.1924      0.010     19.191      0.000       0.173       0.212\n",
       "zipcode_98053      0.1361      0.012     11.363      0.000       0.113       0.160\n",
       "zipcode_98055     -0.2987      0.014    -21.212      0.000      -0.326      -0.271\n",
       "zipcode_98056     -0.1227      0.011    -10.808      0.000      -0.145      -0.100\n",
       "zipcode_98058     -0.2992      0.011    -27.720      0.000      -0.320      -0.278\n",
       "zipcode_98059     -0.1424      0.011    -13.435      0.000      -0.163      -0.122\n",
       "zipcode_98065     -0.0743      0.014     -5.425      0.000      -0.101      -0.047\n",
       "zipcode_98070     -0.0235      0.021     -1.104      0.270      -0.065       0.018\n",
       "zipcode_98072      0.0001      0.014      0.009      0.993      -0.027       0.028\n",
       "zipcode_98074      0.1288      0.011     11.556      0.000       0.107       0.151\n",
       "zipcode_98075      0.1208      0.013      9.396      0.000       0.096       0.146\n",
       "zipcode_98077     -0.0298      0.017     -1.769      0.077      -0.063       0.003\n",
       "zipcode_98092     -0.4545      0.012    -37.579      0.000      -0.478      -0.431\n",
       "zipcode_98102      0.6045      0.022     27.471      0.000       0.561       0.648\n",
       "zipcode_98103      0.4797      0.010     48.997      0.000       0.461       0.499\n",
       "zipcode_98105      0.5790      0.015     38.710      0.000       0.550       0.608\n",
       "zipcode_98106     -0.0191      0.013     -1.481      0.139      -0.044       0.006\n",
       "zipcode_98107      0.5150      0.014     35.588      0.000       0.487       0.543\n",
       "zipcode_98108     -0.0318      0.016     -1.948      0.051      -0.064       0.000\n",
       "zipcode_98109      0.6826      0.021     32.177      0.000       0.641       0.724\n",
       "zipcode_98112      0.6740      0.014     47.509      0.000       0.646       0.702\n",
       "zipcode_98115      0.4400      0.010     46.144      0.000       0.421       0.459\n",
       "zipcode_98116      0.4396      0.013     34.343      0.000       0.414       0.465\n",
       "zipcode_98117      0.4659      0.010     47.558      0.000       0.447       0.485\n",
       "zipcode_98118      0.0736      0.010      7.046      0.000       0.053       0.094\n",
       "zipcode_98119      0.6371      0.017     38.286      0.000       0.604       0.670\n",
       "zipcode_98122      0.4788      0.014     35.310      0.000       0.452       0.505\n",
       "zipcode_98125      0.1604      0.012     13.845      0.000       0.138       0.183\n",
       "zipcode_98126      0.2241      0.012     18.379      0.000       0.200       0.248\n",
       "zipcode_98133      0.0684      0.011      6.429      0.000       0.048       0.089\n",
       "zipcode_98136      0.3511      0.014     24.674      0.000       0.323       0.379\n",
       "zipcode_98144      0.3206      0.012     25.938      0.000       0.296       0.345\n",
       "zipcode_98146     -0.1184      0.014     -8.613      0.000      -0.145      -0.091\n",
       "zipcode_98148     -0.2678      0.031     -8.538      0.000      -0.329      -0.206\n",
       "zipcode_98155      0.0162      0.011      1.466      0.143      -0.005       0.038\n",
       "zipcode_98166     -0.0715      0.014     -5.042      0.000      -0.099      -0.044\n",
       "zipcode_98168     -0.3568      0.014    -24.684      0.000      -0.385      -0.328\n",
       "zipcode_98177      0.2284      0.014     15.896      0.000       0.200       0.257\n",
       "zipcode_98178     -0.2397      0.014    -16.612      0.000      -0.268      -0.211\n",
       "zipcode_98188     -0.3303      0.020    -16.360      0.000      -0.370      -0.291\n",
       "zipcode_98198     -0.3350      0.014    -24.241      0.000      -0.362      -0.308\n",
       "zipcode_98199      0.5183      0.013     39.254      0.000       0.492       0.544\n",
       "sqft_lot           0.0681      0.002     27.297      0.000       0.063       0.073\n",
       "sqft_living15      0.2912      0.008     35.190      0.000       0.275       0.307\n",
       "sqft_above         0.5101      0.008     67.489      0.000       0.495       0.525\n",
       "sqft_basement      0.0226      0.001     34.558      0.000       0.021       0.024\n",
       "bathrooms          0.1520      0.011     14.446      0.000       0.131       0.173\n",
       "condition          0.2180      0.012     17.886      0.000       0.194       0.242\n",
       "==============================================================================\n",
       "Omnibus:                     1284.614   Durbin-Watson:                   1.991\n",
       "Prob(Omnibus):                  0.000   Jarque-Bera (JB):             6056.689\n",
       "Skew:                           0.242   Prob(JB):                         0.00\n",
       "Kurtosis:                       5.953   Cond. No.                     3.77e+16\n",
       "==============================================================================\n",
       "\n",
       "Warnings:\n",
       "[1] Standard Errors assume that the covariance matrix of the errors is correctly specified.\n",
       "[2] The smallest eigenvalue is 2.34e-27. This might indicate that there are\n",
       "strong multicollinearity problems or that the design matrix is singular.\n",
       "\"\"\""
      ]
     },
     "execution_count": 44,
     "metadata": {},
     "output_type": "execute_result"
    }
   ],
   "source": [
    "# Run an Ordinary Least Squares model and get a results summary\n",
    "ut.ols_summary(X_train5, y_train5, X5)"
   ]
  },
  {
   "cell_type": "code",
   "execution_count": 45,
   "metadata": {
    "scrolled": false
   },
   "outputs": [
    {
     "data": {
      "image/png": "[encoded data removed]",
      "text/plain": [
       "<Figure size 432x288 with 2 Axes>"
      ]
     },
     "metadata": {
      "needs_background": "light"
     },
     "output_type": "display_data"
    },
    {
     "data": {
      "text/plain": [
       "<matplotlib.axes._subplots.AxesSubplot at 0x7ffb5e97d5f8>"
      ]
     },
     "execution_count": 45,
     "metadata": {},
     "output_type": "execute_result"
    }
   ],
   "source": [
    "# Instantiate the linear model and visualizer\n",
    "model = Ridge()\n",
    "visualizer5 = ResidualsPlot(model)\n",
    "\n",
    "# Fit the training data\n",
    "visualizer5.fit(X_train5, y_train5)  \n",
    "# Evaluate the model using the test data\n",
    "visualizer5.score(X_test5, y_test5)\n",
    "# Plot the residuals\n",
    "visualizer5.show()"
   ]
  },
  {
   "cell_type": "markdown",
   "metadata": {},
   "source": [
    "#### Evaluation 5"
   ]
  },
  {
   "cell_type": "markdown",
   "metadata": {},
   "source": [
    "Based on R2, mae, rmse, skewness, kurtosis, Prob(F-statistic) and the residuals plot, this model works as well as the one using Robust scaling to deal with outliers. "
   ]
  },
  {
   "cell_type": "markdown",
   "metadata": {},
   "source": [
    "#### Analysis of Model 5\n",
    "To analyze this final model, I will look at the coefficients of the features to see how each feature affects the final house price."
   ]
  },
  {
   "cell_type": "code",
   "execution_count": 46,
   "metadata": {
    "scrolled": true
   },
   "outputs": [
    {
     "data": {
      "text/plain": [
       "[('zipcode_98039', 0.8536725262229927),\n",
       " ('zipcode_98004', 0.655353949085226),\n",
       " ('zipcode_98109', 0.6265058052589899),\n",
       " ('zipcode_98112', 0.6179253006858387),\n",
       " ('zipcode_98119', 0.5809743836772308),\n",
       " ('zipcode_98102', 0.5483655806988503),\n",
       " ('zipcode_98105', 0.522897379711446),\n",
       " ('sqft_above', 0.5100905835786806),\n",
       " ('zipcode_98199', 0.462152028317635),\n",
       " ('zipcode_98107', 0.45892866702569807),\n",
       " ('zipcode_98040', 0.4380979375334405),\n",
       " ('zipcode_98103', 0.4236209957565804),\n",
       " ('zipcode_98122', 0.42265568337938725),\n",
       " ('zipcode_98117', 0.4097326662702798),\n",
       " ('zipcode_98115', 0.38391470819734963),\n",
       " ('zipcode_98116', 0.3834404378310629),\n",
       " ('zipcode_98033', 0.30763800068389996),\n",
       " ('zipcode_98136', 0.29500596612342117),\n",
       " ('sqft_living15', 0.2911653662341684),\n",
       " ('zipcode_98144', 0.26446112820784856),\n",
       " ('zipcode_98005', 0.2349987440473743),\n",
       " ('condition', 0.21795421641248627),\n",
       " ('zipcode_98006', 0.20966003276023676),\n",
       " ('zipcode_98008', 0.19085869950892714),\n",
       " ('zipcode_98177', 0.172320478175029),\n",
       " ('zipcode_98126', 0.16798371354543218),\n",
       " ('bathrooms', 0.15199248674443538),\n",
       " ('zipcode_98007', 0.14526509244075742),\n",
       " ('zipcode_98052', 0.13631379370966598),\n",
       " ('zipcode_98029', 0.1322884147437891),\n",
       " ('zipcode_98125', 0.10430881895199995),\n",
       " ('zipcode_98053', 0.07995224174632587),\n",
       " ('zipcode_98074', 0.07266160854748183),\n",
       " ('sqft_lot', 0.06814378487140874),\n",
       " ('zipcode_98075', 0.0646942224265033),\n",
       " ('zipcode_98034', 0.04090261147596342),\n",
       " ('renovated_R', 0.03139911580692995),\n",
       " ('sqft_basement', 0.022643807238440516),\n",
       " ('zipcode_98118', 0.017472893279698358),\n",
       " ('zipcode_98133', 0.012237673044125194),\n",
       " ('waterfront_Yes', -9.43127364069541e-18),\n",
       " ('zipcode_98027', -0.002793183629843682),\n",
       " ('renovated_RR', -0.03139911580693716),\n",
       " ('zipcode_98155', -0.039949649323359426),\n",
       " ('zipcode_98072', -0.05599073630861217),\n",
       " ('zipcode_98106', -0.07518564057767504),\n",
       " ('zipcode_98070', -0.07964911567052788),\n",
       " ('zipcode_98077', -0.0859175940654528),\n",
       " ('zipcode_98108', -0.08792797194476079),\n",
       " ('zipcode_98011', -0.09287920577356333),\n",
       " ('zipcode_98028', -0.10214001039105426),\n",
       " ('zipcode_98024', -0.12326945892848837),\n",
       " ('zipcode_98166', -0.12762764064555737),\n",
       " ('zipcode_98065', -0.13043977121178257),\n",
       " ('zipcode_98146', -0.17451017683083395),\n",
       " ('zipcode_98056', -0.1788234286511743),\n",
       " ('zipcode_98045', -0.1977887093544975),\n",
       " ('zipcode_98059', -0.19854241176955162),\n",
       " ('zipcode_98019', -0.22777687798830473),\n",
       " ('zipcode_98014', -0.24203164299831617),\n",
       " ('zipcode_98178', -0.2958494550235343),\n",
       " ('zipcode_98010', -0.31781262719460224),\n",
       " ('zipcode_98148', -0.3238760117909971),\n",
       " ('zipcode_98055', -0.3548276089381923),\n",
       " ('zipcode_98058', -0.35534841603655515),\n",
       " ('zipcode_98038', -0.37570982579709433),\n",
       " ('zipcode_98188', -0.38640589991857416),\n",
       " ('zipcode_98198', -0.391110274641246),\n",
       " ('zipcode_98168', -0.41293406065013694),\n",
       " ('zipcode_98022', -0.457461657586559),\n",
       " ('zipcode_98042', -0.46313864368940105),\n",
       " ('zipcode_98031', -0.46861666408874264),\n",
       " ('zipcode_98030', -0.47826104019137655),\n",
       " ('zipcode_98003', -0.48791807243117846),\n",
       " ('zipcode_98092', -0.5106170725442698),\n",
       " ('zipcode_98001', -0.5300857976074215),\n",
       " ('zipcode_98023', -0.5307447132750415),\n",
       " ('zipcode_98002', -0.5354765491007456),\n",
       " ('zipcode_98032', -0.5378245665014657)]"
      ]
     },
     "execution_count": 46,
     "metadata": {},
     "output_type": "execute_result"
    }
   ],
   "source": [
    "# Create dictionary of featurs and coefficients\n",
    "coef_dict5 = dict(zip(X5.columns, linreg5.coef_))\n",
    "sorted(coef_dict5.items(), key=lambda x: x[1], reverse=True)"
   ]
  },
  {
   "cell_type": "markdown",
   "metadata": {},
   "source": [
    "To determine how zipcode affects house prices, I create a dictionary of the zipcodes and the exponantiated coefficients. The categorical zipcode features were not log transformed, while the target price feature was log transformed. The exponantiated coefficient represents the percent difference from the average similar house for that zipcode."
   ]
  },
  {
   "cell_type": "code",
   "execution_count": 47,
   "metadata": {
    "scrolled": true
   },
   "outputs": [
    {
     "data": {
      "text/plain": [
       "[('zipcode_98039', 134.83),\n",
       " ('zipcode_98004', 92.58),\n",
       " ('zipcode_98109', 87.11),\n",
       " ('zipcode_98112', 85.51),\n",
       " ('zipcode_98119', 78.78),\n",
       " ('zipcode_98102', 73.04),\n",
       " ('zipcode_98105', 68.69),\n",
       " ('zipcode_98199', 58.75),\n",
       " ('zipcode_98107', 58.24),\n",
       " ('zipcode_98040', 54.98),\n",
       " ('zipcode_98103', 52.75),\n",
       " ('zipcode_98122', 52.6),\n",
       " ('zipcode_98117', 50.64),\n",
       " ('zipcode_98115', 46.8),\n",
       " ('zipcode_98116', 46.73),\n",
       " ('zipcode_98033', 36.02),\n",
       " ('zipcode_98136', 34.31),\n",
       " ('zipcode_98144', 30.27),\n",
       " ('zipcode_98005', 26.49),\n",
       " ('zipcode_98006', 23.33),\n",
       " ('zipcode_98008', 21.03),\n",
       " ('zipcode_98177', 18.81),\n",
       " ('zipcode_98126', 18.29),\n",
       " ('zipcode_98007', 15.63),\n",
       " ('zipcode_98052', 14.6),\n",
       " ('zipcode_98029', 14.14),\n",
       " ('zipcode_98125', 10.99),\n",
       " ('zipcode_98053', 8.32),\n",
       " ('zipcode_98074', 7.54),\n",
       " ('zipcode_98075', 6.68),\n",
       " ('zipcode_98034', 4.18),\n",
       " ('zipcode_98118', 1.76),\n",
       " ('zipcode_98133', 1.23),\n",
       " ('zipcode_98027', -0.28),\n",
       " ('zipcode_98155', -3.92),\n",
       " ('zipcode_98072', -5.45),\n",
       " ('zipcode_98106', -7.24),\n",
       " ('zipcode_98070', -7.66),\n",
       " ('zipcode_98077', -8.23),\n",
       " ('zipcode_98108', -8.42),\n",
       " ('zipcode_98011', -8.87),\n",
       " ('zipcode_98028', -9.71),\n",
       " ('zipcode_98024', -11.6),\n",
       " ('zipcode_98166', -11.98),\n",
       " ('zipcode_98065', -12.23),\n",
       " ('zipcode_98146', -16.01),\n",
       " ('zipcode_98056', -16.37),\n",
       " ('zipcode_98045', -17.95),\n",
       " ('zipcode_98059', -18.01),\n",
       " ('zipcode_98019', -20.37),\n",
       " ('zipcode_98014', -21.5),\n",
       " ('zipcode_98178', -25.61),\n",
       " ('zipcode_98010', -27.23),\n",
       " ('zipcode_98148', -27.67),\n",
       " ('zipcode_98055', -29.87),\n",
       " ('zipcode_98058', -29.91),\n",
       " ('zipcode_98038', -31.32),\n",
       " ('zipcode_98188', -32.05),\n",
       " ('zipcode_98198', -32.37),\n",
       " ('zipcode_98168', -33.83),\n",
       " ('zipcode_98022', -36.71),\n",
       " ('zipcode_98042', -37.07),\n",
       " ('zipcode_98031', -37.41),\n",
       " ('zipcode_98030', -38.01),\n",
       " ('zipcode_98003', -38.61),\n",
       " ('zipcode_98092', -39.99),\n",
       " ('zipcode_98001', -41.14),\n",
       " ('zipcode_98023', -41.18),\n",
       " ('zipcode_98002', -41.46),\n",
       " ('zipcode_98032', -41.6)]"
      ]
     },
     "execution_count": 47,
     "metadata": {},
     "output_type": "execute_result"
    }
   ],
   "source": [
    "# Create the dictionary for zipcodes & transformed coefficients\n",
    "zip_dict = {}\n",
    "# Also create a dictionary for the other features minus the zipcodes.\n",
    "# This will make a cleaner dictionary to use for the rest of the analysis.\n",
    "feature_dict = {}\n",
    "# Use a for loop to exponantiate coefficients of zipcodes and place the zipcode & new coefficient in the dictionary\n",
    "for key, value in coef_dict5.items():\n",
    "    if 'zipcode' in key: \n",
    "        multiplier = round((np.exp(value) - 1)*100, 2)\n",
    "        zip_dict[key] = multiplier\n",
    "    else:\n",
    "        feature_dict[key] = value\n",
    "    \n",
    "sorted(zip_dict.items(), key=lambda x: x[1], reverse=True)"
   ]
  },
  {
   "cell_type": "markdown",
   "metadata": {},
   "source": [
    "Unsuprisingly, the zipcode with the largest impact on house prices, 98039, is home to Steve Ballmer, Bill Gates and Jeff Bezos. Living in their zipcode will increase the cost of a house by 135% compared to a similar house in the average neighborhood. The zipcodes with a negative impact on price are mostly suburbs to the south of Seattle."
   ]
  },
  {
   "cell_type": "code",
   "execution_count": 48,
   "metadata": {
    "scrolled": true
   },
   "outputs": [
    {
     "data": {
      "text/plain": [
       "[('sqft_above', 0.5100905835786806),\n",
       " ('sqft_living15', 0.2911653662341684),\n",
       " ('condition', 0.21795421641248627),\n",
       " ('bathrooms', 0.15199248674443538),\n",
       " ('sqft_lot', 0.06814378487140874),\n",
       " ('renovated_R', 0.03139911580692995),\n",
       " ('sqft_basement', 0.022643807238440516),\n",
       " ('waterfront_Yes', -9.43127364069541e-18),\n",
       " ('renovated_RR', -0.03139911580693716)]"
      ]
     },
     "execution_count": 48,
     "metadata": {},
     "output_type": "execute_result"
    }
   ],
   "source": [
    "# Look at the rest of the features\n",
    "sorted(feature_dict.items(), key=lambda x: x[1], reverse=True)"
   ]
  },
  {
   "cell_type": "markdown",
   "metadata": {},
   "source": [
    "Like zipcodes, the renovation and waterfront categories were not log transformed. The other features were log transformed. Next I create another dictionary with these coefficients appropriately transformed for the feature."
   ]
  },
  {
   "cell_type": "code",
   "execution_count": 49,
   "metadata": {
    "scrolled": true
   },
   "outputs": [
    {
     "data": {
      "text/plain": [
       "[('sqft_above', 4.98),\n",
       " ('renovated_R', 3.19),\n",
       " ('sqft_living15', 2.81),\n",
       " ('condition', 2.1),\n",
       " ('bathrooms', 1.46),\n",
       " ('sqft_lot', 0.65),\n",
       " ('sqft_basement', 0.22),\n",
       " ('waterfront_Yes', 0.0),\n",
       " ('renovated_RR', -3.09)]"
      ]
     },
     "execution_count": 49,
     "metadata": {},
     "output_type": "execute_result"
    }
   ],
   "source": [
    "# Create dictionary for transformed coefficients\n",
    "feat_coef = {}\n",
    "cat_feat = ['renovated', 'waterfront']\n",
    "#use a for loop to exponantiate coefficients of zipcodes and place the zipcode & new coefficient in the dictionary\n",
    "for key, value in feature_dict.items():\n",
    "    if any(x in key for x in cat_feat): \n",
    "        multiplier = round((np.exp(value) - 1)*100, 2)\n",
    "        feat_coef[key] = multiplier\n",
    "    else:\n",
    "        multiplier = round((1.1**value - 1)*100, 2)\n",
    "        feat_coef[key] = multiplier\n",
    "    \n",
    "sorted(feat_coef.items(), key=lambda x: x[1], reverse=True)"
   ]
  },
  {
   "cell_type": "markdown",
   "metadata": {},
   "source": [
    "For the continuous features, the value in this dictionary is the percent increase due to a 10% increase in the feature. "
   ]
  },
  {
   "cell_type": "code",
   "execution_count": 50,
   "metadata": {
    "scrolled": false
   },
   "outputs": [
    {
     "data": {
      "image/png": "[encoded data removed]",
      "text/plain": [
       "<Figure size 432x288 with 1 Axes>"
      ]
     },
     "metadata": {
      "needs_background": "light"
     },
     "output_type": "display_data"
    }
   ],
   "source": [
    "# Plot how an increase in number of bathrooms affects house price.\n",
    "\n",
    "# List of possible number of bathrooms\n",
    "bath_num = [1, 1.5, 2, 2.5, 3, 3.5, 4, 4.5, 5, 5.5, 6, 6.5]\n",
    "# List to contain percent increase in price\n",
    "increase = []\n",
    "for num in bath_num:\n",
    "    # Calculate percent increase in adding a half bath.\n",
    "    pct_increase = (0.5 / num) + 1\n",
    "    # Use the bathroom coef to calculate the corresponding increase in price\n",
    "    transform = (pct_increase**0.17 - 1)*100\n",
    "    increase.append(transform)\n",
    "\n",
    "\n",
    "plt.suptitle('Percent Increase in House Price by Number of Bathrooms', fontsize=15)\n",
    "plt.xlabel('Number of Bathrooms', fontsize=12)\n",
    "plt.ylabel('Percent Increase in House Price', fontsize=12)\n",
    "plt.ylim(1, 7)\n",
    "plt.xlim(1, 7)\n",
    "sns.lineplot(bath_num, increase)\n",
    "\n",
    "plt.subplots_adjust(top=0.88) \n",
    "plt.savefig(\"images/increasebybathroom.png\", bbox_inches='tight')\n",
    "plt.show()"
   ]
  },
  {
   "cell_type": "markdown",
   "metadata": {},
   "source": [
    "The largest percent increases in house price comes in the jump from 1 to 2 to 3 bathrooms with further bathrooms having less of an effect. "
   ]
  },
  {
   "cell_type": "code",
   "execution_count": 51,
   "metadata": {
    "scrolled": false
   },
   "outputs": [
    {
     "data": {
      "image/png": "[encoded data removed]",
      "text/plain": [
       "<Figure size 720x288 with 2 Axes>"
      ]
     },
     "metadata": {
      "needs_background": "light"
     },
     "output_type": "display_data"
    }
   ],
   "source": [
    "# Plot how an increase in square feet affects house price.\n",
    "\n",
    "fig, (ax1, ax2) = plt.subplots(1, 2, figsize=(10, 4))\n",
    "# List to contain percent increase in price\n",
    "increase_abv = []\n",
    "for num in range(500, 8000, 250):\n",
    "    # Calculate percent increase in adding a half bath.\n",
    "    pct_increase = (250 / num) + 1\n",
    "    # Use the bathroom coef to calculate the corresponding increase in price\n",
    "    transform = (pct_increase**0.51 - 1)*100\n",
    "    increase_abv.append(transform)\n",
    "    \n",
    "increase_bsmt = []    \n",
    "for num in range(250, 4000, 250):\n",
    "    # Calculate percent increase in adding a half bath.\n",
    "    pct_increase = (250 / num) + 1\n",
    "    # Use the bathroom coef to calculate the corresponding increase in price\n",
    "    transform = (pct_increase**0.023 - 1)*100\n",
    "    increase_bsmt.append(transform)\n",
    "    \n",
    "fig.suptitle('Percent Increase in House Price with Increasing House Size', fontsize=20)\n",
    "fig.tight_layout()\n",
    "fig.subplots_adjust(top=0.83)\n",
    "\n",
    "ax1.set_title('Above Ground', fontsize=16)\n",
    "ax1.set_xlabel('Square Feet', fontsize=14)\n",
    "ax1.set_ylabel('Percent Increase in House Price', fontsize=14)\n",
    "ax1.set_xlim(0, 8000)\n",
    "ax1.plot(range(500, 8000, 250), increase_abv)\n",
    "\n",
    "ax2.set_title('Basement', fontsize=16)\n",
    "ax2.set_xlabel('Square Feet', fontsize=14)\n",
    "ax2.set_ylabel\n",
    "#ax1.set_xlim(0, 8000)\n",
    "ax2.plot(range(250, 4000, 250), increase_bsmt)\n",
    "\n",
    "plt.savefig(\"images/increasebysqft.png\", bbox_inches='tight')\n",
    "plt.show()"
   ]
  },
  {
   "cell_type": "markdown",
   "metadata": {},
   "source": [
    "The above ground square footage has a much larger impact on house price than adding space in the basement. House price increases dramatically in going from 500 to 2500 square feet above ground, then levels off a bit. "
   ]
  },
  {
   "cell_type": "markdown",
   "metadata": {},
   "source": [
    "## Conclusions\n",
    "\n",
    "This model can account for 85% of the variability in house prices in King County. I think the model is a decent start, but could be improved by doing more to work out the best transformation method for each feature. Additionally, I would like to try different scaling methods. \n",
    "\n",
    "Zipcode has an outsized effect on the model, so I would like to explore other aspects of zipcode to see what might contribute to the effect. Perhaps building a model for each zipcode would be a way to keep the zipcode from having too much influence on the model.\n",
    "\n",
    "Seattle's population growth and corresponding demand for housing has lead to a change in zoning laws that allow \"Accesory Dwelling Units\" to be built on lots already having a main house. It would be interesting to see how these additional units will impact the value of homes with and without them. It seems like additional space would increase value, but perhaps the exclusivity factor of having a private yard will also play a role in pricing. \n",
    "\n",
    "The next step for this model is to build out an application that will allow buyers to use sliders to change house features- location, bathrooms, square footage, etc- and see the effect those changes have on house price.\n",
    "\n",
    "This analysis would benefit from more recent data and as well as the previously mentioned more fine tuning of the data. Overall, it does a decent job of predicting house prices in King County in the years 2014 & 2015.\n",
    "\n"
   ]
  },
  {
   "cell_type": "code",
   "execution_count": null,
   "metadata": {},
   "outputs": [],
   "source": []
  }
 ],
 "metadata": {
  "kernelspec": {
   "display_name": "learn-env",
   "language": "python",
   "name": "learn-env"
  },
  "language_info": {
   "codemirror_mode": {
    "name": "ipython",
    "version": 3
   },
   "file_extension": ".py",
   "mimetype": "text/x-python",
   "name": "python",
   "nbconvert_exporter": "python",
   "pygments_lexer": "ipython3",
   "version": "3.6.9"
  }
 },
 "nbformat": 4,
 "nbformat_minor": 4
}

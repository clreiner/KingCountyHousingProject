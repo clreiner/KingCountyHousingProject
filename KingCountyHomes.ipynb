{
 "cells": [
  {
   "cell_type": "markdown",
   "metadata": {},
   "source": [
    "![Image by <a href=\"https://pixabay.com/users/u_f8awlsnb-12642510/?utm_source=link-attribution&amp;utm_medium=referral&amp;utm_campaign=image&amp;utm_content=5160616\">u_f8awlsnb</a> from <a href=\"https://pixabay.com/?utm_source=link-attribution&amp;utm_medium=referral&amp;utm_campaign=image&amp;utm_content=5160616\">Pixabay</a>](images/row-of-houses.jpg)\n",
    "\n",
    "# King County Housing Model"
   ]
  },
  {
   "cell_type": "markdown",
   "metadata": {},
   "source": [
    "## Overview\n",
    "\n",
    "A one-paragraph overview of the project, including the business problem, data, methods, results and recommendations.\n",
    "\n",
    "![Editorial cartoon by David Horsey from Seattle Times](images/Dog-House.jpg)\n",
    "\n",
    "\n",
    "## Business Problem\n",
    "\n",
    "Summary of the business problem you are trying to solve, and the data questions that you plan to answer to solve them.\n",
    "\n",
    "Questions to consider:\n",
    "\n",
    "- Who are your stakeholders?\n",
    "- What are your stakeholders' pain points related to this project?\n",
    "- Why are your predictions important from a business perspective?"
   ]
  },
  {
   "cell_type": "markdown",
   "metadata": {},
   "source": [
    "## Data Understanding\n",
    "\n",
    "Describe the data being used for this project.\n",
    "\n",
    "Questions to consider:\n",
    "\n",
    "- Where did the data come from, and how do they relate to the data analysis questions?\n",
    "- What do the data represent? Who is in the sample and what variables are included?\n",
    "- What is the target variable?\n",
    "- What are the properties of the variables you intend to use?"
   ]
  },
  {
   "cell_type": "markdown",
   "metadata": {},
   "source": [
    "The data for this project represent home sales in King County, Washington in 2014 & 2015. The dataset includes basic house information such as the number of bedrooms & bathrooms, total area of the living space (divided into basement and above ground) & the lot, and year it was built, sales information like price & number of times it was viewed, and neighborhood information, like zipcode and information about the house and lot size of the 15 nearest neighbors."
   ]
  },
  {
   "cell_type": "markdown",
   "metadata": {},
   "source": [
    "The target variable will be the sales price."
   ]
  },
  {
   "cell_type": "code",
   "execution_count": 1,
   "metadata": {},
   "outputs": [],
   "source": [
    "import pandas as pd\n",
    "import numpy as np\n",
    "import matplotlib.pyplot as plt\n",
    "import seaborn as sns\n",
    "import utils as ut\n",
    "\n",
    "from sklearn.model_selection import train_test_split\n",
    "from sklearn.linear_model import LinearRegression, Ridge\n",
    "from sklearn.metrics import r2_score, mean_absolute_error, mean_squared_error\n",
    "from sklearn.feature_selection import RFE\n",
    "from sklearn.preprocessing import RobustScaler\n",
    "\n",
    "from yellowbrick.regressor import ResidualsPlot\n",
    "\n",
    "import statsmodels.api as sm\n",
    "\n",
    "pd.set_option('display.float_format', lambda x: '%.2f'%x)\n",
    "%matplotlib inline"
   ]
  },
  {
   "cell_type": "code",
   "execution_count": 2,
   "metadata": {
    "scrolled": true
   },
   "outputs": [
    {
     "data": {
      "text/html": [
       "<div>\n",
       "<style scoped>\n",
       "    .dataframe tbody tr th:only-of-type {\n",
       "        vertical-align: middle;\n",
       "    }\n",
       "\n",
       "    .dataframe tbody tr th {\n",
       "        vertical-align: top;\n",
       "    }\n",
       "\n",
       "    .dataframe thead th {\n",
       "        text-align: right;\n",
       "    }\n",
       "</style>\n",
       "<table border=\"1\" class=\"dataframe\">\n",
       "  <thead>\n",
       "    <tr style=\"text-align: right;\">\n",
       "      <th></th>\n",
       "      <th>id</th>\n",
       "      <th>date</th>\n",
       "      <th>price</th>\n",
       "      <th>bedrooms</th>\n",
       "      <th>bathrooms</th>\n",
       "      <th>sqft_living</th>\n",
       "      <th>sqft_lot</th>\n",
       "      <th>floors</th>\n",
       "      <th>waterfront</th>\n",
       "      <th>view</th>\n",
       "      <th>...</th>\n",
       "      <th>grade</th>\n",
       "      <th>sqft_above</th>\n",
       "      <th>sqft_basement</th>\n",
       "      <th>yr_built</th>\n",
       "      <th>yr_renovated</th>\n",
       "      <th>zipcode</th>\n",
       "      <th>lat</th>\n",
       "      <th>long</th>\n",
       "      <th>sqft_living15</th>\n",
       "      <th>sqft_lot15</th>\n",
       "    </tr>\n",
       "  </thead>\n",
       "  <tbody>\n",
       "    <tr>\n",
       "      <th>0</th>\n",
       "      <td>7129300520</td>\n",
       "      <td>10/13/2014</td>\n",
       "      <td>221900.00</td>\n",
       "      <td>3</td>\n",
       "      <td>1.00</td>\n",
       "      <td>1180</td>\n",
       "      <td>5650</td>\n",
       "      <td>1.00</td>\n",
       "      <td>nan</td>\n",
       "      <td>0.00</td>\n",
       "      <td>...</td>\n",
       "      <td>7</td>\n",
       "      <td>1180</td>\n",
       "      <td>0.0</td>\n",
       "      <td>1955</td>\n",
       "      <td>0.00</td>\n",
       "      <td>98178</td>\n",
       "      <td>47.51</td>\n",
       "      <td>-122.26</td>\n",
       "      <td>1340</td>\n",
       "      <td>5650</td>\n",
       "    </tr>\n",
       "    <tr>\n",
       "      <th>1</th>\n",
       "      <td>6414100192</td>\n",
       "      <td>12/9/2014</td>\n",
       "      <td>538000.00</td>\n",
       "      <td>3</td>\n",
       "      <td>2.25</td>\n",
       "      <td>2570</td>\n",
       "      <td>7242</td>\n",
       "      <td>2.00</td>\n",
       "      <td>0.00</td>\n",
       "      <td>0.00</td>\n",
       "      <td>...</td>\n",
       "      <td>7</td>\n",
       "      <td>2170</td>\n",
       "      <td>400.0</td>\n",
       "      <td>1951</td>\n",
       "      <td>1991.00</td>\n",
       "      <td>98125</td>\n",
       "      <td>47.72</td>\n",
       "      <td>-122.32</td>\n",
       "      <td>1690</td>\n",
       "      <td>7639</td>\n",
       "    </tr>\n",
       "    <tr>\n",
       "      <th>2</th>\n",
       "      <td>5631500400</td>\n",
       "      <td>2/25/2015</td>\n",
       "      <td>180000.00</td>\n",
       "      <td>2</td>\n",
       "      <td>1.00</td>\n",
       "      <td>770</td>\n",
       "      <td>10000</td>\n",
       "      <td>1.00</td>\n",
       "      <td>0.00</td>\n",
       "      <td>0.00</td>\n",
       "      <td>...</td>\n",
       "      <td>6</td>\n",
       "      <td>770</td>\n",
       "      <td>0.0</td>\n",
       "      <td>1933</td>\n",
       "      <td>nan</td>\n",
       "      <td>98028</td>\n",
       "      <td>47.74</td>\n",
       "      <td>-122.23</td>\n",
       "      <td>2720</td>\n",
       "      <td>8062</td>\n",
       "    </tr>\n",
       "    <tr>\n",
       "      <th>3</th>\n",
       "      <td>2487200875</td>\n",
       "      <td>12/9/2014</td>\n",
       "      <td>604000.00</td>\n",
       "      <td>4</td>\n",
       "      <td>3.00</td>\n",
       "      <td>1960</td>\n",
       "      <td>5000</td>\n",
       "      <td>1.00</td>\n",
       "      <td>0.00</td>\n",
       "      <td>0.00</td>\n",
       "      <td>...</td>\n",
       "      <td>7</td>\n",
       "      <td>1050</td>\n",
       "      <td>910.0</td>\n",
       "      <td>1965</td>\n",
       "      <td>0.00</td>\n",
       "      <td>98136</td>\n",
       "      <td>47.52</td>\n",
       "      <td>-122.39</td>\n",
       "      <td>1360</td>\n",
       "      <td>5000</td>\n",
       "    </tr>\n",
       "    <tr>\n",
       "      <th>4</th>\n",
       "      <td>1954400510</td>\n",
       "      <td>2/18/2015</td>\n",
       "      <td>510000.00</td>\n",
       "      <td>3</td>\n",
       "      <td>2.00</td>\n",
       "      <td>1680</td>\n",
       "      <td>8080</td>\n",
       "      <td>1.00</td>\n",
       "      <td>0.00</td>\n",
       "      <td>0.00</td>\n",
       "      <td>...</td>\n",
       "      <td>8</td>\n",
       "      <td>1680</td>\n",
       "      <td>0.0</td>\n",
       "      <td>1987</td>\n",
       "      <td>0.00</td>\n",
       "      <td>98074</td>\n",
       "      <td>47.62</td>\n",
       "      <td>-122.05</td>\n",
       "      <td>1800</td>\n",
       "      <td>7503</td>\n",
       "    </tr>\n",
       "  </tbody>\n",
       "</table>\n",
       "<p>5 rows × 21 columns</p>\n",
       "</div>"
      ],
      "text/plain": [
       "           id        date     price  bedrooms  bathrooms  sqft_living  \\\n",
       "0  7129300520  10/13/2014 221900.00         3       1.00         1180   \n",
       "1  6414100192   12/9/2014 538000.00         3       2.25         2570   \n",
       "2  5631500400   2/25/2015 180000.00         2       1.00          770   \n",
       "3  2487200875   12/9/2014 604000.00         4       3.00         1960   \n",
       "4  1954400510   2/18/2015 510000.00         3       2.00         1680   \n",
       "\n",
       "   sqft_lot  floors  waterfront  view  ...  grade  sqft_above  sqft_basement  \\\n",
       "0      5650    1.00         nan  0.00  ...      7        1180            0.0   \n",
       "1      7242    2.00        0.00  0.00  ...      7        2170          400.0   \n",
       "2     10000    1.00        0.00  0.00  ...      6         770            0.0   \n",
       "3      5000    1.00        0.00  0.00  ...      7        1050          910.0   \n",
       "4      8080    1.00        0.00  0.00  ...      8        1680            0.0   \n",
       "\n",
       "  yr_built  yr_renovated  zipcode   lat    long  sqft_living15  sqft_lot15  \n",
       "0     1955          0.00    98178 47.51 -122.26           1340        5650  \n",
       "1     1951       1991.00    98125 47.72 -122.32           1690        7639  \n",
       "2     1933           nan    98028 47.74 -122.23           2720        8062  \n",
       "3     1965          0.00    98136 47.52 -122.39           1360        5000  \n",
       "4     1987          0.00    98074 47.62 -122.05           1800        7503  \n",
       "\n",
       "[5 rows x 21 columns]"
      ]
     },
     "execution_count": 2,
     "metadata": {},
     "output_type": "execute_result"
    }
   ],
   "source": [
    "data = pd.read_csv('data/kc_house_data.csv')\n",
    "data.head()"
   ]
  },
  {
   "cell_type": "code",
   "execution_count": 3,
   "metadata": {},
   "outputs": [
    {
     "data": {
      "text/html": [
       "<div>\n",
       "<style scoped>\n",
       "    .dataframe tbody tr th:only-of-type {\n",
       "        vertical-align: middle;\n",
       "    }\n",
       "\n",
       "    .dataframe tbody tr th {\n",
       "        vertical-align: top;\n",
       "    }\n",
       "\n",
       "    .dataframe thead th {\n",
       "        text-align: right;\n",
       "    }\n",
       "</style>\n",
       "<table border=\"1\" class=\"dataframe\">\n",
       "  <thead>\n",
       "    <tr style=\"text-align: right;\">\n",
       "      <th></th>\n",
       "      <th>id</th>\n",
       "      <th>price</th>\n",
       "      <th>bedrooms</th>\n",
       "      <th>bathrooms</th>\n",
       "      <th>sqft_living</th>\n",
       "      <th>sqft_lot</th>\n",
       "      <th>floors</th>\n",
       "      <th>waterfront</th>\n",
       "      <th>view</th>\n",
       "      <th>condition</th>\n",
       "      <th>grade</th>\n",
       "      <th>sqft_above</th>\n",
       "      <th>yr_built</th>\n",
       "      <th>yr_renovated</th>\n",
       "      <th>zipcode</th>\n",
       "      <th>lat</th>\n",
       "      <th>long</th>\n",
       "      <th>sqft_living15</th>\n",
       "      <th>sqft_lot15</th>\n",
       "    </tr>\n",
       "  </thead>\n",
       "  <tbody>\n",
       "    <tr>\n",
       "      <th>count</th>\n",
       "      <td>21597.00</td>\n",
       "      <td>21597.00</td>\n",
       "      <td>21597.00</td>\n",
       "      <td>21597.00</td>\n",
       "      <td>21597.00</td>\n",
       "      <td>21597.00</td>\n",
       "      <td>21597.00</td>\n",
       "      <td>19221.00</td>\n",
       "      <td>21534.00</td>\n",
       "      <td>21597.00</td>\n",
       "      <td>21597.00</td>\n",
       "      <td>21597.00</td>\n",
       "      <td>21597.00</td>\n",
       "      <td>17755.00</td>\n",
       "      <td>21597.00</td>\n",
       "      <td>21597.00</td>\n",
       "      <td>21597.00</td>\n",
       "      <td>21597.00</td>\n",
       "      <td>21597.00</td>\n",
       "    </tr>\n",
       "    <tr>\n",
       "      <th>mean</th>\n",
       "      <td>4580474287.77</td>\n",
       "      <td>540296.57</td>\n",
       "      <td>3.37</td>\n",
       "      <td>2.12</td>\n",
       "      <td>2080.32</td>\n",
       "      <td>15099.41</td>\n",
       "      <td>1.49</td>\n",
       "      <td>0.01</td>\n",
       "      <td>0.23</td>\n",
       "      <td>3.41</td>\n",
       "      <td>7.66</td>\n",
       "      <td>1788.60</td>\n",
       "      <td>1971.00</td>\n",
       "      <td>83.64</td>\n",
       "      <td>98077.95</td>\n",
       "      <td>47.56</td>\n",
       "      <td>-122.21</td>\n",
       "      <td>1986.62</td>\n",
       "      <td>12758.28</td>\n",
       "    </tr>\n",
       "    <tr>\n",
       "      <th>std</th>\n",
       "      <td>2876735715.75</td>\n",
       "      <td>367368.14</td>\n",
       "      <td>0.93</td>\n",
       "      <td>0.77</td>\n",
       "      <td>918.11</td>\n",
       "      <td>41412.64</td>\n",
       "      <td>0.54</td>\n",
       "      <td>0.09</td>\n",
       "      <td>0.77</td>\n",
       "      <td>0.65</td>\n",
       "      <td>1.17</td>\n",
       "      <td>827.76</td>\n",
       "      <td>29.38</td>\n",
       "      <td>399.95</td>\n",
       "      <td>53.51</td>\n",
       "      <td>0.14</td>\n",
       "      <td>0.14</td>\n",
       "      <td>685.23</td>\n",
       "      <td>27274.44</td>\n",
       "    </tr>\n",
       "    <tr>\n",
       "      <th>min</th>\n",
       "      <td>1000102.00</td>\n",
       "      <td>78000.00</td>\n",
       "      <td>1.00</td>\n",
       "      <td>0.50</td>\n",
       "      <td>370.00</td>\n",
       "      <td>520.00</td>\n",
       "      <td>1.00</td>\n",
       "      <td>0.00</td>\n",
       "      <td>0.00</td>\n",
       "      <td>1.00</td>\n",
       "      <td>3.00</td>\n",
       "      <td>370.00</td>\n",
       "      <td>1900.00</td>\n",
       "      <td>0.00</td>\n",
       "      <td>98001.00</td>\n",
       "      <td>47.16</td>\n",
       "      <td>-122.52</td>\n",
       "      <td>399.00</td>\n",
       "      <td>651.00</td>\n",
       "    </tr>\n",
       "    <tr>\n",
       "      <th>25%</th>\n",
       "      <td>2123049175.00</td>\n",
       "      <td>322000.00</td>\n",
       "      <td>3.00</td>\n",
       "      <td>1.75</td>\n",
       "      <td>1430.00</td>\n",
       "      <td>5040.00</td>\n",
       "      <td>1.00</td>\n",
       "      <td>0.00</td>\n",
       "      <td>0.00</td>\n",
       "      <td>3.00</td>\n",
       "      <td>7.00</td>\n",
       "      <td>1190.00</td>\n",
       "      <td>1951.00</td>\n",
       "      <td>0.00</td>\n",
       "      <td>98033.00</td>\n",
       "      <td>47.47</td>\n",
       "      <td>-122.33</td>\n",
       "      <td>1490.00</td>\n",
       "      <td>5100.00</td>\n",
       "    </tr>\n",
       "    <tr>\n",
       "      <th>50%</th>\n",
       "      <td>3904930410.00</td>\n",
       "      <td>450000.00</td>\n",
       "      <td>3.00</td>\n",
       "      <td>2.25</td>\n",
       "      <td>1910.00</td>\n",
       "      <td>7618.00</td>\n",
       "      <td>1.50</td>\n",
       "      <td>0.00</td>\n",
       "      <td>0.00</td>\n",
       "      <td>3.00</td>\n",
       "      <td>7.00</td>\n",
       "      <td>1560.00</td>\n",
       "      <td>1975.00</td>\n",
       "      <td>0.00</td>\n",
       "      <td>98065.00</td>\n",
       "      <td>47.57</td>\n",
       "      <td>-122.23</td>\n",
       "      <td>1840.00</td>\n",
       "      <td>7620.00</td>\n",
       "    </tr>\n",
       "    <tr>\n",
       "      <th>75%</th>\n",
       "      <td>7308900490.00</td>\n",
       "      <td>645000.00</td>\n",
       "      <td>4.00</td>\n",
       "      <td>2.50</td>\n",
       "      <td>2550.00</td>\n",
       "      <td>10685.00</td>\n",
       "      <td>2.00</td>\n",
       "      <td>0.00</td>\n",
       "      <td>0.00</td>\n",
       "      <td>4.00</td>\n",
       "      <td>8.00</td>\n",
       "      <td>2210.00</td>\n",
       "      <td>1997.00</td>\n",
       "      <td>0.00</td>\n",
       "      <td>98118.00</td>\n",
       "      <td>47.68</td>\n",
       "      <td>-122.12</td>\n",
       "      <td>2360.00</td>\n",
       "      <td>10083.00</td>\n",
       "    </tr>\n",
       "    <tr>\n",
       "      <th>max</th>\n",
       "      <td>9900000190.00</td>\n",
       "      <td>7700000.00</td>\n",
       "      <td>33.00</td>\n",
       "      <td>8.00</td>\n",
       "      <td>13540.00</td>\n",
       "      <td>1651359.00</td>\n",
       "      <td>3.50</td>\n",
       "      <td>1.00</td>\n",
       "      <td>4.00</td>\n",
       "      <td>5.00</td>\n",
       "      <td>13.00</td>\n",
       "      <td>9410.00</td>\n",
       "      <td>2015.00</td>\n",
       "      <td>2015.00</td>\n",
       "      <td>98199.00</td>\n",
       "      <td>47.78</td>\n",
       "      <td>-121.31</td>\n",
       "      <td>6210.00</td>\n",
       "      <td>871200.00</td>\n",
       "    </tr>\n",
       "  </tbody>\n",
       "</table>\n",
       "</div>"
      ],
      "text/plain": [
       "                 id      price  bedrooms  bathrooms  sqft_living   sqft_lot  \\\n",
       "count      21597.00   21597.00  21597.00   21597.00     21597.00   21597.00   \n",
       "mean  4580474287.77  540296.57      3.37       2.12      2080.32   15099.41   \n",
       "std   2876735715.75  367368.14      0.93       0.77       918.11   41412.64   \n",
       "min      1000102.00   78000.00      1.00       0.50       370.00     520.00   \n",
       "25%   2123049175.00  322000.00      3.00       1.75      1430.00    5040.00   \n",
       "50%   3904930410.00  450000.00      3.00       2.25      1910.00    7618.00   \n",
       "75%   7308900490.00  645000.00      4.00       2.50      2550.00   10685.00   \n",
       "max   9900000190.00 7700000.00     33.00       8.00     13540.00 1651359.00   \n",
       "\n",
       "        floors  waterfront     view  condition    grade  sqft_above  yr_built  \\\n",
       "count 21597.00    19221.00 21534.00   21597.00 21597.00    21597.00  21597.00   \n",
       "mean      1.49        0.01     0.23       3.41     7.66     1788.60   1971.00   \n",
       "std       0.54        0.09     0.77       0.65     1.17      827.76     29.38   \n",
       "min       1.00        0.00     0.00       1.00     3.00      370.00   1900.00   \n",
       "25%       1.00        0.00     0.00       3.00     7.00     1190.00   1951.00   \n",
       "50%       1.50        0.00     0.00       3.00     7.00     1560.00   1975.00   \n",
       "75%       2.00        0.00     0.00       4.00     8.00     2210.00   1997.00   \n",
       "max       3.50        1.00     4.00       5.00    13.00     9410.00   2015.00   \n",
       "\n",
       "       yr_renovated  zipcode      lat     long  sqft_living15  sqft_lot15  \n",
       "count      17755.00 21597.00 21597.00 21597.00       21597.00    21597.00  \n",
       "mean          83.64 98077.95    47.56  -122.21        1986.62    12758.28  \n",
       "std          399.95    53.51     0.14     0.14         685.23    27274.44  \n",
       "min            0.00 98001.00    47.16  -122.52         399.00      651.00  \n",
       "25%            0.00 98033.00    47.47  -122.33        1490.00     5100.00  \n",
       "50%            0.00 98065.00    47.57  -122.23        1840.00     7620.00  \n",
       "75%            0.00 98118.00    47.68  -122.12        2360.00    10083.00  \n",
       "max         2015.00 98199.00    47.78  -121.31        6210.00   871200.00  "
      ]
     },
     "execution_count": 3,
     "metadata": {},
     "output_type": "execute_result"
    }
   ],
   "source": [
    "data.describe()"
   ]
  },
  {
   "cell_type": "code",
   "execution_count": 4,
   "metadata": {},
   "outputs": [
    {
     "name": "stdout",
     "output_type": "stream",
     "text": [
      "<class 'pandas.core.frame.DataFrame'>\n",
      "RangeIndex: 21597 entries, 0 to 21596\n",
      "Data columns (total 21 columns):\n",
      "id               21597 non-null int64\n",
      "date             21597 non-null object\n",
      "price            21597 non-null float64\n",
      "bedrooms         21597 non-null int64\n",
      "bathrooms        21597 non-null float64\n",
      "sqft_living      21597 non-null int64\n",
      "sqft_lot         21597 non-null int64\n",
      "floors           21597 non-null float64\n",
      "waterfront       19221 non-null float64\n",
      "view             21534 non-null float64\n",
      "condition        21597 non-null int64\n",
      "grade            21597 non-null int64\n",
      "sqft_above       21597 non-null int64\n",
      "sqft_basement    21597 non-null object\n",
      "yr_built         21597 non-null int64\n",
      "yr_renovated     17755 non-null float64\n",
      "zipcode          21597 non-null int64\n",
      "lat              21597 non-null float64\n",
      "long             21597 non-null float64\n",
      "sqft_living15    21597 non-null int64\n",
      "sqft_lot15       21597 non-null int64\n",
      "dtypes: float64(8), int64(11), object(2)\n",
      "memory usage: 3.5+ MB\n"
     ]
    }
   ],
   "source": [
    "data.info()"
   ]
  },
  {
   "cell_type": "markdown",
   "metadata": {},
   "source": [
    "## Data Preparation\n",
    "\n",
    "Describe and justify the process for preparing the data for analysis.\n",
    "\n",
    "Questions to consider:\n",
    "\n",
    "- Were there variables you dropped or created?\n",
    "- How did you address missing values or outliers?\n",
    "- Why are these choices appropriate given the data and the business problem?"
   ]
  },
  {
   "cell_type": "markdown",
   "metadata": {},
   "source": [
    "'sqft_basement' is currently an object category that is mostly numbers, but some '?'. To look at this feature, I first change the ?'s to null values, then change the datatype to float. "
   ]
  },
  {
   "cell_type": "code",
   "execution_count": 5,
   "metadata": {
    "scrolled": true
   },
   "outputs": [
    {
     "name": "stdout",
     "output_type": "stream",
     "text": [
      "454\n",
      "21143\n"
     ]
    }
   ],
   "source": [
    "data.loc[data['sqft_basement'] == '?', 'sqft_basement'] = np.nan\n",
    "data.sqft_basement = data.sqft_basement.astype(float)\n",
    "# to figure out what the null values should actually be, look at how many null values and how many rows\n",
    "#have the total living space (sqft_living) equal to the sum of the basement(sqft_basement) and \n",
    "#above ground (sqft_above) living space.\n",
    "print(data['sqft_basement'].isna().sum())\n",
    "print((data['sqft_living'] == data['sqft_basement'] + data['sqft_above']).sum())"
   ]
  },
  {
   "cell_type": "markdown",
   "metadata": {},
   "source": [
    "The sum of NaNs (454) and those that sqft_living = sqft_basement + sqft_above (21143) equals 21597- the total number of rows. This indicates that the NaNs are probably not zeros, so I replace null sqft_basement values with the total sqft_living minus sqft_above. Then confirm that the sqft_living is equal to sqft_basement plus sqft_above for all rows."
   ]
  },
  {
   "cell_type": "code",
   "execution_count": 6,
   "metadata": {},
   "outputs": [
    {
     "data": {
      "text/plain": [
       "21597"
      ]
     },
     "execution_count": 6,
     "metadata": {},
     "output_type": "execute_result"
    }
   ],
   "source": [
    "data['sqft_basement'] = data['sqft_basement'].fillna(data['sqft_living'] - data['sqft_above'])\n",
    "(data['sqft_living'] == data['sqft_basement'] + data['sqft_above']).sum()"
   ]
  },
  {
   "cell_type": "code",
   "execution_count": 7,
   "metadata": {},
   "outputs": [],
   "source": [
    "#'Waterfront' is a categorical column, so change '0' to 'No', '1' to 'Yes', and 'nan' to 'unknown'\n",
    "data['waterfront'] = data.loc[data['waterfront']==0, 'waterfront']= 'No'\n",
    "data['waterfront'] = data.loc[data['waterfront']==1, 'waterfront']= 'Yes'\n",
    "data['waterfront'] = data['waterfront'].fillna('Unknown')"
   ]
  },
  {
   "cell_type": "code",
   "execution_count": 8,
   "metadata": {},
   "outputs": [
    {
     "name": "stderr",
     "output_type": "stream",
     "text": [
      "/Users/cindyreiner/opt/anaconda3/envs/learn-env/lib/python3.6/site-packages/pandas/core/ops/__init__.py:1115: FutureWarning: elementwise comparison failed; returning scalar instead, but in the future will perform elementwise comparison\n",
      "  result = method(y)\n"
     ]
    }
   ],
   "source": [
    "#yr_renovated has a high number of '0's, which seems like the same as a nan, so change '0' to nan\n",
    "data.loc[data['yr_renovated']== 0.0, 'yr_renovated'] = np.nan\n",
    "#now only 744 rows with yr_renovated values, add new column as categorical; \n",
    "#recently renovated(last 10 years) (RR), renovated (R), not renovated (NR)\n",
    "data['renovated'] = np.where(data['yr_renovated']=='NaN', 'NR',\n",
    "                             np.where(data['yr_renovated']<2005, 'R', 'RR'))"
   ]
  },
  {
   "cell_type": "code",
   "execution_count": 9,
   "metadata": {},
   "outputs": [
    {
     "name": "stdout",
     "output_type": "stream",
     "text": [
      "<class 'pandas.core.frame.DataFrame'>\n",
      "RangeIndex: 21597 entries, 0 to 21596\n",
      "Data columns (total 22 columns):\n",
      "id               21597 non-null int64\n",
      "date             21597 non-null object\n",
      "price            21597 non-null float64\n",
      "bedrooms         21597 non-null int64\n",
      "bathrooms        21597 non-null float64\n",
      "sqft_living      21597 non-null int64\n",
      "sqft_lot         21597 non-null int64\n",
      "floors           21597 non-null float64\n",
      "waterfront       21597 non-null object\n",
      "view             21534 non-null float64\n",
      "condition        21597 non-null int64\n",
      "grade            21597 non-null int64\n",
      "sqft_above       21597 non-null int64\n",
      "sqft_basement    21597 non-null float64\n",
      "yr_built         21597 non-null int64\n",
      "yr_renovated     744 non-null float64\n",
      "zipcode          21597 non-null int64\n",
      "lat              21597 non-null float64\n",
      "long             21597 non-null float64\n",
      "sqft_living15    21597 non-null int64\n",
      "sqft_lot15       21597 non-null int64\n",
      "renovated        21597 non-null object\n",
      "dtypes: float64(8), int64(11), object(3)\n",
      "memory usage: 3.6+ MB\n"
     ]
    }
   ],
   "source": [
    "data.info()"
   ]
  },
  {
   "cell_type": "code",
   "execution_count": 10,
   "metadata": {},
   "outputs": [],
   "source": [
    "#look for multicolinearity in numberical features\n",
    "numerical = ['bedrooms', 'bathrooms', 'sqft_living', 'sqft_lot', 'floors', \n",
    "              'view', 'condition', 'grade', 'sqft_above', 'sqft_basement', 'yr_built', 'yr_renovated', \n",
    "              'lat', 'long', 'zipcode', 'sqft_living15', 'sqft_lot15']"
   ]
  },
  {
   "cell_type": "code",
   "execution_count": 11,
   "metadata": {
    "scrolled": true
   },
   "outputs": [
    {
     "data": {
      "image/png": "[encoded data removed]",
      "text/plain": [
       "<Figure size 432x288 with 2 Axes>"
      ]
     },
     "metadata": {
      "needs_background": "light"
     },
     "output_type": "display_data"
    }
   ],
   "source": [
    "data_num = data[numerical]\n",
    "sns.heatmap(data_num.corr(), center=0);"
   ]
  },
  {
   "cell_type": "code",
   "execution_count": 12,
   "metadata": {
    "scrolled": true
   },
   "outputs": [
    {
     "data": {
      "text/html": [
       "<div>\n",
       "<style scoped>\n",
       "    .dataframe tbody tr th:only-of-type {\n",
       "        vertical-align: middle;\n",
       "    }\n",
       "\n",
       "    .dataframe tbody tr th {\n",
       "        vertical-align: top;\n",
       "    }\n",
       "\n",
       "    .dataframe thead th {\n",
       "        text-align: right;\n",
       "    }\n",
       "</style>\n",
       "<table border=\"1\" class=\"dataframe\">\n",
       "  <thead>\n",
       "    <tr style=\"text-align: right;\">\n",
       "      <th></th>\n",
       "      <th>feature1</th>\n",
       "      <th>feature2</th>\n",
       "      <th>corr</th>\n",
       "    </tr>\n",
       "  </thead>\n",
       "  <tbody>\n",
       "    <tr>\n",
       "      <th>19</th>\n",
       "      <td>bathrooms</td>\n",
       "      <td>sqft_living</td>\n",
       "      <td>0.76</td>\n",
       "    </tr>\n",
       "    <tr>\n",
       "      <th>35</th>\n",
       "      <td>sqft_living</td>\n",
       "      <td>bathrooms</td>\n",
       "      <td>0.76</td>\n",
       "    </tr>\n",
       "    <tr>\n",
       "      <th>41</th>\n",
       "      <td>sqft_living</td>\n",
       "      <td>grade</td>\n",
       "      <td>0.76</td>\n",
       "    </tr>\n",
       "    <tr>\n",
       "      <th>42</th>\n",
       "      <td>sqft_living</td>\n",
       "      <td>sqft_above</td>\n",
       "      <td>0.88</td>\n",
       "    </tr>\n",
       "    <tr>\n",
       "      <th>49</th>\n",
       "      <td>sqft_living</td>\n",
       "      <td>sqft_living15</td>\n",
       "      <td>0.76</td>\n",
       "    </tr>\n",
       "    <tr>\n",
       "      <th>121</th>\n",
       "      <td>grade</td>\n",
       "      <td>sqft_living</td>\n",
       "      <td>0.76</td>\n",
       "    </tr>\n",
       "    <tr>\n",
       "      <th>127</th>\n",
       "      <td>grade</td>\n",
       "      <td>sqft_above</td>\n",
       "      <td>0.76</td>\n",
       "    </tr>\n",
       "    <tr>\n",
       "      <th>138</th>\n",
       "      <td>sqft_above</td>\n",
       "      <td>sqft_living</td>\n",
       "      <td>0.88</td>\n",
       "    </tr>\n",
       "    <tr>\n",
       "      <th>143</th>\n",
       "      <td>sqft_above</td>\n",
       "      <td>grade</td>\n",
       "      <td>0.76</td>\n",
       "    </tr>\n",
       "    <tr>\n",
       "      <th>257</th>\n",
       "      <td>sqft_living15</td>\n",
       "      <td>sqft_living</td>\n",
       "      <td>0.76</td>\n",
       "    </tr>\n",
       "  </tbody>\n",
       "</table>\n",
       "</div>"
      ],
      "text/plain": [
       "          feature1       feature2  corr\n",
       "19       bathrooms    sqft_living  0.76\n",
       "35     sqft_living      bathrooms  0.76\n",
       "41     sqft_living          grade  0.76\n",
       "42     sqft_living     sqft_above  0.88\n",
       "49     sqft_living  sqft_living15  0.76\n",
       "121          grade    sqft_living  0.76\n",
       "127          grade     sqft_above  0.76\n",
       "138     sqft_above    sqft_living  0.88\n",
       "143     sqft_above          grade  0.76\n",
       "257  sqft_living15    sqft_living  0.76"
      ]
     },
     "execution_count": 12,
     "metadata": {},
     "output_type": "execute_result"
    }
   ],
   "source": [
    "#create a df that will list the highly correlated features                            \n",
    "df=data_num.corr().abs().stack().reset_index()\n",
    "df.columns = ['feature1', 'feature2', 'corr']\n",
    "df[(df['corr']>.75) & (df['corr'] <1)]"
   ]
  },
  {
   "cell_type": "markdown",
   "metadata": {},
   "source": [
    "sqft_living and grade highly correlate with other features. They both have other similar features, sqft_above & sqft_basement for sqft_living, and condition for grade. So they will not be used."
   ]
  },
  {
   "cell_type": "code",
   "execution_count": 13,
   "metadata": {},
   "outputs": [
    {
     "data": {
      "text/html": [
       "<div>\n",
       "<style scoped>\n",
       "    .dataframe tbody tr th:only-of-type {\n",
       "        vertical-align: middle;\n",
       "    }\n",
       "\n",
       "    .dataframe tbody tr th {\n",
       "        vertical-align: top;\n",
       "    }\n",
       "\n",
       "    .dataframe thead th {\n",
       "        text-align: right;\n",
       "    }\n",
       "</style>\n",
       "<table border=\"1\" class=\"dataframe\">\n",
       "  <thead>\n",
       "    <tr style=\"text-align: right;\">\n",
       "      <th></th>\n",
       "      <th>id</th>\n",
       "      <th>date</th>\n",
       "      <th>price</th>\n",
       "      <th>bedrooms</th>\n",
       "      <th>bathrooms</th>\n",
       "      <th>sqft_living</th>\n",
       "      <th>sqft_lot</th>\n",
       "      <th>floors</th>\n",
       "      <th>waterfront</th>\n",
       "      <th>view</th>\n",
       "      <th>...</th>\n",
       "      <th>sqft_above</th>\n",
       "      <th>sqft_basement</th>\n",
       "      <th>yr_built</th>\n",
       "      <th>yr_renovated</th>\n",
       "      <th>zipcode</th>\n",
       "      <th>lat</th>\n",
       "      <th>long</th>\n",
       "      <th>sqft_living15</th>\n",
       "      <th>sqft_lot15</th>\n",
       "      <th>renovated</th>\n",
       "    </tr>\n",
       "  </thead>\n",
       "  <tbody>\n",
       "    <tr>\n",
       "      <th>0</th>\n",
       "      <td>7129300520</td>\n",
       "      <td>10/13/2014</td>\n",
       "      <td>221900.00</td>\n",
       "      <td>3</td>\n",
       "      <td>1.00</td>\n",
       "      <td>1180</td>\n",
       "      <td>5650</td>\n",
       "      <td>1.00</td>\n",
       "      <td>Yes</td>\n",
       "      <td>0.00</td>\n",
       "      <td>...</td>\n",
       "      <td>1180</td>\n",
       "      <td>0.00</td>\n",
       "      <td>1955</td>\n",
       "      <td>nan</td>\n",
       "      <td>98178</td>\n",
       "      <td>47.51</td>\n",
       "      <td>-122.26</td>\n",
       "      <td>1340</td>\n",
       "      <td>5650</td>\n",
       "      <td>RR</td>\n",
       "    </tr>\n",
       "    <tr>\n",
       "      <th>1</th>\n",
       "      <td>6414100192</td>\n",
       "      <td>12/9/2014</td>\n",
       "      <td>538000.00</td>\n",
       "      <td>3</td>\n",
       "      <td>2.25</td>\n",
       "      <td>2570</td>\n",
       "      <td>7242</td>\n",
       "      <td>2.00</td>\n",
       "      <td>Yes</td>\n",
       "      <td>0.00</td>\n",
       "      <td>...</td>\n",
       "      <td>2170</td>\n",
       "      <td>400.00</td>\n",
       "      <td>1951</td>\n",
       "      <td>1991.00</td>\n",
       "      <td>98125</td>\n",
       "      <td>47.72</td>\n",
       "      <td>-122.32</td>\n",
       "      <td>1690</td>\n",
       "      <td>7639</td>\n",
       "      <td>R</td>\n",
       "    </tr>\n",
       "    <tr>\n",
       "      <th>2</th>\n",
       "      <td>5631500400</td>\n",
       "      <td>2/25/2015</td>\n",
       "      <td>180000.00</td>\n",
       "      <td>2</td>\n",
       "      <td>1.00</td>\n",
       "      <td>770</td>\n",
       "      <td>10000</td>\n",
       "      <td>1.00</td>\n",
       "      <td>Yes</td>\n",
       "      <td>0.00</td>\n",
       "      <td>...</td>\n",
       "      <td>770</td>\n",
       "      <td>0.00</td>\n",
       "      <td>1933</td>\n",
       "      <td>nan</td>\n",
       "      <td>98028</td>\n",
       "      <td>47.74</td>\n",
       "      <td>-122.23</td>\n",
       "      <td>2720</td>\n",
       "      <td>8062</td>\n",
       "      <td>RR</td>\n",
       "    </tr>\n",
       "    <tr>\n",
       "      <th>3</th>\n",
       "      <td>2487200875</td>\n",
       "      <td>12/9/2014</td>\n",
       "      <td>604000.00</td>\n",
       "      <td>4</td>\n",
       "      <td>3.00</td>\n",
       "      <td>1960</td>\n",
       "      <td>5000</td>\n",
       "      <td>1.00</td>\n",
       "      <td>Yes</td>\n",
       "      <td>0.00</td>\n",
       "      <td>...</td>\n",
       "      <td>1050</td>\n",
       "      <td>910.00</td>\n",
       "      <td>1965</td>\n",
       "      <td>nan</td>\n",
       "      <td>98136</td>\n",
       "      <td>47.52</td>\n",
       "      <td>-122.39</td>\n",
       "      <td>1360</td>\n",
       "      <td>5000</td>\n",
       "      <td>RR</td>\n",
       "    </tr>\n",
       "    <tr>\n",
       "      <th>4</th>\n",
       "      <td>1954400510</td>\n",
       "      <td>2/18/2015</td>\n",
       "      <td>510000.00</td>\n",
       "      <td>3</td>\n",
       "      <td>2.00</td>\n",
       "      <td>1680</td>\n",
       "      <td>8080</td>\n",
       "      <td>1.00</td>\n",
       "      <td>Yes</td>\n",
       "      <td>0.00</td>\n",
       "      <td>...</td>\n",
       "      <td>1680</td>\n",
       "      <td>0.00</td>\n",
       "      <td>1987</td>\n",
       "      <td>nan</td>\n",
       "      <td>98074</td>\n",
       "      <td>47.62</td>\n",
       "      <td>-122.05</td>\n",
       "      <td>1800</td>\n",
       "      <td>7503</td>\n",
       "      <td>RR</td>\n",
       "    </tr>\n",
       "  </tbody>\n",
       "</table>\n",
       "<p>5 rows × 22 columns</p>\n",
       "</div>"
      ],
      "text/plain": [
       "           id        date     price  bedrooms  bathrooms  sqft_living  \\\n",
       "0  7129300520  10/13/2014 221900.00         3       1.00         1180   \n",
       "1  6414100192   12/9/2014 538000.00         3       2.25         2570   \n",
       "2  5631500400   2/25/2015 180000.00         2       1.00          770   \n",
       "3  2487200875   12/9/2014 604000.00         4       3.00         1960   \n",
       "4  1954400510   2/18/2015 510000.00         3       2.00         1680   \n",
       "\n",
       "   sqft_lot  floors waterfront  view  ...  sqft_above  sqft_basement  \\\n",
       "0      5650    1.00        Yes  0.00  ...        1180           0.00   \n",
       "1      7242    2.00        Yes  0.00  ...        2170         400.00   \n",
       "2     10000    1.00        Yes  0.00  ...         770           0.00   \n",
       "3      5000    1.00        Yes  0.00  ...        1050         910.00   \n",
       "4      8080    1.00        Yes  0.00  ...        1680           0.00   \n",
       "\n",
       "   yr_built  yr_renovated  zipcode   lat    long  sqft_living15  sqft_lot15  \\\n",
       "0      1955           nan    98178 47.51 -122.26           1340        5650   \n",
       "1      1951       1991.00    98125 47.72 -122.32           1690        7639   \n",
       "2      1933           nan    98028 47.74 -122.23           2720        8062   \n",
       "3      1965           nan    98136 47.52 -122.39           1360        5000   \n",
       "4      1987           nan    98074 47.62 -122.05           1800        7503   \n",
       "\n",
       "   renovated  \n",
       "0         RR  \n",
       "1          R  \n",
       "2         RR  \n",
       "3         RR  \n",
       "4         RR  \n",
       "\n",
       "[5 rows x 22 columns]"
      ]
     },
     "execution_count": 13,
     "metadata": {},
     "output_type": "execute_result"
    }
   ],
   "source": [
    "data.head()"
   ]
  },
  {
   "cell_type": "markdown",
   "metadata": {},
   "source": [
    "### First Model\n",
    "\n",
    "Will do a first model with the data as it has been processed so far. For this model, I will not use 'grade' & 'sqft_living' due to their colinearity with multiple other features, 'yr_renovated' has been transformed into the categorical 'renovated' feature and 'id' isn't a feature that would be related to the home's price. I may come back to the 'date', 'lat', & 'long' features in a later model, as they could be related to price and are somewhat under the control of a home buyer. \n",
    "\n",
    "At this point, you can also consider what a baseline, model-less prediction might look like, and begin evaluating this model compared to that baseline."
   ]
  },
  {
   "cell_type": "code",
   "execution_count": 51,
   "metadata": {},
   "outputs": [],
   "source": [
    "#divide data into continuous and categorical features. \n",
    "categoricals = ['waterfront', 'renovated', 'zipcode']\n",
    "continuous = ['sqft_lot', 'sqft_lot15', 'sqft_living15', 'yr_built', 'condition',\n",
    "              'bedrooms', 'bathrooms', 'sqft_above', 'sqft_basement', 'floors', 'price']\n",
    "cat_data = data[categoricals]\n",
    "cont_data = data[continuous]              "
   ]
  },
  {
   "cell_type": "code",
   "execution_count": 52,
   "metadata": {},
   "outputs": [],
   "source": [
    "X, y = ut.ohe_concat(cat_data, cont_data, categoricals, 'price')"
   ]
  },
  {
   "cell_type": "code",
   "execution_count": 53,
   "metadata": {},
   "outputs": [
    {
     "data": {
      "text/html": [
       "<div>\n",
       "<style scoped>\n",
       "    .dataframe tbody tr th:only-of-type {\n",
       "        vertical-align: middle;\n",
       "    }\n",
       "\n",
       "    .dataframe tbody tr th {\n",
       "        vertical-align: top;\n",
       "    }\n",
       "\n",
       "    .dataframe thead th {\n",
       "        text-align: right;\n",
       "    }\n",
       "</style>\n",
       "<table border=\"1\" class=\"dataframe\">\n",
       "  <thead>\n",
       "    <tr style=\"text-align: right;\">\n",
       "      <th></th>\n",
       "      <th>waterfront_Yes</th>\n",
       "      <th>renovated_R</th>\n",
       "      <th>renovated_RR</th>\n",
       "      <th>sqft_lot</th>\n",
       "      <th>sqft_lot15</th>\n",
       "      <th>sqft_living15</th>\n",
       "      <th>yr_built</th>\n",
       "      <th>condition</th>\n",
       "      <th>bedrooms</th>\n",
       "      <th>bathrooms</th>\n",
       "      <th>sqft_above</th>\n",
       "      <th>sqft_basement</th>\n",
       "      <th>floors</th>\n",
       "    </tr>\n",
       "  </thead>\n",
       "  <tbody>\n",
       "    <tr>\n",
       "      <th>0</th>\n",
       "      <td>1</td>\n",
       "      <td>0</td>\n",
       "      <td>1</td>\n",
       "      <td>5650</td>\n",
       "      <td>5650</td>\n",
       "      <td>1340</td>\n",
       "      <td>1955</td>\n",
       "      <td>3</td>\n",
       "      <td>3</td>\n",
       "      <td>1.00</td>\n",
       "      <td>1180</td>\n",
       "      <td>0.00</td>\n",
       "      <td>1.00</td>\n",
       "    </tr>\n",
       "    <tr>\n",
       "      <th>1</th>\n",
       "      <td>1</td>\n",
       "      <td>1</td>\n",
       "      <td>0</td>\n",
       "      <td>7242</td>\n",
       "      <td>7639</td>\n",
       "      <td>1690</td>\n",
       "      <td>1951</td>\n",
       "      <td>3</td>\n",
       "      <td>3</td>\n",
       "      <td>2.25</td>\n",
       "      <td>2170</td>\n",
       "      <td>400.00</td>\n",
       "      <td>2.00</td>\n",
       "    </tr>\n",
       "    <tr>\n",
       "      <th>2</th>\n",
       "      <td>1</td>\n",
       "      <td>0</td>\n",
       "      <td>1</td>\n",
       "      <td>10000</td>\n",
       "      <td>8062</td>\n",
       "      <td>2720</td>\n",
       "      <td>1933</td>\n",
       "      <td>3</td>\n",
       "      <td>2</td>\n",
       "      <td>1.00</td>\n",
       "      <td>770</td>\n",
       "      <td>0.00</td>\n",
       "      <td>1.00</td>\n",
       "    </tr>\n",
       "    <tr>\n",
       "      <th>3</th>\n",
       "      <td>1</td>\n",
       "      <td>0</td>\n",
       "      <td>1</td>\n",
       "      <td>5000</td>\n",
       "      <td>5000</td>\n",
       "      <td>1360</td>\n",
       "      <td>1965</td>\n",
       "      <td>5</td>\n",
       "      <td>4</td>\n",
       "      <td>3.00</td>\n",
       "      <td>1050</td>\n",
       "      <td>910.00</td>\n",
       "      <td>1.00</td>\n",
       "    </tr>\n",
       "    <tr>\n",
       "      <th>4</th>\n",
       "      <td>1</td>\n",
       "      <td>0</td>\n",
       "      <td>1</td>\n",
       "      <td>8080</td>\n",
       "      <td>7503</td>\n",
       "      <td>1800</td>\n",
       "      <td>1987</td>\n",
       "      <td>3</td>\n",
       "      <td>3</td>\n",
       "      <td>2.00</td>\n",
       "      <td>1680</td>\n",
       "      <td>0.00</td>\n",
       "      <td>1.00</td>\n",
       "    </tr>\n",
       "  </tbody>\n",
       "</table>\n",
       "</div>"
      ],
      "text/plain": [
       "   waterfront_Yes  renovated_R  renovated_RR  sqft_lot  sqft_lot15  \\\n",
       "0               1            0             1      5650        5650   \n",
       "1               1            1             0      7242        7639   \n",
       "2               1            0             1     10000        8062   \n",
       "3               1            0             1      5000        5000   \n",
       "4               1            0             1      8080        7503   \n",
       "\n",
       "   sqft_living15  yr_built  condition  bedrooms  bathrooms  sqft_above  \\\n",
       "0           1340      1955          3         3       1.00        1180   \n",
       "1           1690      1951          3         3       2.25        2170   \n",
       "2           2720      1933          3         2       1.00         770   \n",
       "3           1360      1965          5         4       3.00        1050   \n",
       "4           1800      1987          3         3       2.00        1680   \n",
       "\n",
       "   sqft_basement  floors  \n",
       "0           0.00    1.00  \n",
       "1         400.00    2.00  \n",
       "2           0.00    1.00  \n",
       "3         910.00    1.00  \n",
       "4           0.00    1.00  "
      ]
     },
     "execution_count": 53,
     "metadata": {},
     "output_type": "execute_result"
    }
   ],
   "source": [
    "X.head()"
   ]
  },
  {
   "cell_type": "code",
   "execution_count": 54,
   "metadata": {},
   "outputs": [],
   "source": [
    "X_train, X_test, y_train, y_test = train_test_split(X, y, test_size = 0.2, random_state=9)"
   ]
  },
  {
   "cell_type": "code",
   "execution_count": 55,
   "metadata": {},
   "outputs": [
    {
     "data": {
      "text/plain": [
       "LinearRegression(copy_X=True, fit_intercept=True, n_jobs=None, normalize=False)"
      ]
     },
     "execution_count": 55,
     "metadata": {},
     "output_type": "execute_result"
    }
   ],
   "source": [
    "#instanciate LinearRegression\n",
    "linreg = LinearRegression()\n",
    "#fit model\n",
    "linreg.fit(X_train, y_train)"
   ]
  },
  {
   "cell_type": "code",
   "execution_count": 56,
   "metadata": {
    "scrolled": true
   },
   "outputs": [
    {
     "name": "stdout",
     "output_type": "stream",
     "text": [
      "Training Scores: R2 0.56896, Mean Absolute Error 155976.26, Root Mean Squared Error 239331.20\n",
      "Testing Scores: R2 0.57419, Mean Absolute Error 158267.33, Root Mean Squared Error 246768.07\n"
     ]
    }
   ],
   "source": [
    "ut.predictions(linreg, X_train, X_test, y_train, y_test)"
   ]
  },
  {
   "cell_type": "code",
   "execution_count": 57,
   "metadata": {},
   "outputs": [
    {
     "name": "stderr",
     "output_type": "stream",
     "text": [
      "/Users/cindyreiner/opt/anaconda3/envs/learn-env/lib/python3.6/site-packages/numpy/core/fromnumeric.py:2580: FutureWarning: Method .ptp is deprecated and will be removed in a future version. Use numpy.ptp instead.\n",
      "  return ptp(axis=axis, out=out, **kwargs)\n"
     ]
    },
    {
     "data": {
      "text/html": [
       "<table class=\"simpletable\">\n",
       "<caption>OLS Regression Results</caption>\n",
       "<tr>\n",
       "  <th>Dep. Variable:</th>          <td>price</td>      <th>  R-squared:         </th>  <td>   0.569</td>  \n",
       "</tr>\n",
       "<tr>\n",
       "  <th>Model:</th>                   <td>OLS</td>       <th>  Adj. R-squared:    </th>  <td>   0.569</td>  \n",
       "</tr>\n",
       "<tr>\n",
       "  <th>Method:</th>             <td>Least Squares</td>  <th>  F-statistic:       </th>  <td>   2072.</td>  \n",
       "</tr>\n",
       "<tr>\n",
       "  <th>Date:</th>             <td>Tue, 26 Jan 2021</td> <th>  Prob (F-statistic):</th>   <td>  0.00</td>   \n",
       "</tr>\n",
       "<tr>\n",
       "  <th>Time:</th>                 <td>21:02:54</td>     <th>  Log-Likelihood:    </th> <td>-2.3850e+05</td>\n",
       "</tr>\n",
       "<tr>\n",
       "  <th>No. Observations:</th>      <td> 17277</td>      <th>  AIC:               </th>  <td>4.770e+05</td> \n",
       "</tr>\n",
       "<tr>\n",
       "  <th>Df Residuals:</th>          <td> 17265</td>      <th>  BIC:               </th>  <td>4.771e+05</td> \n",
       "</tr>\n",
       "<tr>\n",
       "  <th>Df Model:</th>              <td>    11</td>      <th>                     </th>      <td> </td>     \n",
       "</tr>\n",
       "<tr>\n",
       "  <th>Covariance Type:</th>      <td>nonrobust</td>    <th>                     </th>      <td> </td>     \n",
       "</tr>\n",
       "</table>\n",
       "<table class=\"simpletable\">\n",
       "<tr>\n",
       "         <td></td>           <th>coef</th>     <th>std err</th>      <th>t</th>      <th>P>|t|</th>  <th>[0.025</th>    <th>0.975]</th>  \n",
       "</tr>\n",
       "<tr>\n",
       "  <th>waterfront_Yes</th> <td> 4.338e+06</td> <td> 1.09e+05</td> <td>   39.628</td> <td> 0.000</td> <td> 4.12e+06</td> <td> 4.55e+06</td>\n",
       "</tr>\n",
       "<tr>\n",
       "  <th>renovated_R</th>    <td> 2.188e+06</td> <td> 5.38e+04</td> <td>   40.666</td> <td> 0.000</td> <td> 2.08e+06</td> <td> 2.29e+06</td>\n",
       "</tr>\n",
       "<tr>\n",
       "  <th>renovated_RR</th>   <td>  2.15e+06</td> <td> 5.64e+04</td> <td>   38.123</td> <td> 0.000</td> <td> 2.04e+06</td> <td> 2.26e+06</td>\n",
       "</tr>\n",
       "<tr>\n",
       "  <th>sqft_lot</th>       <td>   -0.0224</td> <td>    0.069</td> <td>   -0.326</td> <td> 0.745</td> <td>   -0.157</td> <td>    0.112</td>\n",
       "</tr>\n",
       "<tr>\n",
       "  <th>sqft_lot15</th>     <td>   -0.7598</td> <td>    0.106</td> <td>   -7.197</td> <td> 0.000</td> <td>   -0.967</td> <td>   -0.553</td>\n",
       "</tr>\n",
       "<tr>\n",
       "  <th>sqft_living15</th>  <td>   91.3435</td> <td>    4.268</td> <td>   21.402</td> <td> 0.000</td> <td>   82.978</td> <td>   99.709</td>\n",
       "</tr>\n",
       "<tr>\n",
       "  <th>yr_built</th>       <td>-3401.6220</td> <td>   84.178</td> <td>  -40.410</td> <td> 0.000</td> <td>-3566.619</td> <td>-3236.625</td>\n",
       "</tr>\n",
       "<tr>\n",
       "  <th>condition</th>      <td> 1.903e+04</td> <td> 3075.530</td> <td>    6.188</td> <td> 0.000</td> <td>  1.3e+04</td> <td> 2.51e+04</td>\n",
       "</tr>\n",
       "<tr>\n",
       "  <th>bedrooms</th>       <td>-7.158e+04</td> <td> 2583.677</td> <td>  -27.706</td> <td> 0.000</td> <td>-7.66e+04</td> <td>-6.65e+04</td>\n",
       "</tr>\n",
       "<tr>\n",
       "  <th>bathrooms</th>      <td> 7.039e+04</td> <td> 4300.763</td> <td>   16.367</td> <td> 0.000</td> <td>  6.2e+04</td> <td> 7.88e+04</td>\n",
       "</tr>\n",
       "<tr>\n",
       "  <th>sqft_above</th>     <td>  249.1956</td> <td>    4.503</td> <td>   55.344</td> <td> 0.000</td> <td>  240.370</td> <td>  258.021</td>\n",
       "</tr>\n",
       "<tr>\n",
       "  <th>sqft_basement</th>  <td>  251.3240</td> <td>    5.567</td> <td>   45.142</td> <td> 0.000</td> <td>  240.411</td> <td>  262.237</td>\n",
       "</tr>\n",
       "<tr>\n",
       "  <th>floors</th>         <td> 6.033e+04</td> <td> 4639.722</td> <td>   13.004</td> <td> 0.000</td> <td> 5.12e+04</td> <td> 6.94e+04</td>\n",
       "</tr>\n",
       "</table>\n",
       "<table class=\"simpletable\">\n",
       "<tr>\n",
       "  <th>Omnibus:</th>       <td>12953.149</td> <th>  Durbin-Watson:     </th>  <td>   2.011</td> \n",
       "</tr>\n",
       "<tr>\n",
       "  <th>Prob(Omnibus):</th>  <td> 0.000</td>   <th>  Jarque-Bera (JB):  </th> <td>717777.533</td>\n",
       "</tr>\n",
       "<tr>\n",
       "  <th>Skew:</th>           <td> 3.086</td>   <th>  Prob(JB):          </th>  <td>    0.00</td> \n",
       "</tr>\n",
       "<tr>\n",
       "  <th>Kurtosis:</th>       <td>33.968</td>   <th>  Cond. No.          </th>  <td>5.98e+16</td> \n",
       "</tr>\n",
       "</table><br/><br/>Warnings:<br/>[1] Standard Errors assume that the covariance matrix of the errors is correctly specified.<br/>[2] The smallest eigenvalue is 1.1e-20. This might indicate that there are<br/>strong multicollinearity problems or that the design matrix is singular."
      ],
      "text/plain": [
       "<class 'statsmodels.iolib.summary.Summary'>\n",
       "\"\"\"\n",
       "                            OLS Regression Results                            \n",
       "==============================================================================\n",
       "Dep. Variable:                  price   R-squared:                       0.569\n",
       "Model:                            OLS   Adj. R-squared:                  0.569\n",
       "Method:                 Least Squares   F-statistic:                     2072.\n",
       "Date:                Tue, 26 Jan 2021   Prob (F-statistic):               0.00\n",
       "Time:                        21:02:54   Log-Likelihood:            -2.3850e+05\n",
       "No. Observations:               17277   AIC:                         4.770e+05\n",
       "Df Residuals:                   17265   BIC:                         4.771e+05\n",
       "Df Model:                          11                                         \n",
       "Covariance Type:            nonrobust                                         \n",
       "==================================================================================\n",
       "                     coef    std err          t      P>|t|      [0.025      0.975]\n",
       "----------------------------------------------------------------------------------\n",
       "waterfront_Yes  4.338e+06   1.09e+05     39.628      0.000    4.12e+06    4.55e+06\n",
       "renovated_R     2.188e+06   5.38e+04     40.666      0.000    2.08e+06    2.29e+06\n",
       "renovated_RR     2.15e+06   5.64e+04     38.123      0.000    2.04e+06    2.26e+06\n",
       "sqft_lot          -0.0224      0.069     -0.326      0.745      -0.157       0.112\n",
       "sqft_lot15        -0.7598      0.106     -7.197      0.000      -0.967      -0.553\n",
       "sqft_living15     91.3435      4.268     21.402      0.000      82.978      99.709\n",
       "yr_built       -3401.6220     84.178    -40.410      0.000   -3566.619   -3236.625\n",
       "condition       1.903e+04   3075.530      6.188      0.000     1.3e+04    2.51e+04\n",
       "bedrooms       -7.158e+04   2583.677    -27.706      0.000   -7.66e+04   -6.65e+04\n",
       "bathrooms       7.039e+04   4300.763     16.367      0.000     6.2e+04    7.88e+04\n",
       "sqft_above       249.1956      4.503     55.344      0.000     240.370     258.021\n",
       "sqft_basement    251.3240      5.567     45.142      0.000     240.411     262.237\n",
       "floors          6.033e+04   4639.722     13.004      0.000    5.12e+04    6.94e+04\n",
       "==============================================================================\n",
       "Omnibus:                    12953.149   Durbin-Watson:                   2.011\n",
       "Prob(Omnibus):                  0.000   Jarque-Bera (JB):           717777.533\n",
       "Skew:                           3.086   Prob(JB):                         0.00\n",
       "Kurtosis:                      33.968   Cond. No.                     5.98e+16\n",
       "==============================================================================\n",
       "\n",
       "Warnings:\n",
       "[1] Standard Errors assume that the covariance matrix of the errors is correctly specified.\n",
       "[2] The smallest eigenvalue is 1.1e-20. This might indicate that there are\n",
       "strong multicollinearity problems or that the design matrix is singular.\n",
       "\"\"\""
      ]
     },
     "execution_count": 57,
     "metadata": {},
     "output_type": "execute_result"
    }
   ],
   "source": [
    "ut.ols_summary(X_train, y_train, X)"
   ]
  },
  {
   "cell_type": "code",
   "execution_count": 58,
   "metadata": {},
   "outputs": [
    {
     "data": {
      "image/png": "[encoded data removed]",
      "text/plain": [
       "<Figure size 432x288 with 2 Axes>"
      ]
     },
     "metadata": {
      "needs_background": "light"
     },
     "output_type": "display_data"
    },
    {
     "data": {
      "text/plain": [
       "<matplotlib.axes._subplots.AxesSubplot at 0x7f9725b4ba58>"
      ]
     },
     "execution_count": 58,
     "metadata": {},
     "output_type": "execute_result"
    }
   ],
   "source": [
    "# Instantiate the linear model and visualizer\n",
    "model = Ridge()\n",
    "visualizer = ResidualsPlot(model)\n",
    "\n",
    "visualizer.fit(X_train, y_train)  # Fit the training data to the visualizer\n",
    "visualizer.score(X_test, y_test)  # Evaluate the model on the test data\n",
    "visualizer.show()  "
   ]
  },
  {
   "cell_type": "markdown",
   "metadata": {},
   "source": [
    "### Model #2"
   ]
  },
  {
   "cell_type": "markdown",
   "metadata": {},
   "source": [
    "Try again, normalize and scale data. Using the same features as the first model, so starting with the cont_data and cat_data dataframes."
   ]
  },
  {
   "cell_type": "code",
   "execution_count": 22,
   "metadata": {
    "scrolled": false
   },
   "outputs": [
    {
     "data": {
      "image/png": "[encoded data removed]",
      "text/plain": [
       "<Figure size 864x864 with 12 Axes>"
      ]
     },
     "metadata": {
      "needs_background": "light"
     },
     "output_type": "display_data"
    }
   ],
   "source": [
    "#look at histograms of the continuous data previously identified\n",
    "cont_data.hist(figsize= (12, 12))\n",
    "plt.show()"
   ]
  },
  {
   "cell_type": "markdown",
   "metadata": {},
   "source": [
    "None of these are normally distributed."
   ]
  },
  {
   "cell_type": "code",
   "execution_count": 23,
   "metadata": {},
   "outputs": [
    {
     "data": {
      "image/png": "[encoded data removed]",
      "text/plain": [
       "<Figure size 864x864 with 12 Axes>"
      ]
     },
     "metadata": {
      "needs_background": "light"
     },
     "output_type": "display_data"
    }
   ],
   "source": [
    "# take log of continuous data and plot histograms\n",
    "cont_data_log = np.log1p(cont_data)\n",
    "cont_data_log.hist(figsize= (12, 12))\n",
    "plt.show()"
   ]
  },
  {
   "cell_type": "markdown",
   "metadata": {},
   "source": [
    "With the exception of yr_built, the features look more normally distributed. "
   ]
  },
  {
   "cell_type": "code",
   "execution_count": 24,
   "metadata": {},
   "outputs": [
    {
     "data": {
      "text/plain": [
       "<matplotlib.axes._subplots.AxesSubplot at 0x7f9725866b38>"
      ]
     },
     "execution_count": 24,
     "metadata": {},
     "output_type": "execute_result"
    },
    {
     "data": {
      "image/png": "[encoded data removed]",
      "text/plain": [
       "<Figure size 864x432 with 1 Axes>"
      ]
     },
     "metadata": {
      "needs_background": "light"
     },
     "output_type": "display_data"
    }
   ],
   "source": [
    "#check continuous features for outliers. Excluded price as it is the target feature \n",
    "#and also on a scale much larger than the others\n",
    "cont_data_log.drop(['price'], axis=1).boxplot(figsize= (12, 6))"
   ]
  },
  {
   "cell_type": "markdown",
   "metadata": {},
   "source": [
    "6 of the 10 features have a large number of outliers. Additionally, they are fairly normally distributed. Thus, I use the RobustScaler to scale the explanatory features. First, I one hot encode the categorical data, concatenate the continuous and categorical data and split the resulting dataframes into train and test sets."
   ]
  },
  {
   "cell_type": "code",
   "execution_count": 25,
   "metadata": {},
   "outputs": [],
   "source": [
    "#one hot encode the categoricals, concatenate the ohe categoricals with the log of continuous data\n",
    "#then split into the target and explanatory features. \n",
    "X2, y2 = ut.ohe_concat(cat_data, cont_data_log, categoricals, 'price')\n",
    "#split X2 and y2 into training and testing sets\n",
    "X_train2, X_test2, y_train2, y_test2 = train_test_split(X2, y2, test_size = 0.2, random_state=9)"
   ]
  },
  {
   "cell_type": "code",
   "execution_count": 26,
   "metadata": {},
   "outputs": [],
   "source": [
    "#use RobustScaler to scale data and deal with outliers\n",
    "scaler = RobustScaler()\n",
    "X_train2_scaled = pd.DataFrame(scaler.fit_transform(X_train2))\n",
    "X_test2_scaled = pd.DataFrame(scaler.fit_transform(X_test2))"
   ]
  },
  {
   "cell_type": "markdown",
   "metadata": {},
   "source": [
    "Now that the data has been transformed and scaled, I make a second model."
   ]
  },
  {
   "cell_type": "code",
   "execution_count": 27,
   "metadata": {},
   "outputs": [
    {
     "data": {
      "text/plain": [
       "LinearRegression(copy_X=True, fit_intercept=True, n_jobs=None, normalize=False)"
      ]
     },
     "execution_count": 27,
     "metadata": {},
     "output_type": "execute_result"
    }
   ],
   "source": [
    "linreg2 = LinearRegression()\n",
    "linreg2.fit(X_train2_scaled, y_train2)"
   ]
  },
  {
   "cell_type": "code",
   "execution_count": 28,
   "metadata": {},
   "outputs": [
    {
     "name": "stdout",
     "output_type": "stream",
     "text": [
      "Training Scores: R2 0.85060, Mean Absolute Error 0.15, Root Mean Squared Error 0.20\n",
      "Testing Scores: R2 0.84489, Mean Absolute Error 0.15, Root Mean Squared Error 0.21\n"
     ]
    }
   ],
   "source": [
    "ut.predictions(linreg2, X_train2_scaled, X_test2_scaled, y_train2, y_test2)"
   ]
  },
  {
   "cell_type": "code",
   "execution_count": 29,
   "metadata": {},
   "outputs": [
    {
     "name": "stderr",
     "output_type": "stream",
     "text": [
      "/Users/cindyreiner/opt/anaconda3/envs/learn-env/lib/python3.6/site-packages/numpy/core/fromnumeric.py:2580: FutureWarning: Method .ptp is deprecated and will be removed in a future version. Use numpy.ptp instead.\n",
      "  return ptp(axis=axis, out=out, **kwargs)\n"
     ]
    },
    {
     "data": {
      "text/html": [
       "<table class=\"simpletable\">\n",
       "<caption>OLS Regression Results</caption>\n",
       "<tr>\n",
       "  <th>Dep. Variable:</th>          <td>price</td>      <th>  R-squared:         </th> <td>   0.851</td>\n",
       "</tr>\n",
       "<tr>\n",
       "  <th>Model:</th>                   <td>OLS</td>       <th>  Adj. R-squared:    </th> <td>   0.850</td>\n",
       "</tr>\n",
       "<tr>\n",
       "  <th>Method:</th>             <td>Least Squares</td>  <th>  F-statistic:       </th> <td>   1224.</td>\n",
       "</tr>\n",
       "<tr>\n",
       "  <th>Date:</th>             <td>Tue, 26 Jan 2021</td> <th>  Prob (F-statistic):</th>  <td>  0.00</td> \n",
       "</tr>\n",
       "<tr>\n",
       "  <th>Time:</th>                 <td>20:54:17</td>     <th>  Log-Likelihood:    </th> <td>  3020.1</td>\n",
       "</tr>\n",
       "<tr>\n",
       "  <th>No. Observations:</th>      <td> 17277</td>      <th>  AIC:               </th> <td>  -5878.</td>\n",
       "</tr>\n",
       "<tr>\n",
       "  <th>Df Residuals:</th>          <td> 17196</td>      <th>  BIC:               </th> <td>  -5250.</td>\n",
       "</tr>\n",
       "<tr>\n",
       "  <th>Df Model:</th>              <td>    80</td>      <th>                     </th>     <td> </td>   \n",
       "</tr>\n",
       "<tr>\n",
       "  <th>Covariance Type:</th>      <td>nonrobust</td>    <th>                     </th>     <td> </td>   \n",
       "</tr>\n",
       "</table>\n",
       "<table class=\"simpletable\">\n",
       "<tr>\n",
       "         <td></td>           <th>coef</th>     <th>std err</th>      <th>t</th>      <th>P>|t|</th>  <th>[0.025</th>    <th>0.975]</th>  \n",
       "</tr>\n",
       "<tr>\n",
       "  <th>waterfront_Yes</th> <td>    1.0433</td> <td>    0.865</td> <td>    1.207</td> <td> 0.228</td> <td>   -0.651</td> <td>    2.738</td>\n",
       "</tr>\n",
       "<tr>\n",
       "  <th>renovated_R</th>    <td>    0.5542</td> <td>    0.431</td> <td>    1.286</td> <td> 0.198</td> <td>   -0.291</td> <td>    1.399</td>\n",
       "</tr>\n",
       "<tr>\n",
       "  <th>renovated_RR</th>   <td>    0.4891</td> <td>    0.434</td> <td>    1.128</td> <td> 0.259</td> <td>   -0.361</td> <td>    1.339</td>\n",
       "</tr>\n",
       "<tr>\n",
       "  <th>zipcode_98001</th>  <td>   -0.5094</td> <td>    0.018</td> <td>  -28.033</td> <td> 0.000</td> <td>   -0.545</td> <td>   -0.474</td>\n",
       "</tr>\n",
       "<tr>\n",
       "  <th>zipcode_98002</th>  <td>   -0.5102</td> <td>    0.021</td> <td>  -24.722</td> <td> 0.000</td> <td>   -0.551</td> <td>   -0.470</td>\n",
       "</tr>\n",
       "<tr>\n",
       "  <th>zipcode_98003</th>  <td>   -0.4672</td> <td>    0.019</td> <td>  -25.092</td> <td> 0.000</td> <td>   -0.504</td> <td>   -0.431</td>\n",
       "</tr>\n",
       "<tr>\n",
       "  <th>zipcode_98004</th>  <td>    0.6655</td> <td>    0.018</td> <td>   36.521</td> <td> 0.000</td> <td>    0.630</td> <td>    0.701</td>\n",
       "</tr>\n",
       "<tr>\n",
       "  <th>zipcode_98005</th>  <td>    0.2297</td> <td>    0.022</td> <td>   10.415</td> <td> 0.000</td> <td>    0.186</td> <td>    0.273</td>\n",
       "</tr>\n",
       "<tr>\n",
       "  <th>zipcode_98006</th>  <td>    0.2127</td> <td>    0.017</td> <td>   12.596</td> <td> 0.000</td> <td>    0.180</td> <td>    0.246</td>\n",
       "</tr>\n",
       "<tr>\n",
       "  <th>zipcode_98007</th>  <td>    0.1677</td> <td>    0.023</td> <td>    7.288</td> <td> 0.000</td> <td>    0.123</td> <td>    0.213</td>\n",
       "</tr>\n",
       "<tr>\n",
       "  <th>zipcode_98008</th>  <td>    0.2060</td> <td>    0.019</td> <td>   11.109</td> <td> 0.000</td> <td>    0.170</td> <td>    0.242</td>\n",
       "</tr>\n",
       "<tr>\n",
       "  <th>zipcode_98010</th>  <td>   -0.3120</td> <td>    0.027</td> <td>  -11.726</td> <td> 0.000</td> <td>   -0.364</td> <td>   -0.260</td>\n",
       "</tr>\n",
       "<tr>\n",
       "  <th>zipcode_98011</th>  <td>   -0.0690</td> <td>    0.020</td> <td>   -3.369</td> <td> 0.001</td> <td>   -0.109</td> <td>   -0.029</td>\n",
       "</tr>\n",
       "<tr>\n",
       "  <th>zipcode_98014</th>  <td>   -0.2403</td> <td>    0.025</td> <td>   -9.668</td> <td> 0.000</td> <td>   -0.289</td> <td>   -0.192</td>\n",
       "</tr>\n",
       "<tr>\n",
       "  <th>zipcode_98019</th>  <td>   -0.2234</td> <td>    0.022</td> <td>  -10.291</td> <td> 0.000</td> <td>   -0.266</td> <td>   -0.181</td>\n",
       "</tr>\n",
       "<tr>\n",
       "  <th>zipcode_98022</th>  <td>   -0.4545</td> <td>    0.021</td> <td>  -22.153</td> <td> 0.000</td> <td>   -0.495</td> <td>   -0.414</td>\n",
       "</tr>\n",
       "<tr>\n",
       "  <th>zipcode_98023</th>  <td>   -0.5148</td> <td>    0.017</td> <td>  -30.733</td> <td> 0.000</td> <td>   -0.548</td> <td>   -0.482</td>\n",
       "</tr>\n",
       "<tr>\n",
       "  <th>zipcode_98024</th>  <td>   -0.0997</td> <td>    0.028</td> <td>   -3.551</td> <td> 0.000</td> <td>   -0.155</td> <td>   -0.045</td>\n",
       "</tr>\n",
       "<tr>\n",
       "  <th>zipcode_98027</th>  <td>    0.0120</td> <td>    0.017</td> <td>    0.687</td> <td> 0.492</td> <td>   -0.022</td> <td>    0.046</td>\n",
       "</tr>\n",
       "<tr>\n",
       "  <th>zipcode_98028</th>  <td>   -0.0810</td> <td>    0.019</td> <td>   -4.327</td> <td> 0.000</td> <td>   -0.118</td> <td>   -0.044</td>\n",
       "</tr>\n",
       "<tr>\n",
       "  <th>zipcode_98029</th>  <td>    0.1336</td> <td>    0.019</td> <td>    7.218</td> <td> 0.000</td> <td>    0.097</td> <td>    0.170</td>\n",
       "</tr>\n",
       "<tr>\n",
       "  <th>zipcode_98030</th>  <td>   -0.4742</td> <td>    0.020</td> <td>  -24.073</td> <td> 0.000</td> <td>   -0.513</td> <td>   -0.436</td>\n",
       "</tr>\n",
       "<tr>\n",
       "  <th>zipcode_98031</th>  <td>   -0.4422</td> <td>    0.019</td> <td>  -22.908</td> <td> 0.000</td> <td>   -0.480</td> <td>   -0.404</td>\n",
       "</tr>\n",
       "<tr>\n",
       "  <th>zipcode_98032</th>  <td>   -0.4930</td> <td>    0.024</td> <td>  -20.957</td> <td> 0.000</td> <td>   -0.539</td> <td>   -0.447</td>\n",
       "</tr>\n",
       "<tr>\n",
       "  <th>zipcode_98033</th>  <td>    0.3241</td> <td>    0.017</td> <td>   19.123</td> <td> 0.000</td> <td>    0.291</td> <td>    0.357</td>\n",
       "</tr>\n",
       "<tr>\n",
       "  <th>zipcode_98034</th>  <td>    0.0687</td> <td>    0.016</td> <td>    4.237</td> <td> 0.000</td> <td>    0.037</td> <td>    0.100</td>\n",
       "</tr>\n",
       "<tr>\n",
       "  <th>zipcode_98038</th>  <td>   -0.3650</td> <td>    0.017</td> <td>  -21.779</td> <td> 0.000</td> <td>   -0.398</td> <td>   -0.332</td>\n",
       "</tr>\n",
       "<tr>\n",
       "  <th>zipcode_98039</th>  <td>    0.8810</td> <td>    0.034</td> <td>   26.182</td> <td> 0.000</td> <td>    0.815</td> <td>    0.947</td>\n",
       "</tr>\n",
       "<tr>\n",
       "  <th>zipcode_98040</th>  <td>    0.4565</td> <td>    0.019</td> <td>   24.136</td> <td> 0.000</td> <td>    0.419</td> <td>    0.494</td>\n",
       "</tr>\n",
       "<tr>\n",
       "  <th>zipcode_98042</th>  <td>   -0.4517</td> <td>    0.017</td> <td>  -26.781</td> <td> 0.000</td> <td>   -0.485</td> <td>   -0.419</td>\n",
       "</tr>\n",
       "<tr>\n",
       "  <th>zipcode_98045</th>  <td>   -0.1782</td> <td>    0.021</td> <td>   -8.586</td> <td> 0.000</td> <td>   -0.219</td> <td>   -0.137</td>\n",
       "</tr>\n",
       "<tr>\n",
       "  <th>zipcode_98052</th>  <td>    0.1458</td> <td>    0.016</td> <td>    8.908</td> <td> 0.000</td> <td>    0.114</td> <td>    0.178</td>\n",
       "</tr>\n",
       "<tr>\n",
       "  <th>zipcode_98053</th>  <td>    0.0665</td> <td>    0.018</td> <td>    3.634</td> <td> 0.000</td> <td>    0.031</td> <td>    0.102</td>\n",
       "</tr>\n",
       "<tr>\n",
       "  <th>zipcode_98055</th>  <td>   -0.3619</td> <td>    0.019</td> <td>  -19.383</td> <td> 0.000</td> <td>   -0.399</td> <td>   -0.325</td>\n",
       "</tr>\n",
       "<tr>\n",
       "  <th>zipcode_98056</th>  <td>   -0.1609</td> <td>    0.018</td> <td>   -9.171</td> <td> 0.000</td> <td>   -0.195</td> <td>   -0.126</td>\n",
       "</tr>\n",
       "<tr>\n",
       "  <th>zipcode_98058</th>  <td>   -0.3395</td> <td>    0.017</td> <td>  -19.825</td> <td> 0.000</td> <td>   -0.373</td> <td>   -0.306</td>\n",
       "</tr>\n",
       "<tr>\n",
       "  <th>zipcode_98059</th>  <td>   -0.1864</td> <td>    0.017</td> <td>  -10.735</td> <td> 0.000</td> <td>   -0.220</td> <td>   -0.152</td>\n",
       "</tr>\n",
       "<tr>\n",
       "  <th>zipcode_98065</th>  <td>   -0.1310</td> <td>    0.019</td> <td>   -6.981</td> <td> 0.000</td> <td>   -0.168</td> <td>   -0.094</td>\n",
       "</tr>\n",
       "<tr>\n",
       "  <th>zipcode_98070</th>  <td>   -0.0798</td> <td>    0.026</td> <td>   -3.097</td> <td> 0.002</td> <td>   -0.130</td> <td>   -0.029</td>\n",
       "</tr>\n",
       "<tr>\n",
       "  <th>zipcode_98072</th>  <td>   -0.0463</td> <td>    0.020</td> <td>   -2.351</td> <td> 0.019</td> <td>   -0.085</td> <td>   -0.008</td>\n",
       "</tr>\n",
       "<tr>\n",
       "  <th>zipcode_98074</th>  <td>    0.0942</td> <td>    0.017</td> <td>    5.475</td> <td> 0.000</td> <td>    0.060</td> <td>    0.128</td>\n",
       "</tr>\n",
       "<tr>\n",
       "  <th>zipcode_98075</th>  <td>    0.0985</td> <td>    0.018</td> <td>    5.398</td> <td> 0.000</td> <td>    0.063</td> <td>    0.134</td>\n",
       "</tr>\n",
       "<tr>\n",
       "  <th>zipcode_98077</th>  <td>   -0.0860</td> <td>    0.021</td> <td>   -4.033</td> <td> 0.000</td> <td>   -0.128</td> <td>   -0.044</td>\n",
       "</tr>\n",
       "<tr>\n",
       "  <th>zipcode_98092</th>  <td>   -0.4933</td> <td>    0.018</td> <td>  -26.847</td> <td> 0.000</td> <td>   -0.529</td> <td>   -0.457</td>\n",
       "</tr>\n",
       "<tr>\n",
       "  <th>zipcode_98102</th>  <td>    0.5653</td> <td>    0.024</td> <td>   23.626</td> <td> 0.000</td> <td>    0.518</td> <td>    0.612</td>\n",
       "</tr>\n",
       "<tr>\n",
       "  <th>zipcode_98103</th>  <td>    0.4424</td> <td>    0.014</td> <td>   31.695</td> <td> 0.000</td> <td>    0.415</td> <td>    0.470</td>\n",
       "</tr>\n",
       "<tr>\n",
       "  <th>zipcode_98105</th>  <td>    0.5331</td> <td>    0.018</td> <td>   29.287</td> <td> 0.000</td> <td>    0.497</td> <td>    0.569</td>\n",
       "</tr>\n",
       "<tr>\n",
       "  <th>zipcode_98106</th>  <td>   -0.0584</td> <td>    0.017</td> <td>   -3.404</td> <td> 0.001</td> <td>   -0.092</td> <td>   -0.025</td>\n",
       "</tr>\n",
       "<tr>\n",
       "  <th>zipcode_98107</th>  <td>    0.4651</td> <td>    0.018</td> <td>   26.536</td> <td> 0.000</td> <td>    0.431</td> <td>    0.499</td>\n",
       "</tr>\n",
       "<tr>\n",
       "  <th>zipcode_98108</th>  <td>   -0.0686</td> <td>    0.020</td> <td>   -3.409</td> <td> 0.001</td> <td>   -0.108</td> <td>   -0.029</td>\n",
       "</tr>\n",
       "<tr>\n",
       "  <th>zipcode_98109</th>  <td>    0.6145</td> <td>    0.024</td> <td>   25.390</td> <td> 0.000</td> <td>    0.567</td> <td>    0.662</td>\n",
       "</tr>\n",
       "<tr>\n",
       "  <th>zipcode_98112</th>  <td>    0.6456</td> <td>    0.017</td> <td>   38.386</td> <td> 0.000</td> <td>    0.613</td> <td>    0.679</td>\n",
       "</tr>\n",
       "<tr>\n",
       "  <th>zipcode_98115</th>  <td>    0.4005</td> <td>    0.014</td> <td>   27.880</td> <td> 0.000</td> <td>    0.372</td> <td>    0.429</td>\n",
       "</tr>\n",
       "<tr>\n",
       "  <th>zipcode_98116</th>  <td>    0.3999</td> <td>    0.017</td> <td>   24.111</td> <td> 0.000</td> <td>    0.367</td> <td>    0.432</td>\n",
       "</tr>\n",
       "<tr>\n",
       "  <th>zipcode_98117</th>  <td>    0.4259</td> <td>    0.014</td> <td>   29.526</td> <td> 0.000</td> <td>    0.398</td> <td>    0.454</td>\n",
       "</tr>\n",
       "<tr>\n",
       "  <th>zipcode_98118</th>  <td>    0.0553</td> <td>    0.015</td> <td>    3.701</td> <td> 0.000</td> <td>    0.026</td> <td>    0.085</td>\n",
       "</tr>\n",
       "<tr>\n",
       "  <th>zipcode_98119</th>  <td>    0.6241</td> <td>    0.019</td> <td>   32.195</td> <td> 0.000</td> <td>    0.586</td> <td>    0.662</td>\n",
       "</tr>\n",
       "<tr>\n",
       "  <th>zipcode_98122</th>  <td>    0.4337</td> <td>    0.017</td> <td>   25.865</td> <td> 0.000</td> <td>    0.401</td> <td>    0.467</td>\n",
       "</tr>\n",
       "<tr>\n",
       "  <th>zipcode_98125</th>  <td>    0.1354</td> <td>    0.016</td> <td>    8.283</td> <td> 0.000</td> <td>    0.103</td> <td>    0.167</td>\n",
       "</tr>\n",
       "<tr>\n",
       "  <th>zipcode_98126</th>  <td>    0.1792</td> <td>    0.016</td> <td>   10.887</td> <td> 0.000</td> <td>    0.147</td> <td>    0.211</td>\n",
       "</tr>\n",
       "<tr>\n",
       "  <th>zipcode_98133</th>  <td>    0.0073</td> <td>    0.016</td> <td>    0.456</td> <td> 0.649</td> <td>   -0.024</td> <td>    0.039</td>\n",
       "</tr>\n",
       "<tr>\n",
       "  <th>zipcode_98136</th>  <td>    0.3160</td> <td>    0.018</td> <td>   17.699</td> <td> 0.000</td> <td>    0.281</td> <td>    0.351</td>\n",
       "</tr>\n",
       "<tr>\n",
       "  <th>zipcode_98144</th>  <td>    0.2985</td> <td>    0.016</td> <td>   18.282</td> <td> 0.000</td> <td>    0.266</td> <td>    0.330</td>\n",
       "</tr>\n",
       "<tr>\n",
       "  <th>zipcode_98146</th>  <td>   -0.1368</td> <td>    0.018</td> <td>   -7.565</td> <td> 0.000</td> <td>   -0.172</td> <td>   -0.101</td>\n",
       "</tr>\n",
       "<tr>\n",
       "  <th>zipcode_98148</th>  <td>   -0.3154</td> <td>    0.033</td> <td>   -9.462</td> <td> 0.000</td> <td>   -0.381</td> <td>   -0.250</td>\n",
       "</tr>\n",
       "<tr>\n",
       "  <th>zipcode_98155</th>  <td>   -0.0249</td> <td>    0.016</td> <td>   -1.510</td> <td> 0.131</td> <td>   -0.057</td> <td>    0.007</td>\n",
       "</tr>\n",
       "<tr>\n",
       "  <th>zipcode_98166</th>  <td>   -0.1172</td> <td>    0.019</td> <td>   -6.274</td> <td> 0.000</td> <td>   -0.154</td> <td>   -0.081</td>\n",
       "</tr>\n",
       "<tr>\n",
       "  <th>zipcode_98168</th>  <td>   -0.4019</td> <td>    0.018</td> <td>  -22.090</td> <td> 0.000</td> <td>   -0.438</td> <td>   -0.366</td>\n",
       "</tr>\n",
       "<tr>\n",
       "  <th>zipcode_98177</th>  <td>    0.1754</td> <td>    0.019</td> <td>    9.354</td> <td> 0.000</td> <td>    0.139</td> <td>    0.212</td>\n",
       "</tr>\n",
       "<tr>\n",
       "  <th>zipcode_98178</th>  <td>   -0.2722</td> <td>    0.018</td> <td>  -14.959</td> <td> 0.000</td> <td>   -0.308</td> <td>   -0.237</td>\n",
       "</tr>\n",
       "<tr>\n",
       "  <th>zipcode_98188</th>  <td>   -0.3592</td> <td>    0.023</td> <td>  -15.772</td> <td> 0.000</td> <td>   -0.404</td> <td>   -0.315</td>\n",
       "</tr>\n",
       "<tr>\n",
       "  <th>zipcode_98198</th>  <td>   -0.3761</td> <td>    0.018</td> <td>  -20.493</td> <td> 0.000</td> <td>   -0.412</td> <td>   -0.340</td>\n",
       "</tr>\n",
       "<tr>\n",
       "  <th>zipcode_98199</th>  <td>    0.4657</td> <td>    0.017</td> <td>   27.811</td> <td> 0.000</td> <td>    0.433</td> <td>    0.499</td>\n",
       "</tr>\n",
       "<tr>\n",
       "  <th>sqft_lot</th>       <td>    0.0798</td> <td>    0.005</td> <td>   17.333</td> <td> 0.000</td> <td>    0.071</td> <td>    0.089</td>\n",
       "</tr>\n",
       "<tr>\n",
       "  <th>sqft_lot15</th>     <td>   -0.0120</td> <td>    0.005</td> <td>   -2.365</td> <td> 0.018</td> <td>   -0.022</td> <td>   -0.002</td>\n",
       "</tr>\n",
       "<tr>\n",
       "  <th>sqft_living15</th>  <td>    0.2785</td> <td>    0.008</td> <td>   34.432</td> <td> 0.000</td> <td>    0.263</td> <td>    0.294</td>\n",
       "</tr>\n",
       "<tr>\n",
       "  <th>yr_built</th>       <td>    0.5581</td> <td>    0.172</td> <td>    3.249</td> <td> 0.001</td> <td>    0.221</td> <td>    0.895</td>\n",
       "</tr>\n",
       "<tr>\n",
       "  <th>condition</th>      <td>    0.2493</td> <td>    0.013</td> <td>   19.867</td> <td> 0.000</td> <td>    0.225</td> <td>    0.274</td>\n",
       "</tr>\n",
       "<tr>\n",
       "  <th>bedrooms</th>       <td>   -0.1379</td> <td>    0.010</td> <td>  -13.886</td> <td> 0.000</td> <td>   -0.157</td> <td>   -0.118</td>\n",
       "</tr>\n",
       "<tr>\n",
       "  <th>bathrooms</th>      <td>    0.1679</td> <td>    0.011</td> <td>   14.646</td> <td> 0.000</td> <td>    0.145</td> <td>    0.190</td>\n",
       "</tr>\n",
       "<tr>\n",
       "  <th>sqft_above</th>     <td>    0.5641</td> <td>    0.008</td> <td>   67.859</td> <td> 0.000</td> <td>    0.548</td> <td>    0.580</td>\n",
       "</tr>\n",
       "<tr>\n",
       "  <th>sqft_basement</th>  <td>    0.0250</td> <td>    0.001</td> <td>   36.445</td> <td> 0.000</td> <td>    0.024</td> <td>    0.026</td>\n",
       "</tr>\n",
       "<tr>\n",
       "  <th>floors</th>         <td>   -0.0395</td> <td>    0.012</td> <td>   -3.243</td> <td> 0.001</td> <td>   -0.063</td> <td>   -0.016</td>\n",
       "</tr>\n",
       "</table>\n",
       "<table class=\"simpletable\">\n",
       "<tr>\n",
       "  <th>Omnibus:</th>       <td>1348.497</td> <th>  Durbin-Watson:     </th> <td>   2.029</td>\n",
       "</tr>\n",
       "<tr>\n",
       "  <th>Prob(Omnibus):</th>  <td> 0.000</td>  <th>  Jarque-Bera (JB):  </th> <td>6830.592</td>\n",
       "</tr>\n",
       "<tr>\n",
       "  <th>Skew:</th>           <td> 0.193</td>  <th>  Prob(JB):          </th> <td>    0.00</td>\n",
       "</tr>\n",
       "<tr>\n",
       "  <th>Kurtosis:</th>       <td> 6.056</td>  <th>  Cond. No.          </th> <td>1.21e+17</td>\n",
       "</tr>\n",
       "</table><br/><br/>Warnings:<br/>[1] Standard Errors assume that the covariance matrix of the errors is correctly specified.<br/>[2] The smallest eigenvalue is 4.07e-28. This might indicate that there are<br/>strong multicollinearity problems or that the design matrix is singular."
      ],
      "text/plain": [
       "<class 'statsmodels.iolib.summary.Summary'>\n",
       "\"\"\"\n",
       "                            OLS Regression Results                            \n",
       "==============================================================================\n",
       "Dep. Variable:                  price   R-squared:                       0.851\n",
       "Model:                            OLS   Adj. R-squared:                  0.850\n",
       "Method:                 Least Squares   F-statistic:                     1224.\n",
       "Date:                Tue, 26 Jan 2021   Prob (F-statistic):               0.00\n",
       "Time:                        20:54:17   Log-Likelihood:                 3020.1\n",
       "No. Observations:               17277   AIC:                            -5878.\n",
       "Df Residuals:                   17196   BIC:                            -5250.\n",
       "Df Model:                          80                                         \n",
       "Covariance Type:            nonrobust                                         \n",
       "==================================================================================\n",
       "                     coef    std err          t      P>|t|      [0.025      0.975]\n",
       "----------------------------------------------------------------------------------\n",
       "waterfront_Yes     1.0433      0.865      1.207      0.228      -0.651       2.738\n",
       "renovated_R        0.5542      0.431      1.286      0.198      -0.291       1.399\n",
       "renovated_RR       0.4891      0.434      1.128      0.259      -0.361       1.339\n",
       "zipcode_98001     -0.5094      0.018    -28.033      0.000      -0.545      -0.474\n",
       "zipcode_98002     -0.5102      0.021    -24.722      0.000      -0.551      -0.470\n",
       "zipcode_98003     -0.4672      0.019    -25.092      0.000      -0.504      -0.431\n",
       "zipcode_98004      0.6655      0.018     36.521      0.000       0.630       0.701\n",
       "zipcode_98005      0.2297      0.022     10.415      0.000       0.186       0.273\n",
       "zipcode_98006      0.2127      0.017     12.596      0.000       0.180       0.246\n",
       "zipcode_98007      0.1677      0.023      7.288      0.000       0.123       0.213\n",
       "zipcode_98008      0.2060      0.019     11.109      0.000       0.170       0.242\n",
       "zipcode_98010     -0.3120      0.027    -11.726      0.000      -0.364      -0.260\n",
       "zipcode_98011     -0.0690      0.020     -3.369      0.001      -0.109      -0.029\n",
       "zipcode_98014     -0.2403      0.025     -9.668      0.000      -0.289      -0.192\n",
       "zipcode_98019     -0.2234      0.022    -10.291      0.000      -0.266      -0.181\n",
       "zipcode_98022     -0.4545      0.021    -22.153      0.000      -0.495      -0.414\n",
       "zipcode_98023     -0.5148      0.017    -30.733      0.000      -0.548      -0.482\n",
       "zipcode_98024     -0.0997      0.028     -3.551      0.000      -0.155      -0.045\n",
       "zipcode_98027      0.0120      0.017      0.687      0.492      -0.022       0.046\n",
       "zipcode_98028     -0.0810      0.019     -4.327      0.000      -0.118      -0.044\n",
       "zipcode_98029      0.1336      0.019      7.218      0.000       0.097       0.170\n",
       "zipcode_98030     -0.4742      0.020    -24.073      0.000      -0.513      -0.436\n",
       "zipcode_98031     -0.4422      0.019    -22.908      0.000      -0.480      -0.404\n",
       "zipcode_98032     -0.4930      0.024    -20.957      0.000      -0.539      -0.447\n",
       "zipcode_98033      0.3241      0.017     19.123      0.000       0.291       0.357\n",
       "zipcode_98034      0.0687      0.016      4.237      0.000       0.037       0.100\n",
       "zipcode_98038     -0.3650      0.017    -21.779      0.000      -0.398      -0.332\n",
       "zipcode_98039      0.8810      0.034     26.182      0.000       0.815       0.947\n",
       "zipcode_98040      0.4565      0.019     24.136      0.000       0.419       0.494\n",
       "zipcode_98042     -0.4517      0.017    -26.781      0.000      -0.485      -0.419\n",
       "zipcode_98045     -0.1782      0.021     -8.586      0.000      -0.219      -0.137\n",
       "zipcode_98052      0.1458      0.016      8.908      0.000       0.114       0.178\n",
       "zipcode_98053      0.0665      0.018      3.634      0.000       0.031       0.102\n",
       "zipcode_98055     -0.3619      0.019    -19.383      0.000      -0.399      -0.325\n",
       "zipcode_98056     -0.1609      0.018     -9.171      0.000      -0.195      -0.126\n",
       "zipcode_98058     -0.3395      0.017    -19.825      0.000      -0.373      -0.306\n",
       "zipcode_98059     -0.1864      0.017    -10.735      0.000      -0.220      -0.152\n",
       "zipcode_98065     -0.1310      0.019     -6.981      0.000      -0.168      -0.094\n",
       "zipcode_98070     -0.0798      0.026     -3.097      0.002      -0.130      -0.029\n",
       "zipcode_98072     -0.0463      0.020     -2.351      0.019      -0.085      -0.008\n",
       "zipcode_98074      0.0942      0.017      5.475      0.000       0.060       0.128\n",
       "zipcode_98075      0.0985      0.018      5.398      0.000       0.063       0.134\n",
       "zipcode_98077     -0.0860      0.021     -4.033      0.000      -0.128      -0.044\n",
       "zipcode_98092     -0.4933      0.018    -26.847      0.000      -0.529      -0.457\n",
       "zipcode_98102      0.5653      0.024     23.626      0.000       0.518       0.612\n",
       "zipcode_98103      0.4424      0.014     31.695      0.000       0.415       0.470\n",
       "zipcode_98105      0.5331      0.018     29.287      0.000       0.497       0.569\n",
       "zipcode_98106     -0.0584      0.017     -3.404      0.001      -0.092      -0.025\n",
       "zipcode_98107      0.4651      0.018     26.536      0.000       0.431       0.499\n",
       "zipcode_98108     -0.0686      0.020     -3.409      0.001      -0.108      -0.029\n",
       "zipcode_98109      0.6145      0.024     25.390      0.000       0.567       0.662\n",
       "zipcode_98112      0.6456      0.017     38.386      0.000       0.613       0.679\n",
       "zipcode_98115      0.4005      0.014     27.880      0.000       0.372       0.429\n",
       "zipcode_98116      0.3999      0.017     24.111      0.000       0.367       0.432\n",
       "zipcode_98117      0.4259      0.014     29.526      0.000       0.398       0.454\n",
       "zipcode_98118      0.0553      0.015      3.701      0.000       0.026       0.085\n",
       "zipcode_98119      0.6241      0.019     32.195      0.000       0.586       0.662\n",
       "zipcode_98122      0.4337      0.017     25.865      0.000       0.401       0.467\n",
       "zipcode_98125      0.1354      0.016      8.283      0.000       0.103       0.167\n",
       "zipcode_98126      0.1792      0.016     10.887      0.000       0.147       0.211\n",
       "zipcode_98133      0.0073      0.016      0.456      0.649      -0.024       0.039\n",
       "zipcode_98136      0.3160      0.018     17.699      0.000       0.281       0.351\n",
       "zipcode_98144      0.2985      0.016     18.282      0.000       0.266       0.330\n",
       "zipcode_98146     -0.1368      0.018     -7.565      0.000      -0.172      -0.101\n",
       "zipcode_98148     -0.3154      0.033     -9.462      0.000      -0.381      -0.250\n",
       "zipcode_98155     -0.0249      0.016     -1.510      0.131      -0.057       0.007\n",
       "zipcode_98166     -0.1172      0.019     -6.274      0.000      -0.154      -0.081\n",
       "zipcode_98168     -0.4019      0.018    -22.090      0.000      -0.438      -0.366\n",
       "zipcode_98177      0.1754      0.019      9.354      0.000       0.139       0.212\n",
       "zipcode_98178     -0.2722      0.018    -14.959      0.000      -0.308      -0.237\n",
       "zipcode_98188     -0.3592      0.023    -15.772      0.000      -0.404      -0.315\n",
       "zipcode_98198     -0.3761      0.018    -20.493      0.000      -0.412      -0.340\n",
       "zipcode_98199      0.4657      0.017     27.811      0.000       0.433       0.499\n",
       "sqft_lot           0.0798      0.005     17.333      0.000       0.071       0.089\n",
       "sqft_lot15        -0.0120      0.005     -2.365      0.018      -0.022      -0.002\n",
       "sqft_living15      0.2785      0.008     34.432      0.000       0.263       0.294\n",
       "yr_built           0.5581      0.172      3.249      0.001       0.221       0.895\n",
       "condition          0.2493      0.013     19.867      0.000       0.225       0.274\n",
       "bedrooms          -0.1379      0.010    -13.886      0.000      -0.157      -0.118\n",
       "bathrooms          0.1679      0.011     14.646      0.000       0.145       0.190\n",
       "sqft_above         0.5641      0.008     67.859      0.000       0.548       0.580\n",
       "sqft_basement      0.0250      0.001     36.445      0.000       0.024       0.026\n",
       "floors            -0.0395      0.012     -3.243      0.001      -0.063      -0.016\n",
       "==============================================================================\n",
       "Omnibus:                     1348.497   Durbin-Watson:                   2.029\n",
       "Prob(Omnibus):                  0.000   Jarque-Bera (JB):             6830.592\n",
       "Skew:                           0.193   Prob(JB):                         0.00\n",
       "Kurtosis:                       6.056   Cond. No.                     1.21e+17\n",
       "==============================================================================\n",
       "\n",
       "Warnings:\n",
       "[1] Standard Errors assume that the covariance matrix of the errors is correctly specified.\n",
       "[2] The smallest eigenvalue is 4.07e-28. This might indicate that there are\n",
       "strong multicollinearity problems or that the design matrix is singular.\n",
       "\"\"\""
      ]
     },
     "execution_count": 29,
     "metadata": {},
     "output_type": "execute_result"
    }
   ],
   "source": [
    "ut.ols_summary(X_train2, y_train2, X2)"
   ]
  },
  {
   "cell_type": "code",
   "execution_count": 30,
   "metadata": {},
   "outputs": [],
   "source": [
    "coef_dict2 = dict(zip(X2.columns, linreg2.coef_))"
   ]
  },
  {
   "cell_type": "code",
   "execution_count": 31,
   "metadata": {},
   "outputs": [
    {
     "data": {
      "text/plain": [
       "[('renovated_R', 65007097507.7532),\n",
       " ('renovated_RR', 65007097507.688126),\n",
       " ('zipcode_98039', 422222236.4924747),\n",
       " ('zipcode_98004', 422222236.276852),\n",
       " ('zipcode_98112', 422222236.2571156),\n",
       " ('zipcode_98119', 422222236.2355836),\n",
       " ('zipcode_98109', 422222236.22602886),\n",
       " ('zipcode_98102', 422222236.1768457),\n",
       " ('zipcode_98105', 422222236.14459765),\n",
       " ('zipcode_98199', 422222236.07719636),\n",
       " ('zipcode_98107', 422222236.0765929),\n",
       " ('zipcode_98040', 422222236.0679319),\n",
       " ('zipcode_98103', 422222236.0538795),\n",
       " ('zipcode_98122', 422222236.04515904),\n",
       " ('zipcode_98117', 422222236.0373522),\n",
       " ('zipcode_98115', 422222236.0119981),\n",
       " ('zipcode_98116', 422222236.011344),\n",
       " ('zipcode_98033', 422222235.93557537),\n",
       " ('zipcode_98136', 422222235.927454),\n",
       " ('zipcode_98144', 422222235.9099758),\n",
       " ('zipcode_98005', 422222235.8410809),\n",
       " ('zipcode_98006', 422222235.82418966),\n",
       " ('zipcode_98008', 422222235.8174805),\n",
       " ('zipcode_98126', 422222235.7906594),\n",
       " ('zipcode_98177', 422222235.7868216),\n",
       " ('zipcode_98007', 422222235.7791805),\n",
       " ('zipcode_98052', 422222235.7572981),\n",
       " ('zipcode_98125', 422222235.7468443),\n",
       " ('zipcode_98029', 422222235.74508667),\n",
       " ('zipcode_98075', 422222235.7098866),\n",
       " ('zipcode_98074', 422222235.70571184),\n",
       " ('zipcode_98034', 422222235.68013346),\n",
       " ('zipcode_98053', 422222235.67790127),\n",
       " ('zipcode_98118', 422222235.6668345),\n",
       " ('zipcode_98027', 422222235.6234536),\n",
       " ('zipcode_98133', 422222235.61876065),\n",
       " ('zipcode_98155', 422222235.5865716),\n",
       " ('zipcode_98072', 422222235.56515604),\n",
       " ('zipcode_98106', 422222235.5531276),\n",
       " ('zipcode_98108', 422222235.5429182),\n",
       " ('zipcode_98011', 422222235.54250574),\n",
       " ('zipcode_98070', 422222235.53164583),\n",
       " ('zipcode_98028', 422222235.5305037),\n",
       " ('zipcode_98077', 422222235.52541345),\n",
       " ('zipcode_98024', 422222235.51176965),\n",
       " ('zipcode_98166', 422222235.4942256),\n",
       " ('zipcode_98065', 422222235.480501),\n",
       " ('zipcode_98146', 422222235.47466654),\n",
       " ('zipcode_98056', 422222235.4506073),\n",
       " ('zipcode_98045', 422222235.4332962),\n",
       " ('zipcode_98059', 422222235.42507863),\n",
       " ('zipcode_98019', 422222235.38793063),\n",
       " ('zipcode_98014', 422222235.3712265),\n",
       " ('zipcode_98178', 422222235.33923465),\n",
       " ('zipcode_98010', 422222235.2995055),\n",
       " ('zipcode_98148', 422222235.2960952),\n",
       " ('zipcode_98058', 422222235.27195144),\n",
       " ('zipcode_98188', 422222235.2522526),\n",
       " ('zipcode_98055', 422222235.2495569),\n",
       " ('zipcode_98038', 422222235.24649537),\n",
       " ('zipcode_98198', 422222235.23538303),\n",
       " ('zipcode_98168', 422222235.209536),\n",
       " ('zipcode_98031', 422222235.1692722),\n",
       " ('zipcode_98042', 422222235.15976024),\n",
       " ('zipcode_98022', 422222235.1569864),\n",
       " ('zipcode_98003', 422222235.14433795),\n",
       " ('zipcode_98030', 422222235.1372467),\n",
       " ('zipcode_98032', 422222235.11842453),\n",
       " ('zipcode_98092', 422222235.1181703),\n",
       " ('zipcode_98001', 422222235.1021302),\n",
       " ('zipcode_98002', 422222235.10133326),\n",
       " ('zipcode_98023', 422222235.0966557),\n",
       " ('sqft_above', 0.35152435302734375),\n",
       " ('sqft_basement', 0.15850448608398438),\n",
       " ('sqft_living15', 0.12989044189453125),\n",
       " ('sqft_lot', 0.0594940185546875),\n",
       " ('condition', 0.05565071105957031),\n",
       " ('bathrooms', 0.04048919677734375),\n",
       " ('yr_built', 0.012699127197265625),\n",
       " ('sqft_lot15', -0.00815582275390625),\n",
       " ('floors', -0.016004562377929688),\n",
       " ('bedrooms', -0.03076171875),\n",
       " ('waterfront_Yes', -2792926.858741651)]"
      ]
     },
     "execution_count": 31,
     "metadata": {},
     "output_type": "execute_result"
    }
   ],
   "source": [
    "sorted(coef_dict2.items(), key=lambda x: x[1], reverse=True)"
   ]
  },
  {
   "cell_type": "code",
   "execution_count": 32,
   "metadata": {},
   "outputs": [
    {
     "data": {
      "image/png": "[encoded data removed]",
      "text/plain": [
       "<Figure size 432x288 with 2 Axes>"
      ]
     },
     "metadata": {
      "needs_background": "light"
     },
     "output_type": "display_data"
    },
    {
     "data": {
      "text/plain": [
       "<matplotlib.axes._subplots.AxesSubplot at 0x7f9726a16320>"
      ]
     },
     "execution_count": 32,
     "metadata": {},
     "output_type": "execute_result"
    }
   ],
   "source": [
    "# Instantiate the linear model and visualizer\n",
    "model = Ridge()\n",
    "visualizer = ResidualsPlot(model)\n",
    "\n",
    "visualizer.fit(X_train2_scaled, y_train2)  # Fit the training data to the visualizer\n",
    "visualizer.score(X_test2_scaled, y_test2)  # Evaluate the model on the test data\n",
    "visualizer.show()"
   ]
  },
  {
   "cell_type": "markdown",
   "metadata": {},
   "source": [
    "### Model #3"
   ]
  },
  {
   "cell_type": "markdown",
   "metadata": {},
   "source": [
    "There are a lot of zipcodes, so I will see if I can cut down the number of categories that need to be one hot encoded by looking for a proxy measure of zipcode. The main thing about zipcodes as related to housing prices, I think, is the median income of the zipcode, so I will split into categories by income. I found median income by zipcode data from https://www.communitiescount.org/population-dashboard. Income category cut off numbers also come from the map on that site."
   ]
  },
  {
   "cell_type": "code",
   "execution_count": 33,
   "metadata": {},
   "outputs": [
    {
     "data": {
      "text/html": [
       "<div>\n",
       "<style scoped>\n",
       "    .dataframe tbody tr th:only-of-type {\n",
       "        vertical-align: middle;\n",
       "    }\n",
       "\n",
       "    .dataframe tbody tr th {\n",
       "        vertical-align: top;\n",
       "    }\n",
       "\n",
       "    .dataframe thead th {\n",
       "        text-align: right;\n",
       "    }\n",
       "</style>\n",
       "<table border=\"1\" class=\"dataframe\">\n",
       "  <thead>\n",
       "    <tr style=\"text-align: right;\">\n",
       "      <th></th>\n",
       "      <th>Category (Category)</th>\n",
       "      <th>Zipcode</th>\n",
       "      <th>Min. LB</th>\n",
       "      <th>Min. UB</th>\n",
       "      <th>Income</th>\n",
       "    </tr>\n",
       "  </thead>\n",
       "  <tbody>\n",
       "    <tr>\n",
       "      <th>0</th>\n",
       "      <td>Income</td>\n",
       "      <td>98354</td>\n",
       "      <td>67638.16</td>\n",
       "      <td>84901.84</td>\n",
       "      <td>76270.00</td>\n",
       "    </tr>\n",
       "    <tr>\n",
       "      <th>1</th>\n",
       "      <td>Income</td>\n",
       "      <td>98288</td>\n",
       "      <td>30357.80</td>\n",
       "      <td>54642.20</td>\n",
       "      <td>42500.00</td>\n",
       "    </tr>\n",
       "    <tr>\n",
       "      <th>2</th>\n",
       "      <td>Income</td>\n",
       "      <td>98224</td>\n",
       "      <td>19460.68</td>\n",
       "      <td>63039.32</td>\n",
       "      <td>41250.00</td>\n",
       "    </tr>\n",
       "    <tr>\n",
       "      <th>3</th>\n",
       "      <td>Income</td>\n",
       "      <td>98199</td>\n",
       "      <td>101181.84</td>\n",
       "      <td>115474.16</td>\n",
       "      <td>108328.00</td>\n",
       "    </tr>\n",
       "    <tr>\n",
       "      <th>4</th>\n",
       "      <td>Income</td>\n",
       "      <td>98198</td>\n",
       "      <td>60796.76</td>\n",
       "      <td>65771.24</td>\n",
       "      <td>63284.00</td>\n",
       "    </tr>\n",
       "  </tbody>\n",
       "</table>\n",
       "</div>"
      ],
      "text/plain": [
       "  Category (Category)  Zipcode   Min. LB   Min. UB    Income\n",
       "0              Income    98354  67638.16  84901.84  76270.00\n",
       "1              Income    98288  30357.80  54642.20  42500.00\n",
       "2              Income    98224  19460.68  63039.32  41250.00\n",
       "3              Income    98199 101181.84 115474.16 108328.00\n",
       "4              Income    98198  60796.76  65771.24  63284.00"
      ]
     },
     "execution_count": 33,
     "metadata": {},
     "output_type": "execute_result"
    }
   ],
   "source": [
    "#import dataset of King county zipcode and avg incomes\n",
    "data_zip = pd.read_csv('data/zipcode-income.csv')\n",
    "data_zip.head()"
   ]
  },
  {
   "cell_type": "code",
   "execution_count": 34,
   "metadata": {},
   "outputs": [
    {
     "data": {
      "text/html": [
       "<div>\n",
       "<style scoped>\n",
       "    .dataframe tbody tr th:only-of-type {\n",
       "        vertical-align: middle;\n",
       "    }\n",
       "\n",
       "    .dataframe tbody tr th {\n",
       "        vertical-align: top;\n",
       "    }\n",
       "\n",
       "    .dataframe thead th {\n",
       "        text-align: right;\n",
       "    }\n",
       "</style>\n",
       "<table border=\"1\" class=\"dataframe\">\n",
       "  <thead>\n",
       "    <tr style=\"text-align: right;\">\n",
       "      <th></th>\n",
       "      <th>Category (Category)</th>\n",
       "      <th>Zipcode</th>\n",
       "      <th>Min. LB</th>\n",
       "      <th>Min. UB</th>\n",
       "      <th>Income</th>\n",
       "      <th>income</th>\n",
       "    </tr>\n",
       "  </thead>\n",
       "  <tbody>\n",
       "    <tr>\n",
       "      <th>0</th>\n",
       "      <td>Income</td>\n",
       "      <td>98354</td>\n",
       "      <td>67638.16</td>\n",
       "      <td>84901.84</td>\n",
       "      <td>76270.00</td>\n",
       "      <td>1</td>\n",
       "    </tr>\n",
       "    <tr>\n",
       "      <th>1</th>\n",
       "      <td>Income</td>\n",
       "      <td>98288</td>\n",
       "      <td>30357.80</td>\n",
       "      <td>54642.20</td>\n",
       "      <td>42500.00</td>\n",
       "      <td>1</td>\n",
       "    </tr>\n",
       "    <tr>\n",
       "      <th>2</th>\n",
       "      <td>Income</td>\n",
       "      <td>98224</td>\n",
       "      <td>19460.68</td>\n",
       "      <td>63039.32</td>\n",
       "      <td>41250.00</td>\n",
       "      <td>1</td>\n",
       "    </tr>\n",
       "    <tr>\n",
       "      <th>3</th>\n",
       "      <td>Income</td>\n",
       "      <td>98199</td>\n",
       "      <td>101181.84</td>\n",
       "      <td>115474.16</td>\n",
       "      <td>108328.00</td>\n",
       "      <td>2</td>\n",
       "    </tr>\n",
       "    <tr>\n",
       "      <th>4</th>\n",
       "      <td>Income</td>\n",
       "      <td>98198</td>\n",
       "      <td>60796.76</td>\n",
       "      <td>65771.24</td>\n",
       "      <td>63284.00</td>\n",
       "      <td>1</td>\n",
       "    </tr>\n",
       "  </tbody>\n",
       "</table>\n",
       "</div>"
      ],
      "text/plain": [
       "  Category (Category)  Zipcode   Min. LB   Min. UB    Income  income\n",
       "0              Income    98354  67638.16  84901.84  76270.00       1\n",
       "1              Income    98288  30357.80  54642.20  42500.00       1\n",
       "2              Income    98224  19460.68  63039.32  41250.00       1\n",
       "3              Income    98199 101181.84 115474.16 108328.00       2\n",
       "4              Income    98198  60796.76  65771.24  63284.00       1"
      ]
     },
     "execution_count": 34,
     "metadata": {},
     "output_type": "execute_result"
    }
   ],
   "source": [
    "# create new column \"income\" that categorizes income into low (less than $79,000) '1', middle ($79,000-$120,000) '2'\n",
    "# high ($120,000-$140,000) '3' and very_high (more than $140,000) '4' based on the map associated with the dataset. \n",
    "# I chose to use numbers so that the category could be either continuous or categorical.\n",
    "data_zip['income'] = np.where(data_zip['Income']<79000, 1, \n",
    "                          np.where((data_zip['Income']>=79000) & (data_zip['Income']<120000), 2, \n",
    "                                  np.where(data_zip['Income'] >= 140000, 4, 3)))\n",
    "                                 \n",
    "data_zip.head()"
   ]
  },
  {
   "cell_type": "code",
   "execution_count": 35,
   "metadata": {},
   "outputs": [],
   "source": [
    "#add the both income features to the main dataset by maping zipcode to a dictionary of \n",
    "#zipcodes and median incomes/income levels\n",
    "zip_income_cat = dict(zip(data_zip['Zipcode'],data_zip['income']))\n",
    "data['income_cat'] = data['zipcode'].map(zip_income_cat)\n",
    "\n",
    "zip_income = dict(zip(data_zip['Zipcode'],data_zip['Income']))\n",
    "data['income'] = data['zipcode'].map(zip_income)"
   ]
  },
  {
   "cell_type": "code",
   "execution_count": 36,
   "metadata": {},
   "outputs": [
    {
     "data": {
      "text/plain": [
       "<matplotlib.axes._subplots.AxesSubplot at 0x7f97275e6cf8>"
      ]
     },
     "execution_count": 36,
     "metadata": {},
     "output_type": "execute_result"
    },
    {
     "data": {
      "image/png": "[encoded data removed]",
      "text/plain": [
       "<Figure size 432x288 with 1 Axes>"
      ]
     },
     "metadata": {
      "needs_background": "light"
     },
     "output_type": "display_data"
    }
   ],
   "source": [
    "data['income'].hist()"
   ]
  },
  {
   "cell_type": "code",
   "execution_count": 37,
   "metadata": {},
   "outputs": [
    {
     "data": {
      "text/plain": [
       "<matplotlib.axes._subplots.AxesSubplot at 0x7f9726a75b38>"
      ]
     },
     "execution_count": 37,
     "metadata": {},
     "output_type": "execute_result"
    },
    {
     "data": {
      "image/png": "[encoded data removed]",
      "text/plain": [
       "<Figure size 432x288 with 1 Axes>"
      ]
     },
     "metadata": {
      "needs_background": "light"
     },
     "output_type": "display_data"
    }
   ],
   "source": [
    "data.boxplot(column='income')"
   ]
  },
  {
   "cell_type": "code",
   "execution_count": 38,
   "metadata": {},
   "outputs": [
    {
     "name": "stdout",
     "output_type": "stream",
     "text": [
      "Training Scores: R2 0.65898, Mean Absolute Error 0.24, Root Mean Squared Error 0.31\n",
      "Testing Scores: R2 0.64296, Mean Absolute Error 0.24, Root Mean Squared Error 0.31\n"
     ]
    }
   ],
   "source": [
    "# run the model using the income column instead of zipcode\n",
    "categoricals3 = ['waterfront', 'renovated',]\n",
    "continuous3 = ['income', 'sqft_lot',  'sqft_lot15', 'sqft_living15', 'sqft_above', 'sqft_basement',\n",
    "              'yr_built', 'condition', 'price', 'bedrooms', 'floors', 'bathrooms']\n",
    "cat_data3 = data[categoricals3]\n",
    "cont_data3 = data[continuous3]     \n",
    "\n",
    "cont_data_log3 = np.log1p(cont_data3)\n",
    "\n",
    "X3, y3 = ut.ohe_concat(cat_data3, cont_data_log3, categoricals3, 'price')\n",
    "\n",
    "X_train3, X_test3, y_train3, y_test3 = train_test_split(X3, y3, test_size = 0.2, random_state=94)\n",
    "\n",
    "scaler = RobustScaler()\n",
    "X_train3_scaled = pd.DataFrame(scaler.fit_transform(X_train3))\n",
    "X_test3_scaled = pd.DataFrame(scaler.fit_transform(X_test3))\n",
    "\n",
    "#instanciate LinearRegression\n",
    "linreg3 = LinearRegression()\n",
    "#fit model\n",
    "linreg3.fit(X_train3_scaled, y_train3)\n",
    "\n",
    "#make predictions\n",
    "ut.predictions(linreg3, X_train3_scaled, X_test3_scaled, y_train3, y_test3)"
   ]
  },
  {
   "cell_type": "markdown",
   "metadata": {},
   "source": [
    "#### Results without either zip or income:\n",
    "Training Scores: R2 0.57569, Mean Absolute Error 0.27, Root Mean Squared Error 0.34  \n",
    "Testing Scores: R2 0.55569, Mean Absolute Error 0.27, Root Mean Squared Error 0.34\n",
    "#### Results with median income: \n",
    "Training Scores: R2 0.65898, Mean Absolute Error 0.24, Root Mean Squared Error 0.31  \n",
    "Testing Scores: R2 0.64296, Mean Absolute Error 0.24, Root Mean Squared Error 0.31\n",
    "#### Results with income as category:\n",
    "Training Scores: R2 0.65272, Mean Absolute Error 0.24, Root Mean Squared Error 0.31  \n",
    "Testing Scores: R2 0.63426, Mean Absolute Error 0.25, Root Mean Squared Error 0.31\n",
    "#### Results with zipcode:\n",
    "Training Scores: R2 0.85147, Mean Absolute Error 0.15, Root Mean Squared Error 0.20  \n",
    "Testing Scores: R2 0.84100, Mean Absolute Error 0.15, Root Mean Squared Error 0.21\n",
    "#### Results with zipcode and median income:\n",
    "Training Scores: R2 0.85148, Mean Absolute Error 0.15, Root Mean Squared Error 0.20  \n",
    "Testing Scores: R2 0.84105, Mean Absolute Error 0.15, Root Mean Squared Error 0.21"
   ]
  },
  {
   "cell_type": "markdown",
   "metadata": {},
   "source": [
    "Adding the zipcode to the model improves the R2 value by 0.27, while adding the median income to the model improves the R2 by 0.08 and the income categories improve it by 0.07. Thus, while the income is an important aspect of the influence that zipcode has on house prices, it only explains around 25% of the zipcode effect. "
   ]
  },
  {
   "cell_type": "markdown",
   "metadata": {},
   "source": [
    "## Model 4"
   ]
  },
  {
   "cell_type": "code",
   "execution_count": null,
   "metadata": {},
   "outputs": [],
   "source": []
  },
  {
   "cell_type": "code",
   "execution_count": 47,
   "metadata": {},
   "outputs": [],
   "source": [
    "categoricals4 = ['waterfront', 'renovated']\n",
    "continuous4 = ['income', 'sqft_lot',  'sqft_lot15', 'sqft_living15', 'sqft_above', 'sqft_basement',\n",
    "              'yr_built', 'condition', 'price', 'bedrooms', 'floors', 'bathrooms']\n",
    "cat_data4 = data[categoricals4]\n",
    "cont_data4 = data[continuous4]     \n",
    "\n",
    "cont_data_log4 = np.log1p(cont_data4)\n",
    "\n",
    "X4, y4 = ut.ohe_concat(cat_data4, cont_data_log4, categoricals4, 'price')\n",
    "\n",
    "# X_train4, X_test4, y_train4, y_test4 = train_test_split(X4, y4, test_size = 0.2, random_state=3)\n",
    "\n",
    "# scaler = RobustScaler()\n",
    "# X_train4_scaled = pd.DataFrame(scaler.fit_transform(X_train4))\n",
    "# X_test4_scaled = pd.DataFrame(scaler.fit_transform(X_test4))\n",
    "\n",
    "# #instanciate LinearRegression\n",
    "# linreg4 = LinearRegression()\n",
    "# #fit model\n",
    "# linreg4.fit(X_train3_scaled, y_train3)\n",
    "\n",
    "# #make predictions\n",
    "# ut.predictions(linreg4, X_train4_scaled, X_test4_scaled, y_train4, y_test4)"
   ]
  },
  {
   "cell_type": "code",
   "execution_count": null,
   "metadata": {},
   "outputs": [],
   "source": []
  },
  {
   "cell_type": "code",
   "execution_count": null,
   "metadata": {},
   "outputs": [],
   "source": []
  },
  {
   "cell_type": "code",
   "execution_count": 48,
   "metadata": {},
   "outputs": [
    {
     "name": "stdout",
     "output_type": "stream",
     "text": [
      "[False False False False False False False False False  True False False\n",
      " False False]\n",
      "[14 12 13  3 11  8  4  5 10  1  7  6  9  2]\n"
     ]
    }
   ],
   "source": [
    "y_data = y4\n",
    "X_data = X4\n",
    "y_dataset = y_data.values\n",
    "X_dataset = X_data.values\n",
    "\n",
    "linreg4 = LinearRegression()\n",
    "# create the RFE model \n",
    "# and select attributes\n",
    "rfe = RFE(linreg4, 1)\n",
    "rfe = rfe.fit(X_dataset.data, y_dataset)\n",
    "# print summaries for the selection of attributes\n",
    "print(rfe.support_)\n",
    "print(rfe.ranking_)"
   ]
  },
  {
   "cell_type": "code",
   "execution_count": 49,
   "metadata": {},
   "outputs": [],
   "source": [
    "rfe_rank = dict(zip(X4.columns, rfe.ranking_))"
   ]
  },
  {
   "cell_type": "code",
   "execution_count": 50,
   "metadata": {
    "scrolled": true
   },
   "outputs": [
    {
     "data": {
      "text/plain": [
       "[('yr_built', 1),\n",
       " ('bathrooms', 2),\n",
       " ('income', 3),\n",
       " ('sqft_living15', 4),\n",
       " ('sqft_above', 5),\n",
       " ('bedrooms', 6),\n",
       " ('condition', 7),\n",
       " ('sqft_lot15', 8),\n",
       " ('floors', 9),\n",
       " ('sqft_basement', 10),\n",
       " ('sqft_lot', 11),\n",
       " ('renovated_R', 12),\n",
       " ('renovated_RR', 13),\n",
       " ('waterfront_Yes', 14)]"
      ]
     },
     "execution_count": 50,
     "metadata": {},
     "output_type": "execute_result"
    }
   ],
   "source": [
    "sorted(rfe_rank.items(), key=lambda x: x[1])\n"
   ]
  },
  {
   "cell_type": "markdown",
   "metadata": {},
   "source": [
    "## Model 5"
   ]
  },
  {
   "cell_type": "code",
   "execution_count": 64,
   "metadata": {},
   "outputs": [
    {
     "name": "stdout",
     "output_type": "stream",
     "text": [
      "Training Scores: R2 0.51420, Mean Absolute Error 157105.85, Root Mean Squared Error 253448.78\n",
      "Testing Scores: R2 0.51566, Mean Absolute Error 159486.14, Root Mean Squared Error 265732.43\n"
     ]
    }
   ],
   "source": [
    "categoricals5 = ['waterfront', 'renovated']\n",
    "continuous5 = ['income', 'sqft_lot',  'sqft_lot15', 'sqft_living15', 'sqft_above', 'sqft_basement',\n",
    "              'yr_built', 'condition', 'price', 'bedrooms', 'floors', 'bathrooms']\n",
    "cat_data5 = data[categoricals5]\n",
    "cont_data5 = data[continuous5]     \n",
    "\n",
    "cont_log5 = np.log1p(cont_data5)\n",
    "\n",
    "X5, y5 = ut.ohe_concat(cat_data5, cont_log5, categoricals5, 'price')\n",
    "\n",
    "y_exp5 = np.expm1(y5)\n",
    "\n",
    "\n",
    "X_train5, X_test5, y_train5, y_test5 = train_test_split(X5, y_exp5, test_size = 0.2, random_state=4)\n",
    "\n",
    "scaler = RobustScaler()\n",
    "X_train5_scaled = pd.DataFrame(scaler.fit_transform(X_train5))\n",
    "X_test5_scaled = pd.DataFrame(scaler.fit_transform(X_test5))\n",
    "\n",
    "#instanciate LinearRegression\n",
    "linreg5 = LinearRegression()\n",
    "#fit model\n",
    "linreg5.fit(X_train5_scaled, y_train5)\n",
    "\n",
    "\n",
    "\n",
    "#make predictions\n",
    "ut.predictions(linreg5, X_train5_scaled, X_test5_scaled, y_train5, y_test5)"
   ]
  },
  {
   "cell_type": "code",
   "execution_count": 65,
   "metadata": {},
   "outputs": [
    {
     "data": {
      "text/plain": [
       "[('sqft_above', 277668.5504316084),\n",
       " ('sqft_basement', 185867.86715991818),\n",
       " ('income', 106729.1362415707),\n",
       " ('sqft_living15', 80064.8536187987),\n",
       " ('bathrooms', 45962.94434809691),\n",
       " ('renovated_R', 26524.815826563696),\n",
       " ('floors', 26110.18561213841),\n",
       " ('condition', 16474.2010543727),\n",
       " ('waterfront_Yes', 0.0),\n",
       " ('sqft_lot', -8140.354792497105),\n",
       " ('sqft_lot15', -14574.371643144446),\n",
       " ('renovated_RR', -26524.815826563696),\n",
       " ('bedrooms', -58142.51321243638),\n",
       " ('yr_built', -164403.16643626557)]"
      ]
     },
     "execution_count": 65,
     "metadata": {},
     "output_type": "execute_result"
    }
   ],
   "source": [
    "coef_dict5 = dict(zip(X5.columns, linreg5.coef_))\n",
    "sorted(coef_dict5.items(), key=lambda x: x[1], reverse=True)"
   ]
  },
  {
   "cell_type": "markdown",
   "metadata": {},
   "source": [
    "## Modeling\n",
    "\n",
    "Describe and justify the process for analyzing or modeling the data.\n",
    "\n",
    "Questions to consider:\n",
    "\n",
    "- How did you analyze or model the data?\n",
    "- How did you iterate on your initial approach to make it better?\n",
    "- Why are these choices appropriate given the data and the business problem?"
   ]
  },
  {
   "cell_type": "code",
   "execution_count": 45,
   "metadata": {},
   "outputs": [],
   "source": [
    "# code here to do your second, more refined model"
   ]
  },
  {
   "cell_type": "code",
   "execution_count": 46,
   "metadata": {},
   "outputs": [],
   "source": [
    "# code here to iteratively improve your models"
   ]
  },
  {
   "cell_type": "code",
   "execution_count": null,
   "metadata": {},
   "outputs": [],
   "source": []
  },
  {
   "cell_type": "markdown",
   "metadata": {},
   "source": [
    "## Evaluation\n",
    "\n",
    "Evaluate how well your work solves the stated business problem.\n",
    "\n",
    "Questions to consider:\n",
    "\n",
    "- How do you interpret the results?\n",
    "- How well does your model fit your data? How much better is this than your baseline model?\n",
    "- How well does your model/data fit any modeling assumptions?\n",
    "- How confident are you that your results would generalize beyond the data you have?\n",
    "- How confident are you that this model would benefit the business if put into use?\n",
    "\n",
    "Please note - you should be evaluating each model as you move through, and be sure to evaluate your models consistently."
   ]
  },
  {
   "cell_type": "markdown",
   "metadata": {},
   "source": [
    "## Conclusions\n",
    "\n",
    "Provide your conclusions about the work you've done, including any limitations or next steps.\n",
    "\n",
    "Questions to consider:\n",
    "\n",
    "- What would you recommend the business do as a result of this work?\n",
    "- What are some reasons why your analysis might not fully solve the business problem?\n",
    "- What else could you do in the future to improve this project (future work)?\n"
   ]
  }
 ],
 "metadata": {
  "kernelspec": {
   "display_name": "learn-env",
   "language": "python",
   "name": "learn-env"
  },
  "language_info": {
   "codemirror_mode": {
    "name": "ipython",
    "version": 3
   },
   "file_extension": ".py",
   "mimetype": "text/x-python",
   "name": "python",
   "nbconvert_exporter": "python",
   "pygments_lexer": "ipython3",
   "version": "3.6.9"
  }
 },
 "nbformat": 4,
 "nbformat_minor": 4
}
